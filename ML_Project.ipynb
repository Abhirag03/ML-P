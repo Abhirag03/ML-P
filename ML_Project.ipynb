{
  "nbformat": 4,
  "nbformat_minor": 0,
  "metadata": {
    "colab": {
      "provenance": []
    },
    "kernelspec": {
      "name": "python3",
      "display_name": "Python 3"
    },
    "language_info": {
      "name": "python"
    }
  },
  "cells": [
    {
      "cell_type": "markdown",
      "source": [
        "***AUTOMOBILE** **MILEAGE** **PREDICTION**"
      ],
      "metadata": {
        "id": "9exnLjcinumG"
      }
    },
    {
      "cell_type": "markdown",
      "source": [
        "This dataset predict the mileage of a particular vehicle"
      ],
      "metadata": {
        "id": "BtP_fbvjpYW1"
      }
    },
    {
      "cell_type": "markdown",
      "source": [
        "The data concerns city-cycle fuel consumption in miles per gallon, to be predicted in terms of 3 multivalued discrete and 5 continuous attributes"
      ],
      "metadata": {
        "id": "ZGm_peP1oUUG"
      }
    },
    {
      "cell_type": "markdown",
      "source": [
        "The dataset consists of 398 entries and 9 columns."
      ],
      "metadata": {
        "id": "MToZh1RMqPn1"
      }
    },
    {
      "cell_type": "markdown",
      "source": [
        "**COLUMNS** **OF** **THE** **DATASET**\n",
        "\n",
        "1.mpg: Miles per gallon (target variable).\n",
        "\n",
        "2.cylinders: Number of cylinders in the car's engine.\n",
        "\n",
        "3.displacement: Engine displacement in cubic inches.\n",
        "\n",
        "4.horsepower: Engine horsepower (currently stored as an object type, likely due to some non-numeric values).\n",
        "\n",
        "5.weight: Weight of the car.\n",
        "\n",
        "6.acceleration: Time taken to accelerate from 0 to 60 mph.\n",
        "\n",
        "7.model year: Year of the car model.\n",
        "\n",
        "8.origin: Origin of the car (coded as integers).\n",
        "\n",
        "9.car name: Name of the car (categorical, not needed for model building)."
      ],
      "metadata": {
        "id": "WbngcL-LokVG"
      }
    },
    {
      "cell_type": "markdown",
      "source": [
        "**DATA** **ANALYSATION**"
      ],
      "metadata": {
        "id": "NCGGTtWqq-yQ"
      }
    },
    {
      "cell_type": "code",
      "execution_count": null,
      "metadata": {
        "id": "bDfJLG5PAs9A"
      },
      "outputs": [],
      "source": [
        "import pandas as pd\n",
        "import numpy as np\n",
        "import matplotlib.pyplot as plt\n",
        "import seaborn as sns"
      ]
    },
    {
      "cell_type": "code",
      "source": [
        "df = pd.read_csv('/content/drive/MyDrive/DATA SCIENCE/PROJECT/ML PROJECT/auto-mpg.csv')"
      ],
      "metadata": {
        "id": "8mc6TdlwBF_M"
      },
      "execution_count": null,
      "outputs": []
    },
    {
      "cell_type": "code",
      "source": [
        "df.head()"
      ],
      "metadata": {
        "colab": {
          "base_uri": "https://localhost:8080/",
          "height": 206
        },
        "id": "eM4ZE60aBJPP",
        "outputId": "bc2bb42c-50f7-487a-c6c6-e075f58e3072"
      },
      "execution_count": null,
      "outputs": [
        {
          "output_type": "execute_result",
          "data": {
            "text/plain": [
              "    mpg  cylinders  displacement horsepower  weight  acceleration  model year  \\\n",
              "0  18.0          8         307.0        130    3504          12.0          70   \n",
              "1  15.0          8         350.0        165    3693          11.5          70   \n",
              "2  18.0          8         318.0        150    3436          11.0          70   \n",
              "3  16.0          8         304.0        150    3433          12.0          70   \n",
              "4  17.0          8         302.0        140    3449          10.5          70   \n",
              "\n",
              "   origin                   car name  \n",
              "0       1  chevrolet chevelle malibu  \n",
              "1       1          buick skylark 320  \n",
              "2       1         plymouth satellite  \n",
              "3       1              amc rebel sst  \n",
              "4       1                ford torino  "
            ],
            "text/html": [
              "\n",
              "  <div id=\"df-2828d024-bff2-4133-b791-2b804bb38894\" class=\"colab-df-container\">\n",
              "    <div>\n",
              "<style scoped>\n",
              "    .dataframe tbody tr th:only-of-type {\n",
              "        vertical-align: middle;\n",
              "    }\n",
              "\n",
              "    .dataframe tbody tr th {\n",
              "        vertical-align: top;\n",
              "    }\n",
              "\n",
              "    .dataframe thead th {\n",
              "        text-align: right;\n",
              "    }\n",
              "</style>\n",
              "<table border=\"1\" class=\"dataframe\">\n",
              "  <thead>\n",
              "    <tr style=\"text-align: right;\">\n",
              "      <th></th>\n",
              "      <th>mpg</th>\n",
              "      <th>cylinders</th>\n",
              "      <th>displacement</th>\n",
              "      <th>horsepower</th>\n",
              "      <th>weight</th>\n",
              "      <th>acceleration</th>\n",
              "      <th>model year</th>\n",
              "      <th>origin</th>\n",
              "      <th>car name</th>\n",
              "    </tr>\n",
              "  </thead>\n",
              "  <tbody>\n",
              "    <tr>\n",
              "      <th>0</th>\n",
              "      <td>18.0</td>\n",
              "      <td>8</td>\n",
              "      <td>307.0</td>\n",
              "      <td>130</td>\n",
              "      <td>3504</td>\n",
              "      <td>12.0</td>\n",
              "      <td>70</td>\n",
              "      <td>1</td>\n",
              "      <td>chevrolet chevelle malibu</td>\n",
              "    </tr>\n",
              "    <tr>\n",
              "      <th>1</th>\n",
              "      <td>15.0</td>\n",
              "      <td>8</td>\n",
              "      <td>350.0</td>\n",
              "      <td>165</td>\n",
              "      <td>3693</td>\n",
              "      <td>11.5</td>\n",
              "      <td>70</td>\n",
              "      <td>1</td>\n",
              "      <td>buick skylark 320</td>\n",
              "    </tr>\n",
              "    <tr>\n",
              "      <th>2</th>\n",
              "      <td>18.0</td>\n",
              "      <td>8</td>\n",
              "      <td>318.0</td>\n",
              "      <td>150</td>\n",
              "      <td>3436</td>\n",
              "      <td>11.0</td>\n",
              "      <td>70</td>\n",
              "      <td>1</td>\n",
              "      <td>plymouth satellite</td>\n",
              "    </tr>\n",
              "    <tr>\n",
              "      <th>3</th>\n",
              "      <td>16.0</td>\n",
              "      <td>8</td>\n",
              "      <td>304.0</td>\n",
              "      <td>150</td>\n",
              "      <td>3433</td>\n",
              "      <td>12.0</td>\n",
              "      <td>70</td>\n",
              "      <td>1</td>\n",
              "      <td>amc rebel sst</td>\n",
              "    </tr>\n",
              "    <tr>\n",
              "      <th>4</th>\n",
              "      <td>17.0</td>\n",
              "      <td>8</td>\n",
              "      <td>302.0</td>\n",
              "      <td>140</td>\n",
              "      <td>3449</td>\n",
              "      <td>10.5</td>\n",
              "      <td>70</td>\n",
              "      <td>1</td>\n",
              "      <td>ford torino</td>\n",
              "    </tr>\n",
              "  </tbody>\n",
              "</table>\n",
              "</div>\n",
              "    <div class=\"colab-df-buttons\">\n",
              "\n",
              "  <div class=\"colab-df-container\">\n",
              "    <button class=\"colab-df-convert\" onclick=\"convertToInteractive('df-2828d024-bff2-4133-b791-2b804bb38894')\"\n",
              "            title=\"Convert this dataframe to an interactive table.\"\n",
              "            style=\"display:none;\">\n",
              "\n",
              "  <svg xmlns=\"http://www.w3.org/2000/svg\" height=\"24px\" viewBox=\"0 -960 960 960\">\n",
              "    <path d=\"M120-120v-720h720v720H120Zm60-500h600v-160H180v160Zm220 220h160v-160H400v160Zm0 220h160v-160H400v160ZM180-400h160v-160H180v160Zm440 0h160v-160H620v160ZM180-180h160v-160H180v160Zm440 0h160v-160H620v160Z\"/>\n",
              "  </svg>\n",
              "    </button>\n",
              "\n",
              "  <style>\n",
              "    .colab-df-container {\n",
              "      display:flex;\n",
              "      gap: 12px;\n",
              "    }\n",
              "\n",
              "    .colab-df-convert {\n",
              "      background-color: #E8F0FE;\n",
              "      border: none;\n",
              "      border-radius: 50%;\n",
              "      cursor: pointer;\n",
              "      display: none;\n",
              "      fill: #1967D2;\n",
              "      height: 32px;\n",
              "      padding: 0 0 0 0;\n",
              "      width: 32px;\n",
              "    }\n",
              "\n",
              "    .colab-df-convert:hover {\n",
              "      background-color: #E2EBFA;\n",
              "      box-shadow: 0px 1px 2px rgba(60, 64, 67, 0.3), 0px 1px 3px 1px rgba(60, 64, 67, 0.15);\n",
              "      fill: #174EA6;\n",
              "    }\n",
              "\n",
              "    .colab-df-buttons div {\n",
              "      margin-bottom: 4px;\n",
              "    }\n",
              "\n",
              "    [theme=dark] .colab-df-convert {\n",
              "      background-color: #3B4455;\n",
              "      fill: #D2E3FC;\n",
              "    }\n",
              "\n",
              "    [theme=dark] .colab-df-convert:hover {\n",
              "      background-color: #434B5C;\n",
              "      box-shadow: 0px 1px 3px 1px rgba(0, 0, 0, 0.15);\n",
              "      filter: drop-shadow(0px 1px 2px rgba(0, 0, 0, 0.3));\n",
              "      fill: #FFFFFF;\n",
              "    }\n",
              "  </style>\n",
              "\n",
              "    <script>\n",
              "      const buttonEl =\n",
              "        document.querySelector('#df-2828d024-bff2-4133-b791-2b804bb38894 button.colab-df-convert');\n",
              "      buttonEl.style.display =\n",
              "        google.colab.kernel.accessAllowed ? 'block' : 'none';\n",
              "\n",
              "      async function convertToInteractive(key) {\n",
              "        const element = document.querySelector('#df-2828d024-bff2-4133-b791-2b804bb38894');\n",
              "        const dataTable =\n",
              "          await google.colab.kernel.invokeFunction('convertToInteractive',\n",
              "                                                    [key], {});\n",
              "        if (!dataTable) return;\n",
              "\n",
              "        const docLinkHtml = 'Like what you see? Visit the ' +\n",
              "          '<a target=\"_blank\" href=https://colab.research.google.com/notebooks/data_table.ipynb>data table notebook</a>'\n",
              "          + ' to learn more about interactive tables.';\n",
              "        element.innerHTML = '';\n",
              "        dataTable['output_type'] = 'display_data';\n",
              "        await google.colab.output.renderOutput(dataTable, element);\n",
              "        const docLink = document.createElement('div');\n",
              "        docLink.innerHTML = docLinkHtml;\n",
              "        element.appendChild(docLink);\n",
              "      }\n",
              "    </script>\n",
              "  </div>\n",
              "\n",
              "\n",
              "<div id=\"df-563dbe50-b45a-4bb3-984f-1ad3cdf7c4ec\">\n",
              "  <button class=\"colab-df-quickchart\" onclick=\"quickchart('df-563dbe50-b45a-4bb3-984f-1ad3cdf7c4ec')\"\n",
              "            title=\"Suggest charts\"\n",
              "            style=\"display:none;\">\n",
              "\n",
              "<svg xmlns=\"http://www.w3.org/2000/svg\" height=\"24px\"viewBox=\"0 0 24 24\"\n",
              "     width=\"24px\">\n",
              "    <g>\n",
              "        <path d=\"M19 3H5c-1.1 0-2 .9-2 2v14c0 1.1.9 2 2 2h14c1.1 0 2-.9 2-2V5c0-1.1-.9-2-2-2zM9 17H7v-7h2v7zm4 0h-2V7h2v10zm4 0h-2v-4h2v4z\"/>\n",
              "    </g>\n",
              "</svg>\n",
              "  </button>\n",
              "\n",
              "<style>\n",
              "  .colab-df-quickchart {\n",
              "      --bg-color: #E8F0FE;\n",
              "      --fill-color: #1967D2;\n",
              "      --hover-bg-color: #E2EBFA;\n",
              "      --hover-fill-color: #174EA6;\n",
              "      --disabled-fill-color: #AAA;\n",
              "      --disabled-bg-color: #DDD;\n",
              "  }\n",
              "\n",
              "  [theme=dark] .colab-df-quickchart {\n",
              "      --bg-color: #3B4455;\n",
              "      --fill-color: #D2E3FC;\n",
              "      --hover-bg-color: #434B5C;\n",
              "      --hover-fill-color: #FFFFFF;\n",
              "      --disabled-bg-color: #3B4455;\n",
              "      --disabled-fill-color: #666;\n",
              "  }\n",
              "\n",
              "  .colab-df-quickchart {\n",
              "    background-color: var(--bg-color);\n",
              "    border: none;\n",
              "    border-radius: 50%;\n",
              "    cursor: pointer;\n",
              "    display: none;\n",
              "    fill: var(--fill-color);\n",
              "    height: 32px;\n",
              "    padding: 0;\n",
              "    width: 32px;\n",
              "  }\n",
              "\n",
              "  .colab-df-quickchart:hover {\n",
              "    background-color: var(--hover-bg-color);\n",
              "    box-shadow: 0 1px 2px rgba(60, 64, 67, 0.3), 0 1px 3px 1px rgba(60, 64, 67, 0.15);\n",
              "    fill: var(--button-hover-fill-color);\n",
              "  }\n",
              "\n",
              "  .colab-df-quickchart-complete:disabled,\n",
              "  .colab-df-quickchart-complete:disabled:hover {\n",
              "    background-color: var(--disabled-bg-color);\n",
              "    fill: var(--disabled-fill-color);\n",
              "    box-shadow: none;\n",
              "  }\n",
              "\n",
              "  .colab-df-spinner {\n",
              "    border: 2px solid var(--fill-color);\n",
              "    border-color: transparent;\n",
              "    border-bottom-color: var(--fill-color);\n",
              "    animation:\n",
              "      spin 1s steps(1) infinite;\n",
              "  }\n",
              "\n",
              "  @keyframes spin {\n",
              "    0% {\n",
              "      border-color: transparent;\n",
              "      border-bottom-color: var(--fill-color);\n",
              "      border-left-color: var(--fill-color);\n",
              "    }\n",
              "    20% {\n",
              "      border-color: transparent;\n",
              "      border-left-color: var(--fill-color);\n",
              "      border-top-color: var(--fill-color);\n",
              "    }\n",
              "    30% {\n",
              "      border-color: transparent;\n",
              "      border-left-color: var(--fill-color);\n",
              "      border-top-color: var(--fill-color);\n",
              "      border-right-color: var(--fill-color);\n",
              "    }\n",
              "    40% {\n",
              "      border-color: transparent;\n",
              "      border-right-color: var(--fill-color);\n",
              "      border-top-color: var(--fill-color);\n",
              "    }\n",
              "    60% {\n",
              "      border-color: transparent;\n",
              "      border-right-color: var(--fill-color);\n",
              "    }\n",
              "    80% {\n",
              "      border-color: transparent;\n",
              "      border-right-color: var(--fill-color);\n",
              "      border-bottom-color: var(--fill-color);\n",
              "    }\n",
              "    90% {\n",
              "      border-color: transparent;\n",
              "      border-bottom-color: var(--fill-color);\n",
              "    }\n",
              "  }\n",
              "</style>\n",
              "\n",
              "  <script>\n",
              "    async function quickchart(key) {\n",
              "      const quickchartButtonEl =\n",
              "        document.querySelector('#' + key + ' button');\n",
              "      quickchartButtonEl.disabled = true;  // To prevent multiple clicks.\n",
              "      quickchartButtonEl.classList.add('colab-df-spinner');\n",
              "      try {\n",
              "        const charts = await google.colab.kernel.invokeFunction(\n",
              "            'suggestCharts', [key], {});\n",
              "      } catch (error) {\n",
              "        console.error('Error during call to suggestCharts:', error);\n",
              "      }\n",
              "      quickchartButtonEl.classList.remove('colab-df-spinner');\n",
              "      quickchartButtonEl.classList.add('colab-df-quickchart-complete');\n",
              "    }\n",
              "    (() => {\n",
              "      let quickchartButtonEl =\n",
              "        document.querySelector('#df-563dbe50-b45a-4bb3-984f-1ad3cdf7c4ec button');\n",
              "      quickchartButtonEl.style.display =\n",
              "        google.colab.kernel.accessAllowed ? 'block' : 'none';\n",
              "    })();\n",
              "  </script>\n",
              "</div>\n",
              "\n",
              "    </div>\n",
              "  </div>\n"
            ],
            "application/vnd.google.colaboratory.intrinsic+json": {
              "type": "dataframe",
              "variable_name": "df",
              "summary": "{\n  \"name\": \"df\",\n  \"rows\": 398,\n  \"fields\": [\n    {\n      \"column\": \"mpg\",\n      \"properties\": {\n        \"dtype\": \"number\",\n        \"std\": 7.815984312565782,\n        \"min\": 9.0,\n        \"max\": 46.6,\n        \"num_unique_values\": 129,\n        \"samples\": [\n          17.7,\n          30.5,\n          30.0\n        ],\n        \"semantic_type\": \"\",\n        \"description\": \"\"\n      }\n    },\n    {\n      \"column\": \"cylinders\",\n      \"properties\": {\n        \"dtype\": \"number\",\n        \"std\": 1,\n        \"min\": 3,\n        \"max\": 8,\n        \"num_unique_values\": 5,\n        \"samples\": [\n          4,\n          5,\n          6\n        ],\n        \"semantic_type\": \"\",\n        \"description\": \"\"\n      }\n    },\n    {\n      \"column\": \"displacement\",\n      \"properties\": {\n        \"dtype\": \"number\",\n        \"std\": 104.26983817119591,\n        \"min\": 68.0,\n        \"max\": 455.0,\n        \"num_unique_values\": 82,\n        \"samples\": [\n          122.0,\n          307.0,\n          360.0\n        ],\n        \"semantic_type\": \"\",\n        \"description\": \"\"\n      }\n    },\n    {\n      \"column\": \"horsepower\",\n      \"properties\": {\n        \"dtype\": \"category\",\n        \"num_unique_values\": 94,\n        \"samples\": [\n          \"112\",\n          \"?\",\n          \"78\"\n        ],\n        \"semantic_type\": \"\",\n        \"description\": \"\"\n      }\n    },\n    {\n      \"column\": \"weight\",\n      \"properties\": {\n        \"dtype\": \"number\",\n        \"std\": 846,\n        \"min\": 1613,\n        \"max\": 5140,\n        \"num_unique_values\": 351,\n        \"samples\": [\n          3730,\n          1995,\n          2215\n        ],\n        \"semantic_type\": \"\",\n        \"description\": \"\"\n      }\n    },\n    {\n      \"column\": \"acceleration\",\n      \"properties\": {\n        \"dtype\": \"number\",\n        \"std\": 2.757688929812676,\n        \"min\": 8.0,\n        \"max\": 24.8,\n        \"num_unique_values\": 95,\n        \"samples\": [\n          14.7,\n          18.0,\n          14.3\n        ],\n        \"semantic_type\": \"\",\n        \"description\": \"\"\n      }\n    },\n    {\n      \"column\": \"model year\",\n      \"properties\": {\n        \"dtype\": \"number\",\n        \"std\": 3,\n        \"min\": 70,\n        \"max\": 82,\n        \"num_unique_values\": 13,\n        \"samples\": [\n          81,\n          79,\n          70\n        ],\n        \"semantic_type\": \"\",\n        \"description\": \"\"\n      }\n    },\n    {\n      \"column\": \"origin\",\n      \"properties\": {\n        \"dtype\": \"number\",\n        \"std\": 0,\n        \"min\": 1,\n        \"max\": 3,\n        \"num_unique_values\": 3,\n        \"samples\": [\n          1,\n          3,\n          2\n        ],\n        \"semantic_type\": \"\",\n        \"description\": \"\"\n      }\n    },\n    {\n      \"column\": \"car name\",\n      \"properties\": {\n        \"dtype\": \"string\",\n        \"num_unique_values\": 305,\n        \"samples\": [\n          \"mazda rx-4\",\n          \"ford f108\",\n          \"buick century luxus (sw)\"\n        ],\n        \"semantic_type\": \"\",\n        \"description\": \"\"\n      }\n    }\n  ]\n}"
            }
          },
          "metadata": {},
          "execution_count": 3
        }
      ]
    },
    {
      "cell_type": "code",
      "source": [
        "df.tail()"
      ],
      "metadata": {
        "colab": {
          "base_uri": "https://localhost:8080/",
          "height": 206
        },
        "id": "x3Og_pq3BTet",
        "outputId": "deeb5d86-a0ee-42a9-8154-3be491c92c9f"
      },
      "execution_count": null,
      "outputs": [
        {
          "output_type": "execute_result",
          "data": {
            "text/plain": [
              "      mpg  cylinders  displacement horsepower  weight  acceleration  \\\n",
              "393  27.0          4         140.0         86    2790          15.6   \n",
              "394  44.0          4          97.0         52    2130          24.6   \n",
              "395  32.0          4         135.0         84    2295          11.6   \n",
              "396  28.0          4         120.0         79    2625          18.6   \n",
              "397  31.0          4         119.0         82    2720          19.4   \n",
              "\n",
              "     model year  origin         car name  \n",
              "393          82       1  ford mustang gl  \n",
              "394          82       2        vw pickup  \n",
              "395          82       1    dodge rampage  \n",
              "396          82       1      ford ranger  \n",
              "397          82       1       chevy s-10  "
            ],
            "text/html": [
              "\n",
              "  <div id=\"df-ea4aceaa-88e2-4df4-a0ec-f456ac65f76d\" class=\"colab-df-container\">\n",
              "    <div>\n",
              "<style scoped>\n",
              "    .dataframe tbody tr th:only-of-type {\n",
              "        vertical-align: middle;\n",
              "    }\n",
              "\n",
              "    .dataframe tbody tr th {\n",
              "        vertical-align: top;\n",
              "    }\n",
              "\n",
              "    .dataframe thead th {\n",
              "        text-align: right;\n",
              "    }\n",
              "</style>\n",
              "<table border=\"1\" class=\"dataframe\">\n",
              "  <thead>\n",
              "    <tr style=\"text-align: right;\">\n",
              "      <th></th>\n",
              "      <th>mpg</th>\n",
              "      <th>cylinders</th>\n",
              "      <th>displacement</th>\n",
              "      <th>horsepower</th>\n",
              "      <th>weight</th>\n",
              "      <th>acceleration</th>\n",
              "      <th>model year</th>\n",
              "      <th>origin</th>\n",
              "      <th>car name</th>\n",
              "    </tr>\n",
              "  </thead>\n",
              "  <tbody>\n",
              "    <tr>\n",
              "      <th>393</th>\n",
              "      <td>27.0</td>\n",
              "      <td>4</td>\n",
              "      <td>140.0</td>\n",
              "      <td>86</td>\n",
              "      <td>2790</td>\n",
              "      <td>15.6</td>\n",
              "      <td>82</td>\n",
              "      <td>1</td>\n",
              "      <td>ford mustang gl</td>\n",
              "    </tr>\n",
              "    <tr>\n",
              "      <th>394</th>\n",
              "      <td>44.0</td>\n",
              "      <td>4</td>\n",
              "      <td>97.0</td>\n",
              "      <td>52</td>\n",
              "      <td>2130</td>\n",
              "      <td>24.6</td>\n",
              "      <td>82</td>\n",
              "      <td>2</td>\n",
              "      <td>vw pickup</td>\n",
              "    </tr>\n",
              "    <tr>\n",
              "      <th>395</th>\n",
              "      <td>32.0</td>\n",
              "      <td>4</td>\n",
              "      <td>135.0</td>\n",
              "      <td>84</td>\n",
              "      <td>2295</td>\n",
              "      <td>11.6</td>\n",
              "      <td>82</td>\n",
              "      <td>1</td>\n",
              "      <td>dodge rampage</td>\n",
              "    </tr>\n",
              "    <tr>\n",
              "      <th>396</th>\n",
              "      <td>28.0</td>\n",
              "      <td>4</td>\n",
              "      <td>120.0</td>\n",
              "      <td>79</td>\n",
              "      <td>2625</td>\n",
              "      <td>18.6</td>\n",
              "      <td>82</td>\n",
              "      <td>1</td>\n",
              "      <td>ford ranger</td>\n",
              "    </tr>\n",
              "    <tr>\n",
              "      <th>397</th>\n",
              "      <td>31.0</td>\n",
              "      <td>4</td>\n",
              "      <td>119.0</td>\n",
              "      <td>82</td>\n",
              "      <td>2720</td>\n",
              "      <td>19.4</td>\n",
              "      <td>82</td>\n",
              "      <td>1</td>\n",
              "      <td>chevy s-10</td>\n",
              "    </tr>\n",
              "  </tbody>\n",
              "</table>\n",
              "</div>\n",
              "    <div class=\"colab-df-buttons\">\n",
              "\n",
              "  <div class=\"colab-df-container\">\n",
              "    <button class=\"colab-df-convert\" onclick=\"convertToInteractive('df-ea4aceaa-88e2-4df4-a0ec-f456ac65f76d')\"\n",
              "            title=\"Convert this dataframe to an interactive table.\"\n",
              "            style=\"display:none;\">\n",
              "\n",
              "  <svg xmlns=\"http://www.w3.org/2000/svg\" height=\"24px\" viewBox=\"0 -960 960 960\">\n",
              "    <path d=\"M120-120v-720h720v720H120Zm60-500h600v-160H180v160Zm220 220h160v-160H400v160Zm0 220h160v-160H400v160ZM180-400h160v-160H180v160Zm440 0h160v-160H620v160ZM180-180h160v-160H180v160Zm440 0h160v-160H620v160Z\"/>\n",
              "  </svg>\n",
              "    </button>\n",
              "\n",
              "  <style>\n",
              "    .colab-df-container {\n",
              "      display:flex;\n",
              "      gap: 12px;\n",
              "    }\n",
              "\n",
              "    .colab-df-convert {\n",
              "      background-color: #E8F0FE;\n",
              "      border: none;\n",
              "      border-radius: 50%;\n",
              "      cursor: pointer;\n",
              "      display: none;\n",
              "      fill: #1967D2;\n",
              "      height: 32px;\n",
              "      padding: 0 0 0 0;\n",
              "      width: 32px;\n",
              "    }\n",
              "\n",
              "    .colab-df-convert:hover {\n",
              "      background-color: #E2EBFA;\n",
              "      box-shadow: 0px 1px 2px rgba(60, 64, 67, 0.3), 0px 1px 3px 1px rgba(60, 64, 67, 0.15);\n",
              "      fill: #174EA6;\n",
              "    }\n",
              "\n",
              "    .colab-df-buttons div {\n",
              "      margin-bottom: 4px;\n",
              "    }\n",
              "\n",
              "    [theme=dark] .colab-df-convert {\n",
              "      background-color: #3B4455;\n",
              "      fill: #D2E3FC;\n",
              "    }\n",
              "\n",
              "    [theme=dark] .colab-df-convert:hover {\n",
              "      background-color: #434B5C;\n",
              "      box-shadow: 0px 1px 3px 1px rgba(0, 0, 0, 0.15);\n",
              "      filter: drop-shadow(0px 1px 2px rgba(0, 0, 0, 0.3));\n",
              "      fill: #FFFFFF;\n",
              "    }\n",
              "  </style>\n",
              "\n",
              "    <script>\n",
              "      const buttonEl =\n",
              "        document.querySelector('#df-ea4aceaa-88e2-4df4-a0ec-f456ac65f76d button.colab-df-convert');\n",
              "      buttonEl.style.display =\n",
              "        google.colab.kernel.accessAllowed ? 'block' : 'none';\n",
              "\n",
              "      async function convertToInteractive(key) {\n",
              "        const element = document.querySelector('#df-ea4aceaa-88e2-4df4-a0ec-f456ac65f76d');\n",
              "        const dataTable =\n",
              "          await google.colab.kernel.invokeFunction('convertToInteractive',\n",
              "                                                    [key], {});\n",
              "        if (!dataTable) return;\n",
              "\n",
              "        const docLinkHtml = 'Like what you see? Visit the ' +\n",
              "          '<a target=\"_blank\" href=https://colab.research.google.com/notebooks/data_table.ipynb>data table notebook</a>'\n",
              "          + ' to learn more about interactive tables.';\n",
              "        element.innerHTML = '';\n",
              "        dataTable['output_type'] = 'display_data';\n",
              "        await google.colab.output.renderOutput(dataTable, element);\n",
              "        const docLink = document.createElement('div');\n",
              "        docLink.innerHTML = docLinkHtml;\n",
              "        element.appendChild(docLink);\n",
              "      }\n",
              "    </script>\n",
              "  </div>\n",
              "\n",
              "\n",
              "<div id=\"df-e8ca734a-38b7-405f-9e86-c330004341d6\">\n",
              "  <button class=\"colab-df-quickchart\" onclick=\"quickchart('df-e8ca734a-38b7-405f-9e86-c330004341d6')\"\n",
              "            title=\"Suggest charts\"\n",
              "            style=\"display:none;\">\n",
              "\n",
              "<svg xmlns=\"http://www.w3.org/2000/svg\" height=\"24px\"viewBox=\"0 0 24 24\"\n",
              "     width=\"24px\">\n",
              "    <g>\n",
              "        <path d=\"M19 3H5c-1.1 0-2 .9-2 2v14c0 1.1.9 2 2 2h14c1.1 0 2-.9 2-2V5c0-1.1-.9-2-2-2zM9 17H7v-7h2v7zm4 0h-2V7h2v10zm4 0h-2v-4h2v4z\"/>\n",
              "    </g>\n",
              "</svg>\n",
              "  </button>\n",
              "\n",
              "<style>\n",
              "  .colab-df-quickchart {\n",
              "      --bg-color: #E8F0FE;\n",
              "      --fill-color: #1967D2;\n",
              "      --hover-bg-color: #E2EBFA;\n",
              "      --hover-fill-color: #174EA6;\n",
              "      --disabled-fill-color: #AAA;\n",
              "      --disabled-bg-color: #DDD;\n",
              "  }\n",
              "\n",
              "  [theme=dark] .colab-df-quickchart {\n",
              "      --bg-color: #3B4455;\n",
              "      --fill-color: #D2E3FC;\n",
              "      --hover-bg-color: #434B5C;\n",
              "      --hover-fill-color: #FFFFFF;\n",
              "      --disabled-bg-color: #3B4455;\n",
              "      --disabled-fill-color: #666;\n",
              "  }\n",
              "\n",
              "  .colab-df-quickchart {\n",
              "    background-color: var(--bg-color);\n",
              "    border: none;\n",
              "    border-radius: 50%;\n",
              "    cursor: pointer;\n",
              "    display: none;\n",
              "    fill: var(--fill-color);\n",
              "    height: 32px;\n",
              "    padding: 0;\n",
              "    width: 32px;\n",
              "  }\n",
              "\n",
              "  .colab-df-quickchart:hover {\n",
              "    background-color: var(--hover-bg-color);\n",
              "    box-shadow: 0 1px 2px rgba(60, 64, 67, 0.3), 0 1px 3px 1px rgba(60, 64, 67, 0.15);\n",
              "    fill: var(--button-hover-fill-color);\n",
              "  }\n",
              "\n",
              "  .colab-df-quickchart-complete:disabled,\n",
              "  .colab-df-quickchart-complete:disabled:hover {\n",
              "    background-color: var(--disabled-bg-color);\n",
              "    fill: var(--disabled-fill-color);\n",
              "    box-shadow: none;\n",
              "  }\n",
              "\n",
              "  .colab-df-spinner {\n",
              "    border: 2px solid var(--fill-color);\n",
              "    border-color: transparent;\n",
              "    border-bottom-color: var(--fill-color);\n",
              "    animation:\n",
              "      spin 1s steps(1) infinite;\n",
              "  }\n",
              "\n",
              "  @keyframes spin {\n",
              "    0% {\n",
              "      border-color: transparent;\n",
              "      border-bottom-color: var(--fill-color);\n",
              "      border-left-color: var(--fill-color);\n",
              "    }\n",
              "    20% {\n",
              "      border-color: transparent;\n",
              "      border-left-color: var(--fill-color);\n",
              "      border-top-color: var(--fill-color);\n",
              "    }\n",
              "    30% {\n",
              "      border-color: transparent;\n",
              "      border-left-color: var(--fill-color);\n",
              "      border-top-color: var(--fill-color);\n",
              "      border-right-color: var(--fill-color);\n",
              "    }\n",
              "    40% {\n",
              "      border-color: transparent;\n",
              "      border-right-color: var(--fill-color);\n",
              "      border-top-color: var(--fill-color);\n",
              "    }\n",
              "    60% {\n",
              "      border-color: transparent;\n",
              "      border-right-color: var(--fill-color);\n",
              "    }\n",
              "    80% {\n",
              "      border-color: transparent;\n",
              "      border-right-color: var(--fill-color);\n",
              "      border-bottom-color: var(--fill-color);\n",
              "    }\n",
              "    90% {\n",
              "      border-color: transparent;\n",
              "      border-bottom-color: var(--fill-color);\n",
              "    }\n",
              "  }\n",
              "</style>\n",
              "\n",
              "  <script>\n",
              "    async function quickchart(key) {\n",
              "      const quickchartButtonEl =\n",
              "        document.querySelector('#' + key + ' button');\n",
              "      quickchartButtonEl.disabled = true;  // To prevent multiple clicks.\n",
              "      quickchartButtonEl.classList.add('colab-df-spinner');\n",
              "      try {\n",
              "        const charts = await google.colab.kernel.invokeFunction(\n",
              "            'suggestCharts', [key], {});\n",
              "      } catch (error) {\n",
              "        console.error('Error during call to suggestCharts:', error);\n",
              "      }\n",
              "      quickchartButtonEl.classList.remove('colab-df-spinner');\n",
              "      quickchartButtonEl.classList.add('colab-df-quickchart-complete');\n",
              "    }\n",
              "    (() => {\n",
              "      let quickchartButtonEl =\n",
              "        document.querySelector('#df-e8ca734a-38b7-405f-9e86-c330004341d6 button');\n",
              "      quickchartButtonEl.style.display =\n",
              "        google.colab.kernel.accessAllowed ? 'block' : 'none';\n",
              "    })();\n",
              "  </script>\n",
              "</div>\n",
              "\n",
              "    </div>\n",
              "  </div>\n"
            ],
            "application/vnd.google.colaboratory.intrinsic+json": {
              "type": "dataframe",
              "summary": "{\n  \"name\": \"df\",\n  \"rows\": 5,\n  \"fields\": [\n    {\n      \"column\": \"mpg\",\n      \"properties\": {\n        \"dtype\": \"number\",\n        \"std\": 6.8044103344816005,\n        \"min\": 27.0,\n        \"max\": 44.0,\n        \"num_unique_values\": 5,\n        \"samples\": [\n          44.0,\n          31.0,\n          32.0\n        ],\n        \"semantic_type\": \"\",\n        \"description\": \"\"\n      }\n    },\n    {\n      \"column\": \"cylinders\",\n      \"properties\": {\n        \"dtype\": \"number\",\n        \"std\": 0,\n        \"min\": 4,\n        \"max\": 4,\n        \"num_unique_values\": 1,\n        \"samples\": [\n          4\n        ],\n        \"semantic_type\": \"\",\n        \"description\": \"\"\n      }\n    },\n    {\n      \"column\": \"displacement\",\n      \"properties\": {\n        \"dtype\": \"number\",\n        \"std\": 16.813684902483452,\n        \"min\": 97.0,\n        \"max\": 140.0,\n        \"num_unique_values\": 5,\n        \"samples\": [\n          97.0\n        ],\n        \"semantic_type\": \"\",\n        \"description\": \"\"\n      }\n    },\n    {\n      \"column\": \"horsepower\",\n      \"properties\": {\n        \"dtype\": \"string\",\n        \"num_unique_values\": 5,\n        \"samples\": [\n          \"52\"\n        ],\n        \"semantic_type\": \"\",\n        \"description\": \"\"\n      }\n    },\n    {\n      \"column\": \"weight\",\n      \"properties\": {\n        \"dtype\": \"number\",\n        \"std\": 285,\n        \"min\": 2130,\n        \"max\": 2790,\n        \"num_unique_values\": 5,\n        \"samples\": [\n          2130\n        ],\n        \"semantic_type\": \"\",\n        \"description\": \"\"\n      }\n    },\n    {\n      \"column\": \"acceleration\",\n      \"properties\": {\n        \"dtype\": \"number\",\n        \"std\": 4.81123684721507,\n        \"min\": 11.6,\n        \"max\": 24.6,\n        \"num_unique_values\": 5,\n        \"samples\": [\n          24.6\n        ],\n        \"semantic_type\": \"\",\n        \"description\": \"\"\n      }\n    },\n    {\n      \"column\": \"model year\",\n      \"properties\": {\n        \"dtype\": \"number\",\n        \"std\": 0,\n        \"min\": 82,\n        \"max\": 82,\n        \"num_unique_values\": 1,\n        \"samples\": [\n          82\n        ],\n        \"semantic_type\": \"\",\n        \"description\": \"\"\n      }\n    },\n    {\n      \"column\": \"origin\",\n      \"properties\": {\n        \"dtype\": \"number\",\n        \"std\": 0,\n        \"min\": 1,\n        \"max\": 2,\n        \"num_unique_values\": 2,\n        \"samples\": [\n          2\n        ],\n        \"semantic_type\": \"\",\n        \"description\": \"\"\n      }\n    },\n    {\n      \"column\": \"car name\",\n      \"properties\": {\n        \"dtype\": \"string\",\n        \"num_unique_values\": 5,\n        \"samples\": [\n          \"vw pickup\"\n        ],\n        \"semantic_type\": \"\",\n        \"description\": \"\"\n      }\n    }\n  ]\n}"
            }
          },
          "metadata": {},
          "execution_count": 4
        }
      ]
    },
    {
      "cell_type": "code",
      "source": [
        "df.shape"
      ],
      "metadata": {
        "colab": {
          "base_uri": "https://localhost:8080/"
        },
        "id": "C_Luiqnys1gH",
        "outputId": "eabc5a79-b3ed-41ac-ea03-41b8eaadebcf"
      },
      "execution_count": null,
      "outputs": [
        {
          "output_type": "execute_result",
          "data": {
            "text/plain": [
              "(398, 9)"
            ]
          },
          "metadata": {},
          "execution_count": 5
        }
      ]
    },
    {
      "cell_type": "code",
      "source": [
        "df.info()"
      ],
      "metadata": {
        "colab": {
          "base_uri": "https://localhost:8080/"
        },
        "id": "zq2i_Q6zBWbg",
        "outputId": "8985db49-aa58-4f50-9746-cb1c47280042"
      },
      "execution_count": null,
      "outputs": [
        {
          "output_type": "stream",
          "name": "stdout",
          "text": [
            "<class 'pandas.core.frame.DataFrame'>\n",
            "RangeIndex: 398 entries, 0 to 397\n",
            "Data columns (total 9 columns):\n",
            " #   Column        Non-Null Count  Dtype  \n",
            "---  ------        --------------  -----  \n",
            " 0   mpg           398 non-null    float64\n",
            " 1   cylinders     398 non-null    int64  \n",
            " 2   displacement  398 non-null    float64\n",
            " 3   horsepower    398 non-null    object \n",
            " 4   weight        398 non-null    int64  \n",
            " 5   acceleration  398 non-null    float64\n",
            " 6   model year    398 non-null    int64  \n",
            " 7   origin        398 non-null    int64  \n",
            " 8   car name      398 non-null    object \n",
            "dtypes: float64(3), int64(4), object(2)\n",
            "memory usage: 28.1+ KB\n"
          ]
        }
      ]
    },
    {
      "cell_type": "code",
      "source": [
        "df.describe()"
      ],
      "metadata": {
        "colab": {
          "base_uri": "https://localhost:8080/",
          "height": 300
        },
        "id": "5hIbN79dBYIH",
        "outputId": "09585118-0c1d-4b7b-e320-a239ab7f7006"
      },
      "execution_count": null,
      "outputs": [
        {
          "output_type": "execute_result",
          "data": {
            "text/plain": [
              "              mpg   cylinders  displacement       weight  acceleration  \\\n",
              "count  398.000000  398.000000    398.000000   398.000000    398.000000   \n",
              "mean    23.514573    5.454774    193.425879  2970.424623     15.568090   \n",
              "std      7.815984    1.701004    104.269838   846.841774      2.757689   \n",
              "min      9.000000    3.000000     68.000000  1613.000000      8.000000   \n",
              "25%     17.500000    4.000000    104.250000  2223.750000     13.825000   \n",
              "50%     23.000000    4.000000    148.500000  2803.500000     15.500000   \n",
              "75%     29.000000    8.000000    262.000000  3608.000000     17.175000   \n",
              "max     46.600000    8.000000    455.000000  5140.000000     24.800000   \n",
              "\n",
              "       model year      origin  \n",
              "count  398.000000  398.000000  \n",
              "mean    76.010050    1.572864  \n",
              "std      3.697627    0.802055  \n",
              "min     70.000000    1.000000  \n",
              "25%     73.000000    1.000000  \n",
              "50%     76.000000    1.000000  \n",
              "75%     79.000000    2.000000  \n",
              "max     82.000000    3.000000  "
            ],
            "text/html": [
              "\n",
              "  <div id=\"df-073e5ff2-466a-4786-a1cf-784a05df5df9\" class=\"colab-df-container\">\n",
              "    <div>\n",
              "<style scoped>\n",
              "    .dataframe tbody tr th:only-of-type {\n",
              "        vertical-align: middle;\n",
              "    }\n",
              "\n",
              "    .dataframe tbody tr th {\n",
              "        vertical-align: top;\n",
              "    }\n",
              "\n",
              "    .dataframe thead th {\n",
              "        text-align: right;\n",
              "    }\n",
              "</style>\n",
              "<table border=\"1\" class=\"dataframe\">\n",
              "  <thead>\n",
              "    <tr style=\"text-align: right;\">\n",
              "      <th></th>\n",
              "      <th>mpg</th>\n",
              "      <th>cylinders</th>\n",
              "      <th>displacement</th>\n",
              "      <th>weight</th>\n",
              "      <th>acceleration</th>\n",
              "      <th>model year</th>\n",
              "      <th>origin</th>\n",
              "    </tr>\n",
              "  </thead>\n",
              "  <tbody>\n",
              "    <tr>\n",
              "      <th>count</th>\n",
              "      <td>398.000000</td>\n",
              "      <td>398.000000</td>\n",
              "      <td>398.000000</td>\n",
              "      <td>398.000000</td>\n",
              "      <td>398.000000</td>\n",
              "      <td>398.000000</td>\n",
              "      <td>398.000000</td>\n",
              "    </tr>\n",
              "    <tr>\n",
              "      <th>mean</th>\n",
              "      <td>23.514573</td>\n",
              "      <td>5.454774</td>\n",
              "      <td>193.425879</td>\n",
              "      <td>2970.424623</td>\n",
              "      <td>15.568090</td>\n",
              "      <td>76.010050</td>\n",
              "      <td>1.572864</td>\n",
              "    </tr>\n",
              "    <tr>\n",
              "      <th>std</th>\n",
              "      <td>7.815984</td>\n",
              "      <td>1.701004</td>\n",
              "      <td>104.269838</td>\n",
              "      <td>846.841774</td>\n",
              "      <td>2.757689</td>\n",
              "      <td>3.697627</td>\n",
              "      <td>0.802055</td>\n",
              "    </tr>\n",
              "    <tr>\n",
              "      <th>min</th>\n",
              "      <td>9.000000</td>\n",
              "      <td>3.000000</td>\n",
              "      <td>68.000000</td>\n",
              "      <td>1613.000000</td>\n",
              "      <td>8.000000</td>\n",
              "      <td>70.000000</td>\n",
              "      <td>1.000000</td>\n",
              "    </tr>\n",
              "    <tr>\n",
              "      <th>25%</th>\n",
              "      <td>17.500000</td>\n",
              "      <td>4.000000</td>\n",
              "      <td>104.250000</td>\n",
              "      <td>2223.750000</td>\n",
              "      <td>13.825000</td>\n",
              "      <td>73.000000</td>\n",
              "      <td>1.000000</td>\n",
              "    </tr>\n",
              "    <tr>\n",
              "      <th>50%</th>\n",
              "      <td>23.000000</td>\n",
              "      <td>4.000000</td>\n",
              "      <td>148.500000</td>\n",
              "      <td>2803.500000</td>\n",
              "      <td>15.500000</td>\n",
              "      <td>76.000000</td>\n",
              "      <td>1.000000</td>\n",
              "    </tr>\n",
              "    <tr>\n",
              "      <th>75%</th>\n",
              "      <td>29.000000</td>\n",
              "      <td>8.000000</td>\n",
              "      <td>262.000000</td>\n",
              "      <td>3608.000000</td>\n",
              "      <td>17.175000</td>\n",
              "      <td>79.000000</td>\n",
              "      <td>2.000000</td>\n",
              "    </tr>\n",
              "    <tr>\n",
              "      <th>max</th>\n",
              "      <td>46.600000</td>\n",
              "      <td>8.000000</td>\n",
              "      <td>455.000000</td>\n",
              "      <td>5140.000000</td>\n",
              "      <td>24.800000</td>\n",
              "      <td>82.000000</td>\n",
              "      <td>3.000000</td>\n",
              "    </tr>\n",
              "  </tbody>\n",
              "</table>\n",
              "</div>\n",
              "    <div class=\"colab-df-buttons\">\n",
              "\n",
              "  <div class=\"colab-df-container\">\n",
              "    <button class=\"colab-df-convert\" onclick=\"convertToInteractive('df-073e5ff2-466a-4786-a1cf-784a05df5df9')\"\n",
              "            title=\"Convert this dataframe to an interactive table.\"\n",
              "            style=\"display:none;\">\n",
              "\n",
              "  <svg xmlns=\"http://www.w3.org/2000/svg\" height=\"24px\" viewBox=\"0 -960 960 960\">\n",
              "    <path d=\"M120-120v-720h720v720H120Zm60-500h600v-160H180v160Zm220 220h160v-160H400v160Zm0 220h160v-160H400v160ZM180-400h160v-160H180v160Zm440 0h160v-160H620v160ZM180-180h160v-160H180v160Zm440 0h160v-160H620v160Z\"/>\n",
              "  </svg>\n",
              "    </button>\n",
              "\n",
              "  <style>\n",
              "    .colab-df-container {\n",
              "      display:flex;\n",
              "      gap: 12px;\n",
              "    }\n",
              "\n",
              "    .colab-df-convert {\n",
              "      background-color: #E8F0FE;\n",
              "      border: none;\n",
              "      border-radius: 50%;\n",
              "      cursor: pointer;\n",
              "      display: none;\n",
              "      fill: #1967D2;\n",
              "      height: 32px;\n",
              "      padding: 0 0 0 0;\n",
              "      width: 32px;\n",
              "    }\n",
              "\n",
              "    .colab-df-convert:hover {\n",
              "      background-color: #E2EBFA;\n",
              "      box-shadow: 0px 1px 2px rgba(60, 64, 67, 0.3), 0px 1px 3px 1px rgba(60, 64, 67, 0.15);\n",
              "      fill: #174EA6;\n",
              "    }\n",
              "\n",
              "    .colab-df-buttons div {\n",
              "      margin-bottom: 4px;\n",
              "    }\n",
              "\n",
              "    [theme=dark] .colab-df-convert {\n",
              "      background-color: #3B4455;\n",
              "      fill: #D2E3FC;\n",
              "    }\n",
              "\n",
              "    [theme=dark] .colab-df-convert:hover {\n",
              "      background-color: #434B5C;\n",
              "      box-shadow: 0px 1px 3px 1px rgba(0, 0, 0, 0.15);\n",
              "      filter: drop-shadow(0px 1px 2px rgba(0, 0, 0, 0.3));\n",
              "      fill: #FFFFFF;\n",
              "    }\n",
              "  </style>\n",
              "\n",
              "    <script>\n",
              "      const buttonEl =\n",
              "        document.querySelector('#df-073e5ff2-466a-4786-a1cf-784a05df5df9 button.colab-df-convert');\n",
              "      buttonEl.style.display =\n",
              "        google.colab.kernel.accessAllowed ? 'block' : 'none';\n",
              "\n",
              "      async function convertToInteractive(key) {\n",
              "        const element = document.querySelector('#df-073e5ff2-466a-4786-a1cf-784a05df5df9');\n",
              "        const dataTable =\n",
              "          await google.colab.kernel.invokeFunction('convertToInteractive',\n",
              "                                                    [key], {});\n",
              "        if (!dataTable) return;\n",
              "\n",
              "        const docLinkHtml = 'Like what you see? Visit the ' +\n",
              "          '<a target=\"_blank\" href=https://colab.research.google.com/notebooks/data_table.ipynb>data table notebook</a>'\n",
              "          + ' to learn more about interactive tables.';\n",
              "        element.innerHTML = '';\n",
              "        dataTable['output_type'] = 'display_data';\n",
              "        await google.colab.output.renderOutput(dataTable, element);\n",
              "        const docLink = document.createElement('div');\n",
              "        docLink.innerHTML = docLinkHtml;\n",
              "        element.appendChild(docLink);\n",
              "      }\n",
              "    </script>\n",
              "  </div>\n",
              "\n",
              "\n",
              "<div id=\"df-2b07eedd-1bc4-42a9-99ad-8e9a4d64de8c\">\n",
              "  <button class=\"colab-df-quickchart\" onclick=\"quickchart('df-2b07eedd-1bc4-42a9-99ad-8e9a4d64de8c')\"\n",
              "            title=\"Suggest charts\"\n",
              "            style=\"display:none;\">\n",
              "\n",
              "<svg xmlns=\"http://www.w3.org/2000/svg\" height=\"24px\"viewBox=\"0 0 24 24\"\n",
              "     width=\"24px\">\n",
              "    <g>\n",
              "        <path d=\"M19 3H5c-1.1 0-2 .9-2 2v14c0 1.1.9 2 2 2h14c1.1 0 2-.9 2-2V5c0-1.1-.9-2-2-2zM9 17H7v-7h2v7zm4 0h-2V7h2v10zm4 0h-2v-4h2v4z\"/>\n",
              "    </g>\n",
              "</svg>\n",
              "  </button>\n",
              "\n",
              "<style>\n",
              "  .colab-df-quickchart {\n",
              "      --bg-color: #E8F0FE;\n",
              "      --fill-color: #1967D2;\n",
              "      --hover-bg-color: #E2EBFA;\n",
              "      --hover-fill-color: #174EA6;\n",
              "      --disabled-fill-color: #AAA;\n",
              "      --disabled-bg-color: #DDD;\n",
              "  }\n",
              "\n",
              "  [theme=dark] .colab-df-quickchart {\n",
              "      --bg-color: #3B4455;\n",
              "      --fill-color: #D2E3FC;\n",
              "      --hover-bg-color: #434B5C;\n",
              "      --hover-fill-color: #FFFFFF;\n",
              "      --disabled-bg-color: #3B4455;\n",
              "      --disabled-fill-color: #666;\n",
              "  }\n",
              "\n",
              "  .colab-df-quickchart {\n",
              "    background-color: var(--bg-color);\n",
              "    border: none;\n",
              "    border-radius: 50%;\n",
              "    cursor: pointer;\n",
              "    display: none;\n",
              "    fill: var(--fill-color);\n",
              "    height: 32px;\n",
              "    padding: 0;\n",
              "    width: 32px;\n",
              "  }\n",
              "\n",
              "  .colab-df-quickchart:hover {\n",
              "    background-color: var(--hover-bg-color);\n",
              "    box-shadow: 0 1px 2px rgba(60, 64, 67, 0.3), 0 1px 3px 1px rgba(60, 64, 67, 0.15);\n",
              "    fill: var(--button-hover-fill-color);\n",
              "  }\n",
              "\n",
              "  .colab-df-quickchart-complete:disabled,\n",
              "  .colab-df-quickchart-complete:disabled:hover {\n",
              "    background-color: var(--disabled-bg-color);\n",
              "    fill: var(--disabled-fill-color);\n",
              "    box-shadow: none;\n",
              "  }\n",
              "\n",
              "  .colab-df-spinner {\n",
              "    border: 2px solid var(--fill-color);\n",
              "    border-color: transparent;\n",
              "    border-bottom-color: var(--fill-color);\n",
              "    animation:\n",
              "      spin 1s steps(1) infinite;\n",
              "  }\n",
              "\n",
              "  @keyframes spin {\n",
              "    0% {\n",
              "      border-color: transparent;\n",
              "      border-bottom-color: var(--fill-color);\n",
              "      border-left-color: var(--fill-color);\n",
              "    }\n",
              "    20% {\n",
              "      border-color: transparent;\n",
              "      border-left-color: var(--fill-color);\n",
              "      border-top-color: var(--fill-color);\n",
              "    }\n",
              "    30% {\n",
              "      border-color: transparent;\n",
              "      border-left-color: var(--fill-color);\n",
              "      border-top-color: var(--fill-color);\n",
              "      border-right-color: var(--fill-color);\n",
              "    }\n",
              "    40% {\n",
              "      border-color: transparent;\n",
              "      border-right-color: var(--fill-color);\n",
              "      border-top-color: var(--fill-color);\n",
              "    }\n",
              "    60% {\n",
              "      border-color: transparent;\n",
              "      border-right-color: var(--fill-color);\n",
              "    }\n",
              "    80% {\n",
              "      border-color: transparent;\n",
              "      border-right-color: var(--fill-color);\n",
              "      border-bottom-color: var(--fill-color);\n",
              "    }\n",
              "    90% {\n",
              "      border-color: transparent;\n",
              "      border-bottom-color: var(--fill-color);\n",
              "    }\n",
              "  }\n",
              "</style>\n",
              "\n",
              "  <script>\n",
              "    async function quickchart(key) {\n",
              "      const quickchartButtonEl =\n",
              "        document.querySelector('#' + key + ' button');\n",
              "      quickchartButtonEl.disabled = true;  // To prevent multiple clicks.\n",
              "      quickchartButtonEl.classList.add('colab-df-spinner');\n",
              "      try {\n",
              "        const charts = await google.colab.kernel.invokeFunction(\n",
              "            'suggestCharts', [key], {});\n",
              "      } catch (error) {\n",
              "        console.error('Error during call to suggestCharts:', error);\n",
              "      }\n",
              "      quickchartButtonEl.classList.remove('colab-df-spinner');\n",
              "      quickchartButtonEl.classList.add('colab-df-quickchart-complete');\n",
              "    }\n",
              "    (() => {\n",
              "      let quickchartButtonEl =\n",
              "        document.querySelector('#df-2b07eedd-1bc4-42a9-99ad-8e9a4d64de8c button');\n",
              "      quickchartButtonEl.style.display =\n",
              "        google.colab.kernel.accessAllowed ? 'block' : 'none';\n",
              "    })();\n",
              "  </script>\n",
              "</div>\n",
              "\n",
              "    </div>\n",
              "  </div>\n"
            ],
            "application/vnd.google.colaboratory.intrinsic+json": {
              "type": "dataframe",
              "summary": "{\n  \"name\": \"df\",\n  \"rows\": 8,\n  \"fields\": [\n    {\n      \"column\": \"mpg\",\n      \"properties\": {\n        \"dtype\": \"number\",\n        \"std\": 133.37523833494922,\n        \"min\": 7.815984312565782,\n        \"max\": 398.0,\n        \"num_unique_values\": 8,\n        \"samples\": [\n          23.514572864321607,\n          23.0,\n          398.0\n        ],\n        \"semantic_type\": \"\",\n        \"description\": \"\"\n      }\n    },\n    {\n      \"column\": \"cylinders\",\n      \"properties\": {\n        \"dtype\": \"number\",\n        \"std\": 139.0071020301553,\n        \"min\": 1.7010042445332119,\n        \"max\": 398.0,\n        \"num_unique_values\": 6,\n        \"samples\": [\n          398.0,\n          5.454773869346734,\n          8.0\n        ],\n        \"semantic_type\": \"\",\n        \"description\": \"\"\n      }\n    },\n    {\n      \"column\": \"displacement\",\n      \"properties\": {\n        \"dtype\": \"number\",\n        \"std\": 143.57617465667641,\n        \"min\": 68.0,\n        \"max\": 455.0,\n        \"num_unique_values\": 8,\n        \"samples\": [\n          193.42587939698493,\n          148.5,\n          398.0\n        ],\n        \"semantic_type\": \"\",\n        \"description\": \"\"\n      }\n    },\n    {\n      \"column\": \"weight\",\n      \"properties\": {\n        \"dtype\": \"number\",\n        \"std\": 1535.5522437115258,\n        \"min\": 398.0,\n        \"max\": 5140.0,\n        \"num_unique_values\": 8,\n        \"samples\": [\n          2970.424623115578,\n          2803.5,\n          398.0\n        ],\n        \"semantic_type\": \"\",\n        \"description\": \"\"\n      }\n    },\n    {\n      \"column\": \"acceleration\",\n      \"properties\": {\n        \"dtype\": \"number\",\n        \"std\": 135.93788360342714,\n        \"min\": 2.757688929812676,\n        \"max\": 398.0,\n        \"num_unique_values\": 8,\n        \"samples\": [\n          15.568090452261307,\n          15.5,\n          398.0\n        ],\n        \"semantic_type\": \"\",\n        \"description\": \"\"\n      }\n    },\n    {\n      \"column\": \"model year\",\n      \"properties\": {\n        \"dtype\": \"number\",\n        \"std\": 120.2422511942329,\n        \"min\": 3.697626646732623,\n        \"max\": 398.0,\n        \"num_unique_values\": 8,\n        \"samples\": [\n          76.01005025125629,\n          76.0,\n          398.0\n        ],\n        \"semantic_type\": \"\",\n        \"description\": \"\"\n      }\n    },\n    {\n      \"column\": \"origin\",\n      \"properties\": {\n        \"dtype\": \"number\",\n        \"std\": 140.19214256834297,\n        \"min\": 0.8020548777266148,\n        \"max\": 398.0,\n        \"num_unique_values\": 6,\n        \"samples\": [\n          398.0,\n          1.5728643216080402,\n          3.0\n        ],\n        \"semantic_type\": \"\",\n        \"description\": \"\"\n      }\n    }\n  ]\n}"
            }
          },
          "metadata": {},
          "execution_count": 7
        }
      ]
    },
    {
      "cell_type": "code",
      "source": [
        "df.isna().any()"
      ],
      "metadata": {
        "colab": {
          "base_uri": "https://localhost:8080/",
          "height": 366
        },
        "id": "Q-tmL8vTBaiS",
        "outputId": "c3dec542-0b09-4b4c-febf-59bd062af61c"
      },
      "execution_count": null,
      "outputs": [
        {
          "output_type": "execute_result",
          "data": {
            "text/plain": [
              "mpg             False\n",
              "cylinders       False\n",
              "displacement    False\n",
              "horsepower      False\n",
              "weight          False\n",
              "acceleration    False\n",
              "model year      False\n",
              "origin          False\n",
              "car name        False\n",
              "dtype: bool"
            ],
            "text/html": [
              "<div>\n",
              "<style scoped>\n",
              "    .dataframe tbody tr th:only-of-type {\n",
              "        vertical-align: middle;\n",
              "    }\n",
              "\n",
              "    .dataframe tbody tr th {\n",
              "        vertical-align: top;\n",
              "    }\n",
              "\n",
              "    .dataframe thead th {\n",
              "        text-align: right;\n",
              "    }\n",
              "</style>\n",
              "<table border=\"1\" class=\"dataframe\">\n",
              "  <thead>\n",
              "    <tr style=\"text-align: right;\">\n",
              "      <th></th>\n",
              "      <th>0</th>\n",
              "    </tr>\n",
              "  </thead>\n",
              "  <tbody>\n",
              "    <tr>\n",
              "      <th>mpg</th>\n",
              "      <td>False</td>\n",
              "    </tr>\n",
              "    <tr>\n",
              "      <th>cylinders</th>\n",
              "      <td>False</td>\n",
              "    </tr>\n",
              "    <tr>\n",
              "      <th>displacement</th>\n",
              "      <td>False</td>\n",
              "    </tr>\n",
              "    <tr>\n",
              "      <th>horsepower</th>\n",
              "      <td>False</td>\n",
              "    </tr>\n",
              "    <tr>\n",
              "      <th>weight</th>\n",
              "      <td>False</td>\n",
              "    </tr>\n",
              "    <tr>\n",
              "      <th>acceleration</th>\n",
              "      <td>False</td>\n",
              "    </tr>\n",
              "    <tr>\n",
              "      <th>model year</th>\n",
              "      <td>False</td>\n",
              "    </tr>\n",
              "    <tr>\n",
              "      <th>origin</th>\n",
              "      <td>False</td>\n",
              "    </tr>\n",
              "    <tr>\n",
              "      <th>car name</th>\n",
              "      <td>False</td>\n",
              "    </tr>\n",
              "  </tbody>\n",
              "</table>\n",
              "</div><br><label><b>dtype:</b> bool</label>"
            ]
          },
          "metadata": {},
          "execution_count": 8
        }
      ]
    },
    {
      "cell_type": "code",
      "source": [
        "columns = df.columns\n",
        "columns"
      ],
      "metadata": {
        "colab": {
          "base_uri": "https://localhost:8080/"
        },
        "id": "xDH2R6JBBfAt",
        "outputId": "e3588bb4-93ab-42c4-d7f5-c51adc88d76b"
      },
      "execution_count": null,
      "outputs": [
        {
          "output_type": "execute_result",
          "data": {
            "text/plain": [
              "Index(['mpg', 'cylinders', 'displacement', 'horsepower', 'weight',\n",
              "       'acceleration', 'model year', 'origin', 'car name'],\n",
              "      dtype='object')"
            ]
          },
          "metadata": {},
          "execution_count": 9
        }
      ]
    },
    {
      "cell_type": "code",
      "source": [
        "df.duplicated().any()"
      ],
      "metadata": {
        "colab": {
          "base_uri": "https://localhost:8080/"
        },
        "id": "cm1s7bH7Blbe",
        "outputId": "1c0140d8-7f1a-4037-9583-a1a9899cca7a"
      },
      "execution_count": null,
      "outputs": [
        {
          "output_type": "execute_result",
          "data": {
            "text/plain": [
              "False"
            ]
          },
          "metadata": {},
          "execution_count": 10
        }
      ]
    },
    {
      "cell_type": "code",
      "source": [
        "for i in df.columns:\n",
        "  print(df[i].unique(),i)\n",
        "  print('*'*100)\n",
        "  print(df[i].value_counts(),i)"
      ],
      "metadata": {
        "colab": {
          "base_uri": "https://localhost:8080/"
        },
        "id": "aclAjnVdBzJC",
        "outputId": "70b854c0-e7c0-4330-c611-79a1e5ab38bf"
      },
      "execution_count": null,
      "outputs": [
        {
          "output_type": "stream",
          "name": "stdout",
          "text": [
            "[18.  15.  16.  17.  14.  24.  22.  21.  27.  26.  25.  10.  11.   9.\n",
            " 28.  19.  12.  13.  23.  30.  31.  35.  20.  29.  32.  33.  17.5 15.5\n",
            " 14.5 22.5 24.5 18.5 29.5 26.5 16.5 31.5 36.  25.5 33.5 20.5 30.5 21.5\n",
            " 43.1 36.1 32.8 39.4 19.9 19.4 20.2 19.2 25.1 20.6 20.8 18.6 18.1 17.7\n",
            " 27.5 27.2 30.9 21.1 23.2 23.8 23.9 20.3 21.6 16.2 19.8 22.3 17.6 18.2\n",
            " 16.9 31.9 34.1 35.7 27.4 25.4 34.2 34.5 31.8 37.3 28.4 28.8 26.8 41.5\n",
            " 38.1 32.1 37.2 26.4 24.3 19.1 34.3 29.8 31.3 37.  32.2 46.6 27.9 40.8\n",
            " 44.3 43.4 36.4 44.6 40.9 33.8 32.7 23.7 23.6 32.4 26.6 25.8 23.5 39.1\n",
            " 39.  35.1 32.3 37.7 34.7 34.4 29.9 33.7 32.9 31.6 28.1 30.7 24.2 22.4\n",
            " 34.  38.  44. ] mpg\n",
            "****************************************************************************************************\n",
            "mpg\n",
            "13.0    20\n",
            "14.0    19\n",
            "18.0    17\n",
            "15.0    16\n",
            "26.0    14\n",
            "        ..\n",
            "31.9     1\n",
            "16.9     1\n",
            "18.2     1\n",
            "22.3     1\n",
            "44.0     1\n",
            "Name: count, Length: 129, dtype: int64 mpg\n",
            "[8 4 6 3 5] cylinders\n",
            "****************************************************************************************************\n",
            "cylinders\n",
            "4    204\n",
            "8    103\n",
            "6     84\n",
            "3      4\n",
            "5      3\n",
            "Name: count, dtype: int64 cylinders\n",
            "[307.  350.  318.  304.  302.  429.  454.  440.  455.  390.  383.  340.\n",
            " 400.  113.  198.  199.  200.   97.  110.  107.  104.  121.  360.  140.\n",
            "  98.  232.  225.  250.  351.  258.  122.  116.   79.   88.   71.   72.\n",
            "  91.   97.5  70.  120.   96.  108.  155.   68.  114.  156.   76.   83.\n",
            "  90.  231.  262.  134.  119.  171.  115.  101.  305.   85.  130.  168.\n",
            " 111.  260.  151.  146.   80.   78.  105.  131.  163.   89.  267.   86.\n",
            " 183.  141.  173.  135.   81.  100.  145.  112.  181.  144. ] displacement\n",
            "****************************************************************************************************\n",
            "displacement\n",
            "97.0     21\n",
            "98.0     18\n",
            "350.0    18\n",
            "318.0    17\n",
            "250.0    17\n",
            "         ..\n",
            "104.0     1\n",
            "110.0     1\n",
            "130.0     1\n",
            "111.0     1\n",
            "144.0     1\n",
            "Name: count, Length: 82, dtype: int64 displacement\n",
            "['130' '165' '150' '140' '198' '220' '215' '225' '190' '170' '160' '95'\n",
            " '97' '85' '88' '46' '87' '90' '113' '200' '210' '193' '?' '100' '105'\n",
            " '175' '153' '180' '110' '72' '86' '70' '76' '65' '69' '60' '80' '54'\n",
            " '208' '155' '112' '92' '145' '137' '158' '167' '94' '107' '230' '49' '75'\n",
            " '91' '122' '67' '83' '78' '52' '61' '93' '148' '129' '96' '71' '98' '115'\n",
            " '53' '81' '79' '120' '152' '102' '108' '68' '58' '149' '89' '63' '48'\n",
            " '66' '139' '103' '125' '133' '138' '135' '142' '77' '62' '132' '84' '64'\n",
            " '74' '116' '82'] horsepower\n",
            "****************************************************************************************************\n",
            "horsepower\n",
            "150    22\n",
            "90     20\n",
            "88     19\n",
            "110    18\n",
            "100    17\n",
            "       ..\n",
            "61      1\n",
            "93      1\n",
            "148     1\n",
            "152     1\n",
            "82      1\n",
            "Name: count, Length: 94, dtype: int64 horsepower\n",
            "[3504 3693 3436 3433 3449 4341 4354 4312 4425 3850 3563 3609 3761 3086\n",
            " 2372 2833 2774 2587 2130 1835 2672 2430 2375 2234 2648 4615 4376 4382\n",
            " 4732 2264 2228 2046 2634 3439 3329 3302 3288 4209 4464 4154 4096 4955\n",
            " 4746 5140 2962 2408 3282 3139 2220 2123 2074 2065 1773 1613 1834 1955\n",
            " 2278 2126 2254 2226 4274 4385 4135 4129 3672 4633 4502 4456 4422 2330\n",
            " 3892 4098 4294 4077 2933 2511 2979 2189 2395 2288 2506 2164 2100 4100\n",
            " 3988 4042 3777 4952 4363 4237 4735 4951 3821 3121 3278 2945 3021 2904\n",
            " 1950 4997 4906 4654 4499 2789 2279 2401 2379 2124 2310 2472 2265 4082\n",
            " 4278 1867 2158 2582 2868 3399 2660 2807 3664 3102 2875 2901 3336 2451\n",
            " 1836 2542 3781 3632 3613 4141 4699 4457 4638 4257 2219 1963 2300 1649\n",
            " 2003 2125 2108 2246 2489 2391 2000 3264 3459 3432 3158 4668 4440 4498\n",
            " 4657 3907 3897 3730 3785 3039 3221 3169 2171 2639 2914 2592 2702 2223\n",
            " 2545 2984 1937 3211 2694 2957 2671 1795 2464 2572 2255 2202 4215 4190\n",
            " 3962 3233 3353 3012 3085 2035 3651 3574 3645 3193 1825 1990 2155 2565\n",
            " 3150 3940 3270 2930 3820 4380 4055 3870 3755 2045 1945 3880 4060 4140\n",
            " 4295 3520 3425 3630 3525 4220 4165 4325 4335 1940 2740 2755 2051 2075\n",
            " 1985 2190 2815 2600 2720 1800 2070 3365 3735 3570 3535 3155 2965 3430\n",
            " 3210 3380 3070 3620 3410 3445 3205 4080 2560 2230 2515 2745 2855 2405\n",
            " 2830 3140 2795 2135 3245 2990 2890 3265 3360 3840 3725 3955 3830 4360\n",
            " 4054 3605 1925 1975 1915 2670 3530 3900 3190 3420 2200 2150 2020 2595\n",
            " 2700 2556 2144 1968 2120 2019 2678 2870 3003 3381 2188 2711 2434 2110\n",
            " 2800 2085 2335 2950 3250 1850 2145 1845 2910 2420 2500 2905 2290 2490\n",
            " 2635 2620 2725 2385 1755 1875 1760 2050 2215 2380 2320 2210 2350 2615\n",
            " 3230 3160 2900 3415 3060 3465 2605 2640 2575 2525 2735 2865 3035 1980\n",
            " 2025 1970 2160 2205 2245 1965 1995 3015 2585 2835 2665 2370 2790 2295\n",
            " 2625] weight\n",
            "****************************************************************************************************\n",
            "weight\n",
            "1985    4\n",
            "2130    4\n",
            "2125    3\n",
            "2945    3\n",
            "2265    3\n",
            "       ..\n",
            "2875    1\n",
            "3102    1\n",
            "3664    1\n",
            "2807    1\n",
            "2625    1\n",
            "Name: count, Length: 351, dtype: int64 weight\n",
            "[12.  11.5 11.  10.5 10.   9.   8.5  8.   9.5 15.  15.5 16.  14.5 20.5\n",
            " 17.5 12.5 14.  13.5 18.5 19.  13.  19.5 18.  17.  23.5 16.5 21.  16.9\n",
            " 14.9 17.7 15.3 13.9 12.8 15.4 17.6 22.2 22.1 14.2 17.4 16.2 17.8 12.2\n",
            " 16.4 13.6 15.7 13.2 21.9 16.7 12.1 14.8 18.6 16.8 13.7 11.1 11.4 18.2\n",
            " 15.8 15.9 14.1 21.5 14.4 19.4 19.2 17.2 18.7 15.1 13.4 11.2 14.7 16.6\n",
            " 17.3 15.2 14.3 20.1 24.8 11.3 12.9 18.8 18.1 17.9 21.7 23.7 19.9 21.8\n",
            " 13.8 12.6 16.1 20.7 18.3 20.4 19.6 17.1 15.6 24.6 11.6] acceleration\n",
            "****************************************************************************************************\n",
            "acceleration\n",
            "14.5    23\n",
            "15.5    21\n",
            "14.0    16\n",
            "16.0    16\n",
            "13.5    15\n",
            "        ..\n",
            "11.1     1\n",
            "12.1     1\n",
            "21.9     1\n",
            "22.1     1\n",
            "11.6     1\n",
            "Name: count, Length: 95, dtype: int64 acceleration\n",
            "[70 71 72 73 74 75 76 77 78 79 80 81 82] model year\n",
            "****************************************************************************************************\n",
            "model year\n",
            "73    40\n",
            "78    36\n",
            "76    34\n",
            "82    31\n",
            "75    30\n",
            "70    29\n",
            "79    29\n",
            "80    29\n",
            "81    29\n",
            "71    28\n",
            "72    28\n",
            "77    28\n",
            "74    27\n",
            "Name: count, dtype: int64 model year\n",
            "[1 3 2] origin\n",
            "****************************************************************************************************\n",
            "origin\n",
            "1    249\n",
            "3     79\n",
            "2     70\n",
            "Name: count, dtype: int64 origin\n",
            "['chevrolet chevelle malibu' 'buick skylark 320' 'plymouth satellite'\n",
            " 'amc rebel sst' 'ford torino' 'ford galaxie 500' 'chevrolet impala'\n",
            " 'plymouth fury iii' 'pontiac catalina' 'amc ambassador dpl'\n",
            " 'dodge challenger se' \"plymouth 'cuda 340\" 'chevrolet monte carlo'\n",
            " 'buick estate wagon (sw)' 'toyota corona mark ii' 'plymouth duster'\n",
            " 'amc hornet' 'ford maverick' 'datsun pl510'\n",
            " 'volkswagen 1131 deluxe sedan' 'peugeot 504' 'audi 100 ls' 'saab 99e'\n",
            " 'bmw 2002' 'amc gremlin' 'ford f250' 'chevy c20' 'dodge d200' 'hi 1200d'\n",
            " 'chevrolet vega 2300' 'toyota corona' 'ford pinto'\n",
            " 'plymouth satellite custom' 'ford torino 500' 'amc matador'\n",
            " 'pontiac catalina brougham' 'dodge monaco (sw)'\n",
            " 'ford country squire (sw)' 'pontiac safari (sw)'\n",
            " 'amc hornet sportabout (sw)' 'chevrolet vega (sw)' 'pontiac firebird'\n",
            " 'ford mustang' 'mercury capri 2000' 'opel 1900' 'peugeot 304' 'fiat 124b'\n",
            " 'toyota corolla 1200' 'datsun 1200' 'volkswagen model 111'\n",
            " 'plymouth cricket' 'toyota corona hardtop' 'dodge colt hardtop'\n",
            " 'volkswagen type 3' 'chevrolet vega' 'ford pinto runabout'\n",
            " 'amc ambassador sst' 'mercury marquis' 'buick lesabre custom'\n",
            " 'oldsmobile delta 88 royale' 'chrysler newport royal' 'mazda rx2 coupe'\n",
            " 'amc matador (sw)' 'chevrolet chevelle concours (sw)'\n",
            " 'ford gran torino (sw)' 'plymouth satellite custom (sw)'\n",
            " 'volvo 145e (sw)' 'volkswagen 411 (sw)' 'peugeot 504 (sw)'\n",
            " 'renault 12 (sw)' 'ford pinto (sw)' 'datsun 510 (sw)'\n",
            " 'toyouta corona mark ii (sw)' 'dodge colt (sw)'\n",
            " 'toyota corolla 1600 (sw)' 'buick century 350' 'chevrolet malibu'\n",
            " 'ford gran torino' 'dodge coronet custom' 'mercury marquis brougham'\n",
            " 'chevrolet caprice classic' 'ford ltd' 'plymouth fury gran sedan'\n",
            " 'chrysler new yorker brougham' 'buick electra 225 custom'\n",
            " 'amc ambassador brougham' 'plymouth valiant' 'chevrolet nova custom'\n",
            " 'volkswagen super beetle' 'ford country' 'plymouth custom suburb'\n",
            " 'oldsmobile vista cruiser' 'toyota carina' 'datsun 610' 'maxda rx3'\n",
            " 'mercury capri v6' 'fiat 124 sport coupe' 'chevrolet monte carlo s'\n",
            " 'pontiac grand prix' 'fiat 128' 'opel manta' 'audi 100ls' 'volvo 144ea'\n",
            " 'dodge dart custom' 'saab 99le' 'toyota mark ii' 'oldsmobile omega'\n",
            " 'chevrolet nova' 'datsun b210' 'chevrolet chevelle malibu classic'\n",
            " 'plymouth satellite sebring' 'buick century luxus (sw)'\n",
            " 'dodge coronet custom (sw)' 'audi fox' 'volkswagen dasher' 'datsun 710'\n",
            " 'dodge colt' 'fiat 124 tc' 'honda civic' 'subaru' 'fiat x1.9'\n",
            " 'plymouth valiant custom' 'mercury monarch' 'chevrolet bel air'\n",
            " 'plymouth grand fury' 'buick century' 'chevroelt chevelle malibu'\n",
            " 'plymouth fury' 'buick skyhawk' 'chevrolet monza 2+2' 'ford mustang ii'\n",
            " 'toyota corolla' 'pontiac astro' 'volkswagen rabbit' 'amc pacer'\n",
            " 'volvo 244dl' 'honda civic cvcc' 'fiat 131' 'capri ii' 'renault 12tl'\n",
            " 'dodge coronet brougham' 'chevrolet chevette' 'chevrolet woody'\n",
            " 'vw rabbit' 'dodge aspen se' 'ford granada ghia' 'pontiac ventura sj'\n",
            " 'amc pacer d/l' 'datsun b-210' 'volvo 245' 'plymouth volare premier v8'\n",
            " 'mercedes-benz 280s' 'cadillac seville' 'chevy c10' 'ford f108'\n",
            " 'dodge d100' 'honda accord cvcc' 'buick opel isuzu deluxe'\n",
            " 'renault 5 gtl' 'plymouth arrow gs' 'datsun f-10 hatchback'\n",
            " 'oldsmobile cutlass supreme' 'dodge monaco brougham'\n",
            " 'mercury cougar brougham' 'chevrolet concours' 'buick skylark'\n",
            " 'plymouth volare custom' 'ford granada' 'pontiac grand prix lj'\n",
            " 'chevrolet monte carlo landau' 'chrysler cordoba' 'ford thunderbird'\n",
            " 'volkswagen rabbit custom' 'pontiac sunbird coupe'\n",
            " 'toyota corolla liftback' 'ford mustang ii 2+2' 'dodge colt m/m'\n",
            " 'subaru dl' 'datsun 810' 'bmw 320i' 'mazda rx-4'\n",
            " 'volkswagen rabbit custom diesel' 'ford fiesta' 'mazda glc deluxe'\n",
            " 'datsun b210 gx' 'oldsmobile cutlass salon brougham' 'dodge diplomat'\n",
            " 'mercury monarch ghia' 'pontiac phoenix lj' 'ford fairmont (auto)'\n",
            " 'ford fairmont (man)' 'plymouth volare' 'amc concord'\n",
            " 'buick century special' 'mercury zephyr' 'dodge aspen' 'amc concord d/l'\n",
            " 'buick regal sport coupe (turbo)' 'ford futura' 'dodge magnum xe'\n",
            " 'datsun 510' 'dodge omni' 'toyota celica gt liftback' 'plymouth sapporo'\n",
            " 'oldsmobile starfire sx' 'datsun 200-sx' 'audi 5000' 'volvo 264gl'\n",
            " 'saab 99gle' 'peugeot 604sl' 'volkswagen scirocco' 'honda accord lx'\n",
            " 'pontiac lemans v6' 'mercury zephyr 6' 'ford fairmont 4'\n",
            " 'amc concord dl 6' 'dodge aspen 6' 'ford ltd landau'\n",
            " 'mercury grand marquis' 'dodge st. regis' 'chevrolet malibu classic (sw)'\n",
            " 'chrysler lebaron town @ country (sw)' 'vw rabbit custom'\n",
            " 'maxda glc deluxe' 'dodge colt hatchback custom' 'amc spirit dl'\n",
            " 'mercedes benz 300d' 'cadillac eldorado' 'plymouth horizon'\n",
            " 'plymouth horizon tc3' 'datsun 210' 'fiat strada custom'\n",
            " 'buick skylark limited' 'chevrolet citation' 'oldsmobile omega brougham'\n",
            " 'pontiac phoenix' 'toyota corolla tercel' 'datsun 310' 'ford fairmont'\n",
            " 'audi 4000' 'toyota corona liftback' 'mazda 626' 'datsun 510 hatchback'\n",
            " 'mazda glc' 'vw rabbit c (diesel)' 'vw dasher (diesel)'\n",
            " 'audi 5000s (diesel)' 'mercedes-benz 240d' 'honda civic 1500 gl'\n",
            " 'renault lecar deluxe' 'vokswagen rabbit' 'datsun 280-zx' 'mazda rx-7 gs'\n",
            " 'triumph tr7 coupe' 'ford mustang cobra' 'honda accord'\n",
            " 'plymouth reliant' 'dodge aries wagon (sw)' 'toyota starlet'\n",
            " 'plymouth champ' 'honda civic 1300' 'datsun 210 mpg' 'toyota tercel'\n",
            " 'mazda glc 4' 'plymouth horizon 4' 'ford escort 4w' 'ford escort 2h'\n",
            " 'volkswagen jetta' 'renault 18i' 'honda prelude' 'datsun 200sx'\n",
            " 'peugeot 505s turbo diesel' 'volvo diesel' 'toyota cressida'\n",
            " 'datsun 810 maxima' 'oldsmobile cutlass ls' 'ford granada gl'\n",
            " 'chrysler lebaron salon' 'chevrolet cavalier' 'chevrolet cavalier wagon'\n",
            " 'chevrolet cavalier 2-door' 'pontiac j2000 se hatchback' 'dodge aries se'\n",
            " 'ford fairmont futura' 'amc concord dl' 'volkswagen rabbit l'\n",
            " 'mazda glc custom l' 'mazda glc custom' 'plymouth horizon miser'\n",
            " 'mercury lynx l' 'nissan stanza xe' 'honda civic (auto)' 'datsun 310 gx'\n",
            " 'buick century limited' 'oldsmobile cutlass ciera (diesel)'\n",
            " 'chrysler lebaron medallion' 'ford granada l' 'toyota celica gt'\n",
            " 'dodge charger 2.2' 'chevrolet camaro' 'ford mustang gl' 'vw pickup'\n",
            " 'dodge rampage' 'ford ranger' 'chevy s-10'] car name\n",
            "****************************************************************************************************\n",
            "car name\n",
            "ford pinto             6\n",
            "toyota corolla         5\n",
            "amc matador            5\n",
            "ford maverick          5\n",
            "chevrolet chevette     4\n",
            "                      ..\n",
            "chevrolet monza 2+2    1\n",
            "ford mustang ii        1\n",
            "pontiac astro          1\n",
            "amc pacer              1\n",
            "chevy s-10             1\n",
            "Name: count, Length: 305, dtype: int64 car name\n"
          ]
        }
      ]
    },
    {
      "cell_type": "code",
      "source": [
        "print(df.isnull().sum())"
      ],
      "metadata": {
        "colab": {
          "base_uri": "https://localhost:8080/"
        },
        "id": "lVLJtMNert6r",
        "outputId": "4a0f91b6-3e8e-47ee-ae70-cefdf12fea66"
      },
      "execution_count": null,
      "outputs": [
        {
          "output_type": "stream",
          "name": "stdout",
          "text": [
            "mpg             0\n",
            "cylinders       0\n",
            "displacement    0\n",
            "horsepower      0\n",
            "weight          0\n",
            "acceleration    0\n",
            "model year      0\n",
            "origin          0\n",
            "car name        0\n",
            "dtype: int64\n"
          ]
        }
      ]
    },
    {
      "cell_type": "code",
      "source": [
        "df.drop_duplicates(inplace=True)"
      ],
      "metadata": {
        "id": "_Hc6vfX2B2kT"
      },
      "execution_count": null,
      "outputs": []
    },
    {
      "cell_type": "code",
      "source": [
        "dup = df.duplicated().sum()\n",
        "dup"
      ],
      "metadata": {
        "colab": {
          "base_uri": "https://localhost:8080/"
        },
        "id": "5E7znVtoB5XN",
        "outputId": "715dd441-9637-425d-e207-7f1260ad527a"
      },
      "execution_count": null,
      "outputs": [
        {
          "output_type": "execute_result",
          "data": {
            "text/plain": [
              "0"
            ]
          },
          "metadata": {},
          "execution_count": 14
        }
      ]
    },
    {
      "cell_type": "code",
      "source": [
        "percentage = df.isna().sum()/df.shape[0]*100\n",
        "percentage"
      ],
      "metadata": {
        "colab": {
          "base_uri": "https://localhost:8080/",
          "height": 366
        },
        "id": "GbEMkcxVB8IU",
        "outputId": "2c853a99-f8d3-433d-de0d-c3871a1b9e80"
      },
      "execution_count": null,
      "outputs": [
        {
          "output_type": "execute_result",
          "data": {
            "text/plain": [
              "mpg             0.0\n",
              "cylinders       0.0\n",
              "displacement    0.0\n",
              "horsepower      0.0\n",
              "weight          0.0\n",
              "acceleration    0.0\n",
              "model year      0.0\n",
              "origin          0.0\n",
              "car name        0.0\n",
              "dtype: float64"
            ],
            "text/html": [
              "<div>\n",
              "<style scoped>\n",
              "    .dataframe tbody tr th:only-of-type {\n",
              "        vertical-align: middle;\n",
              "    }\n",
              "\n",
              "    .dataframe tbody tr th {\n",
              "        vertical-align: top;\n",
              "    }\n",
              "\n",
              "    .dataframe thead th {\n",
              "        text-align: right;\n",
              "    }\n",
              "</style>\n",
              "<table border=\"1\" class=\"dataframe\">\n",
              "  <thead>\n",
              "    <tr style=\"text-align: right;\">\n",
              "      <th></th>\n",
              "      <th>0</th>\n",
              "    </tr>\n",
              "  </thead>\n",
              "  <tbody>\n",
              "    <tr>\n",
              "      <th>mpg</th>\n",
              "      <td>0.0</td>\n",
              "    </tr>\n",
              "    <tr>\n",
              "      <th>cylinders</th>\n",
              "      <td>0.0</td>\n",
              "    </tr>\n",
              "    <tr>\n",
              "      <th>displacement</th>\n",
              "      <td>0.0</td>\n",
              "    </tr>\n",
              "    <tr>\n",
              "      <th>horsepower</th>\n",
              "      <td>0.0</td>\n",
              "    </tr>\n",
              "    <tr>\n",
              "      <th>weight</th>\n",
              "      <td>0.0</td>\n",
              "    </tr>\n",
              "    <tr>\n",
              "      <th>acceleration</th>\n",
              "      <td>0.0</td>\n",
              "    </tr>\n",
              "    <tr>\n",
              "      <th>model year</th>\n",
              "      <td>0.0</td>\n",
              "    </tr>\n",
              "    <tr>\n",
              "      <th>origin</th>\n",
              "      <td>0.0</td>\n",
              "    </tr>\n",
              "    <tr>\n",
              "      <th>car name</th>\n",
              "      <td>0.0</td>\n",
              "    </tr>\n",
              "  </tbody>\n",
              "</table>\n",
              "</div><br><label><b>dtype:</b> float64</label>"
            ]
          },
          "metadata": {},
          "execution_count": 15
        }
      ]
    },
    {
      "cell_type": "code",
      "source": [
        "df.columns"
      ],
      "metadata": {
        "id": "RO0kSJ8xvmTq",
        "colab": {
          "base_uri": "https://localhost:8080/"
        },
        "outputId": "54edd279-c895-40c3-fd9e-e2837d92e58b"
      },
      "execution_count": null,
      "outputs": [
        {
          "output_type": "execute_result",
          "data": {
            "text/plain": [
              "Index(['mpg', 'cylinders', 'displacement', 'horsepower', 'weight',\n",
              "       'acceleration', 'model year', 'origin', 'car name'],\n",
              "      dtype='object')"
            ]
          },
          "metadata": {},
          "execution_count": 76
        }
      ]
    },
    {
      "cell_type": "code",
      "source": [
        "cyl = df.cylinders\n",
        "dis = df.displacement\n",
        "horse = df.horsepower\n",
        "weight = df.weight\n",
        "acc = df.acceleration\n",
        "origin = df.origin\n",
        "\n",
        "plt.bar(cyl,dis)\n",
        "plt.xlabel('cylinders')\n",
        "plt.ylabel('displacement')\n",
        "plt.show()"
      ],
      "metadata": {
        "colab": {
          "base_uri": "https://localhost:8080/",
          "height": 449
        },
        "id": "5YaVyXGJvFAJ",
        "outputId": "2561a914-a50e-4a8f-a313-a797c37a1a35"
      },
      "execution_count": null,
      "outputs": [
        {
          "output_type": "display_data",
          "data": {
            "text/plain": [
              "<Figure size 640x480 with 1 Axes>"
            ],
            "image/png": "[encoded data removed]"
          },
          "metadata": {}
        }
      ]
    },
    {
      "cell_type": "markdown",
      "source": [
        "OUTLIER"
      ],
      "metadata": {
        "id": "byopX0WGtErj"
      }
    },
    {
      "cell_type": "code",
      "source": [
        "for i in df.columns:\n",
        "  sns.boxplot(x=df[i])\n",
        "  plt.show()\n",
        "  print(i,'*'*100)\n"
      ],
      "metadata": {
        "colab": {
          "base_uri": "https://localhost:8080/",
          "height": 1000
        },
        "id": "aDTJVMEDCBxx",
        "outputId": "b2d325b1-a524-41fe-91cc-900b5ab6f1aa",
        "collapsed": true
      },
      "execution_count": null,
      "outputs": [
        {
          "output_type": "display_data",
          "data": {
            "text/plain": [
              "<Figure size 640x480 with 1 Axes>"
            ],
            "image/png": "[encoded data removed]"
          },
          "metadata": {}
        },
        {
          "output_type": "stream",
          "name": "stdout",
          "text": [
            "mpg ****************************************************************************************************\n"
          ]
        },
        {
          "output_type": "display_data",
          "data": {
            "text/plain": [
              "<Figure size 640x480 with 1 Axes>"
            ],
            "image/png": "[encoded data removed]"
          },
          "metadata": {}
        },
        {
          "output_type": "stream",
          "name": "stdout",
          "text": [
            "cylinders ****************************************************************************************************\n"
          ]
        },
        {
          "output_type": "display_data",
          "data": {
            "text/plain": [
              "<Figure size 640x480 with 1 Axes>"
            ],
            "image/png": "[encoded data removed]"
          },
          "metadata": {}
        },
        {
          "output_type": "stream",
          "name": "stdout",
          "text": [
            "displacement ****************************************************************************************************\n"
          ]
        },
        {
          "output_type": "display_data",
          "data": {
            "text/plain": [
              "<Figure size 640x480 with 1 Axes>"
            ],
            "image/png": "[encoded data removed]"
          },
          "metadata": {}
        },
        {
          "output_type": "stream",
          "name": "stdout",
          "text": [
            "horsepower ****************************************************************************************************\n"
          ]
        },
        {
          "output_type": "display_data",
          "data": {
            "text/plain": [
              "<Figure size 640x480 with 1 Axes>"
            ],
            "image/png": "[encoded data removed]"
          },
          "metadata": {}
        },
        {
          "output_type": "stream",
          "name": "stdout",
          "text": [
            "weight ****************************************************************************************************\n"
          ]
        },
        {
          "output_type": "display_data",
          "data": {
            "text/plain": [
              "<Figure size 640x480 with 1 Axes>"
            ],
            "image/png": "[encoded data removed]"
          },
          "metadata": {}
        },
        {
          "output_type": "stream",
          "name": "stdout",
          "text": [
            "acceleration ****************************************************************************************************\n"
          ]
        },
        {
          "output_type": "display_data",
          "data": {
            "text/plain": [
              "<Figure size 640x480 with 1 Axes>"
            ],
            "image/png": "[encoded data removed]"
          },
          "metadata": {}
        },
        {
          "output_type": "stream",
          "name": "stdout",
          "text": [
            "model year ****************************************************************************************************\n"
          ]
        },
        {
          "output_type": "display_data",
          "data": {
            "text/plain": [
              "<Figure size 640x480 with 1 Axes>"
            ],
            "image/png": "[encoded data removed]"
          },
          "metadata": {}
        },
        {
          "output_type": "stream",
          "name": "stdout",
          "text": [
            "origin ****************************************************************************************************\n"
          ]
        },
        {
          "output_type": "display_data",
          "data": {
            "text/plain": [
              "<Figure size 640x480 with 1 Axes>"
            ],
            "image/png": "[encoded data removed]"
          },
          "metadata": {}
        },
        {
          "output_type": "stream",
          "name": "stdout",
          "text": [
            "car name ****************************************************************************************************\n"
          ]
        }
      ]
    },
    {
      "cell_type": "markdown",
      "source": [
        "LABEL ENCODER"
      ],
      "metadata": {
        "id": "6OV203_Bt3ZJ"
      }
    },
    {
      "cell_type": "code",
      "source": [
        "from sklearn.preprocessing import LabelEncoder\n",
        "le = LabelEncoder()\n",
        "\n",
        "labelfit = le.fit(df['car name'])\n",
        "df['car name'] = labelfit.transform(df['car name'])\n",
        "\n",
        "df.head()"
      ],
      "metadata": {
        "colab": {
          "base_uri": "https://localhost:8080/",
          "height": 206
        },
        "id": "b3Ure8ltt5j-",
        "outputId": "cbf55860-b1e9-4292-d495-aab6efd38626"
      },
      "execution_count": null,
      "outputs": [
        {
          "output_type": "execute_result",
          "data": {
            "text/plain": [
              "    mpg  cylinders  displacement horsepower  weight  acceleration  model year  \\\n",
              "0  18.0          8         307.0        130    3504          12.0          70   \n",
              "1  15.0          8         350.0        165    3693          11.5          70   \n",
              "2  18.0          8         318.0        150    3436          11.0          70   \n",
              "3  16.0          8         304.0        150    3433          12.0          70   \n",
              "4  17.0          8         302.0        140    3449          10.5          70   \n",
              "\n",
              "   origin  car name  \n",
              "0       1        49  \n",
              "1       1        36  \n",
              "2       1       231  \n",
              "3       1        14  \n",
              "4       1       161  "
            ],
            "text/html": [
              "\n",
              "  <div id=\"df-d5816349-4834-47ad-9774-13ca9458bb8e\" class=\"colab-df-container\">\n",
              "    <div>\n",
              "<style scoped>\n",
              "    .dataframe tbody tr th:only-of-type {\n",
              "        vertical-align: middle;\n",
              "    }\n",
              "\n",
              "    .dataframe tbody tr th {\n",
              "        vertical-align: top;\n",
              "    }\n",
              "\n",
              "    .dataframe thead th {\n",
              "        text-align: right;\n",
              "    }\n",
              "</style>\n",
              "<table border=\"1\" class=\"dataframe\">\n",
              "  <thead>\n",
              "    <tr style=\"text-align: right;\">\n",
              "      <th></th>\n",
              "      <th>mpg</th>\n",
              "      <th>cylinders</th>\n",
              "      <th>displacement</th>\n",
              "      <th>horsepower</th>\n",
              "      <th>weight</th>\n",
              "      <th>acceleration</th>\n",
              "      <th>model year</th>\n",
              "      <th>origin</th>\n",
              "      <th>car name</th>\n",
              "    </tr>\n",
              "  </thead>\n",
              "  <tbody>\n",
              "    <tr>\n",
              "      <th>0</th>\n",
              "      <td>18.0</td>\n",
              "      <td>8</td>\n",
              "      <td>307.0</td>\n",
              "      <td>130</td>\n",
              "      <td>3504</td>\n",
              "      <td>12.0</td>\n",
              "      <td>70</td>\n",
              "      <td>1</td>\n",
              "      <td>49</td>\n",
              "    </tr>\n",
              "    <tr>\n",
              "      <th>1</th>\n",
              "      <td>15.0</td>\n",
              "      <td>8</td>\n",
              "      <td>350.0</td>\n",
              "      <td>165</td>\n",
              "      <td>3693</td>\n",
              "      <td>11.5</td>\n",
              "      <td>70</td>\n",
              "      <td>1</td>\n",
              "      <td>36</td>\n",
              "    </tr>\n",
              "    <tr>\n",
              "      <th>2</th>\n",
              "      <td>18.0</td>\n",
              "      <td>8</td>\n",
              "      <td>318.0</td>\n",
              "      <td>150</td>\n",
              "      <td>3436</td>\n",
              "      <td>11.0</td>\n",
              "      <td>70</td>\n",
              "      <td>1</td>\n",
              "      <td>231</td>\n",
              "    </tr>\n",
              "    <tr>\n",
              "      <th>3</th>\n",
              "      <td>16.0</td>\n",
              "      <td>8</td>\n",
              "      <td>304.0</td>\n",
              "      <td>150</td>\n",
              "      <td>3433</td>\n",
              "      <td>12.0</td>\n",
              "      <td>70</td>\n",
              "      <td>1</td>\n",
              "      <td>14</td>\n",
              "    </tr>\n",
              "    <tr>\n",
              "      <th>4</th>\n",
              "      <td>17.0</td>\n",
              "      <td>8</td>\n",
              "      <td>302.0</td>\n",
              "      <td>140</td>\n",
              "      <td>3449</td>\n",
              "      <td>10.5</td>\n",
              "      <td>70</td>\n",
              "      <td>1</td>\n",
              "      <td>161</td>\n",
              "    </tr>\n",
              "  </tbody>\n",
              "</table>\n",
              "</div>\n",
              "    <div class=\"colab-df-buttons\">\n",
              "\n",
              "  <div class=\"colab-df-container\">\n",
              "    <button class=\"colab-df-convert\" onclick=\"convertToInteractive('df-d5816349-4834-47ad-9774-13ca9458bb8e')\"\n",
              "            title=\"Convert this dataframe to an interactive table.\"\n",
              "            style=\"display:none;\">\n",
              "\n",
              "  <svg xmlns=\"http://www.w3.org/2000/svg\" height=\"24px\" viewBox=\"0 -960 960 960\">\n",
              "    <path d=\"M120-120v-720h720v720H120Zm60-500h600v-160H180v160Zm220 220h160v-160H400v160Zm0 220h160v-160H400v160ZM180-400h160v-160H180v160Zm440 0h160v-160H620v160ZM180-180h160v-160H180v160Zm440 0h160v-160H620v160Z\"/>\n",
              "  </svg>\n",
              "    </button>\n",
              "\n",
              "  <style>\n",
              "    .colab-df-container {\n",
              "      display:flex;\n",
              "      gap: 12px;\n",
              "    }\n",
              "\n",
              "    .colab-df-convert {\n",
              "      background-color: #E8F0FE;\n",
              "      border: none;\n",
              "      border-radius: 50%;\n",
              "      cursor: pointer;\n",
              "      display: none;\n",
              "      fill: #1967D2;\n",
              "      height: 32px;\n",
              "      padding: 0 0 0 0;\n",
              "      width: 32px;\n",
              "    }\n",
              "\n",
              "    .colab-df-convert:hover {\n",
              "      background-color: #E2EBFA;\n",
              "      box-shadow: 0px 1px 2px rgba(60, 64, 67, 0.3), 0px 1px 3px 1px rgba(60, 64, 67, 0.15);\n",
              "      fill: #174EA6;\n",
              "    }\n",
              "\n",
              "    .colab-df-buttons div {\n",
              "      margin-bottom: 4px;\n",
              "    }\n",
              "\n",
              "    [theme=dark] .colab-df-convert {\n",
              "      background-color: #3B4455;\n",
              "      fill: #D2E3FC;\n",
              "    }\n",
              "\n",
              "    [theme=dark] .colab-df-convert:hover {\n",
              "      background-color: #434B5C;\n",
              "      box-shadow: 0px 1px 3px 1px rgba(0, 0, 0, 0.15);\n",
              "      filter: drop-shadow(0px 1px 2px rgba(0, 0, 0, 0.3));\n",
              "      fill: #FFFFFF;\n",
              "    }\n",
              "  </style>\n",
              "\n",
              "    <script>\n",
              "      const buttonEl =\n",
              "        document.querySelector('#df-d5816349-4834-47ad-9774-13ca9458bb8e button.colab-df-convert');\n",
              "      buttonEl.style.display =\n",
              "        google.colab.kernel.accessAllowed ? 'block' : 'none';\n",
              "\n",
              "      async function convertToInteractive(key) {\n",
              "        const element = document.querySelector('#df-d5816349-4834-47ad-9774-13ca9458bb8e');\n",
              "        const dataTable =\n",
              "          await google.colab.kernel.invokeFunction('convertToInteractive',\n",
              "                                                    [key], {});\n",
              "        if (!dataTable) return;\n",
              "\n",
              "        const docLinkHtml = 'Like what you see? Visit the ' +\n",
              "          '<a target=\"_blank\" href=https://colab.research.google.com/notebooks/data_table.ipynb>data table notebook</a>'\n",
              "          + ' to learn more about interactive tables.';\n",
              "        element.innerHTML = '';\n",
              "        dataTable['output_type'] = 'display_data';\n",
              "        await google.colab.output.renderOutput(dataTable, element);\n",
              "        const docLink = document.createElement('div');\n",
              "        docLink.innerHTML = docLinkHtml;\n",
              "        element.appendChild(docLink);\n",
              "      }\n",
              "    </script>\n",
              "  </div>\n",
              "\n",
              "\n",
              "<div id=\"df-a8adbfb2-cc9b-488b-9986-0ce36ab76d7c\">\n",
              "  <button class=\"colab-df-quickchart\" onclick=\"quickchart('df-a8adbfb2-cc9b-488b-9986-0ce36ab76d7c')\"\n",
              "            title=\"Suggest charts\"\n",
              "            style=\"display:none;\">\n",
              "\n",
              "<svg xmlns=\"http://www.w3.org/2000/svg\" height=\"24px\"viewBox=\"0 0 24 24\"\n",
              "     width=\"24px\">\n",
              "    <g>\n",
              "        <path d=\"M19 3H5c-1.1 0-2 .9-2 2v14c0 1.1.9 2 2 2h14c1.1 0 2-.9 2-2V5c0-1.1-.9-2-2-2zM9 17H7v-7h2v7zm4 0h-2V7h2v10zm4 0h-2v-4h2v4z\"/>\n",
              "    </g>\n",
              "</svg>\n",
              "  </button>\n",
              "\n",
              "<style>\n",
              "  .colab-df-quickchart {\n",
              "      --bg-color: #E8F0FE;\n",
              "      --fill-color: #1967D2;\n",
              "      --hover-bg-color: #E2EBFA;\n",
              "      --hover-fill-color: #174EA6;\n",
              "      --disabled-fill-color: #AAA;\n",
              "      --disabled-bg-color: #DDD;\n",
              "  }\n",
              "\n",
              "  [theme=dark] .colab-df-quickchart {\n",
              "      --bg-color: #3B4455;\n",
              "      --fill-color: #D2E3FC;\n",
              "      --hover-bg-color: #434B5C;\n",
              "      --hover-fill-color: #FFFFFF;\n",
              "      --disabled-bg-color: #3B4455;\n",
              "      --disabled-fill-color: #666;\n",
              "  }\n",
              "\n",
              "  .colab-df-quickchart {\n",
              "    background-color: var(--bg-color);\n",
              "    border: none;\n",
              "    border-radius: 50%;\n",
              "    cursor: pointer;\n",
              "    display: none;\n",
              "    fill: var(--fill-color);\n",
              "    height: 32px;\n",
              "    padding: 0;\n",
              "    width: 32px;\n",
              "  }\n",
              "\n",
              "  .colab-df-quickchart:hover {\n",
              "    background-color: var(--hover-bg-color);\n",
              "    box-shadow: 0 1px 2px rgba(60, 64, 67, 0.3), 0 1px 3px 1px rgba(60, 64, 67, 0.15);\n",
              "    fill: var(--button-hover-fill-color);\n",
              "  }\n",
              "\n",
              "  .colab-df-quickchart-complete:disabled,\n",
              "  .colab-df-quickchart-complete:disabled:hover {\n",
              "    background-color: var(--disabled-bg-color);\n",
              "    fill: var(--disabled-fill-color);\n",
              "    box-shadow: none;\n",
              "  }\n",
              "\n",
              "  .colab-df-spinner {\n",
              "    border: 2px solid var(--fill-color);\n",
              "    border-color: transparent;\n",
              "    border-bottom-color: var(--fill-color);\n",
              "    animation:\n",
              "      spin 1s steps(1) infinite;\n",
              "  }\n",
              "\n",
              "  @keyframes spin {\n",
              "    0% {\n",
              "      border-color: transparent;\n",
              "      border-bottom-color: var(--fill-color);\n",
              "      border-left-color: var(--fill-color);\n",
              "    }\n",
              "    20% {\n",
              "      border-color: transparent;\n",
              "      border-left-color: var(--fill-color);\n",
              "      border-top-color: var(--fill-color);\n",
              "    }\n",
              "    30% {\n",
              "      border-color: transparent;\n",
              "      border-left-color: var(--fill-color);\n",
              "      border-top-color: var(--fill-color);\n",
              "      border-right-color: var(--fill-color);\n",
              "    }\n",
              "    40% {\n",
              "      border-color: transparent;\n",
              "      border-right-color: var(--fill-color);\n",
              "      border-top-color: var(--fill-color);\n",
              "    }\n",
              "    60% {\n",
              "      border-color: transparent;\n",
              "      border-right-color: var(--fill-color);\n",
              "    }\n",
              "    80% {\n",
              "      border-color: transparent;\n",
              "      border-right-color: var(--fill-color);\n",
              "      border-bottom-color: var(--fill-color);\n",
              "    }\n",
              "    90% {\n",
              "      border-color: transparent;\n",
              "      border-bottom-color: var(--fill-color);\n",
              "    }\n",
              "  }\n",
              "</style>\n",
              "\n",
              "  <script>\n",
              "    async function quickchart(key) {\n",
              "      const quickchartButtonEl =\n",
              "        document.querySelector('#' + key + ' button');\n",
              "      quickchartButtonEl.disabled = true;  // To prevent multiple clicks.\n",
              "      quickchartButtonEl.classList.add('colab-df-spinner');\n",
              "      try {\n",
              "        const charts = await google.colab.kernel.invokeFunction(\n",
              "            'suggestCharts', [key], {});\n",
              "      } catch (error) {\n",
              "        console.error('Error during call to suggestCharts:', error);\n",
              "      }\n",
              "      quickchartButtonEl.classList.remove('colab-df-spinner');\n",
              "      quickchartButtonEl.classList.add('colab-df-quickchart-complete');\n",
              "    }\n",
              "    (() => {\n",
              "      let quickchartButtonEl =\n",
              "        document.querySelector('#df-a8adbfb2-cc9b-488b-9986-0ce36ab76d7c button');\n",
              "      quickchartButtonEl.style.display =\n",
              "        google.colab.kernel.accessAllowed ? 'block' : 'none';\n",
              "    })();\n",
              "  </script>\n",
              "</div>\n",
              "\n",
              "    </div>\n",
              "  </div>\n"
            ],
            "application/vnd.google.colaboratory.intrinsic+json": {
              "type": "dataframe",
              "variable_name": "df",
              "summary": "{\n  \"name\": \"df\",\n  \"rows\": 398,\n  \"fields\": [\n    {\n      \"column\": \"mpg\",\n      \"properties\": {\n        \"dtype\": \"number\",\n        \"std\": 7.815984312565782,\n        \"min\": 9.0,\n        \"max\": 46.6,\n        \"num_unique_values\": 129,\n        \"samples\": [\n          17.7,\n          30.5,\n          30.0\n        ],\n        \"semantic_type\": \"\",\n        \"description\": \"\"\n      }\n    },\n    {\n      \"column\": \"cylinders\",\n      \"properties\": {\n        \"dtype\": \"number\",\n        \"std\": 1,\n        \"min\": 3,\n        \"max\": 8,\n        \"num_unique_values\": 5,\n        \"samples\": [\n          4,\n          5,\n          6\n        ],\n        \"semantic_type\": \"\",\n        \"description\": \"\"\n      }\n    },\n    {\n      \"column\": \"displacement\",\n      \"properties\": {\n        \"dtype\": \"number\",\n        \"std\": 104.26983817119591,\n        \"min\": 68.0,\n        \"max\": 455.0,\n        \"num_unique_values\": 82,\n        \"samples\": [\n          122.0,\n          307.0,\n          360.0\n        ],\n        \"semantic_type\": \"\",\n        \"description\": \"\"\n      }\n    },\n    {\n      \"column\": \"horsepower\",\n      \"properties\": {\n        \"dtype\": \"category\",\n        \"num_unique_values\": 94,\n        \"samples\": [\n          \"112\",\n          \"?\",\n          \"78\"\n        ],\n        \"semantic_type\": \"\",\n        \"description\": \"\"\n      }\n    },\n    {\n      \"column\": \"weight\",\n      \"properties\": {\n        \"dtype\": \"number\",\n        \"std\": 846,\n        \"min\": 1613,\n        \"max\": 5140,\n        \"num_unique_values\": 351,\n        \"samples\": [\n          3730,\n          1995,\n          2215\n        ],\n        \"semantic_type\": \"\",\n        \"description\": \"\"\n      }\n    },\n    {\n      \"column\": \"acceleration\",\n      \"properties\": {\n        \"dtype\": \"number\",\n        \"std\": 2.757688929812676,\n        \"min\": 8.0,\n        \"max\": 24.8,\n        \"num_unique_values\": 95,\n        \"samples\": [\n          14.7,\n          18.0,\n          14.3\n        ],\n        \"semantic_type\": \"\",\n        \"description\": \"\"\n      }\n    },\n    {\n      \"column\": \"model year\",\n      \"properties\": {\n        \"dtype\": \"number\",\n        \"std\": 3,\n        \"min\": 70,\n        \"max\": 82,\n        \"num_unique_values\": 13,\n        \"samples\": [\n          81,\n          79,\n          70\n        ],\n        \"semantic_type\": \"\",\n        \"description\": \"\"\n      }\n    },\n    {\n      \"column\": \"origin\",\n      \"properties\": {\n        \"dtype\": \"number\",\n        \"std\": 0,\n        \"min\": 1,\n        \"max\": 3,\n        \"num_unique_values\": 3,\n        \"samples\": [\n          1,\n          3,\n          2\n        ],\n        \"semantic_type\": \"\",\n        \"description\": \"\"\n      }\n    },\n    {\n      \"column\": \"car name\",\n      \"properties\": {\n        \"dtype\": \"number\",\n        \"std\": 89,\n        \"min\": 0,\n        \"max\": 304,\n        \"num_unique_values\": 305,\n        \"samples\": [\n          181,\n          132,\n          27\n        ],\n        \"semantic_type\": \"\",\n        \"description\": \"\"\n      }\n    }\n  ]\n}"
            }
          },
          "metadata": {},
          "execution_count": 17
        }
      ]
    },
    {
      "cell_type": "code",
      "source": [
        "from sklearn.preprocessing import LabelEncoder\n",
        "le = LabelEncoder()\n",
        "\n",
        "labelfit = le.fit(df['horsepower'])\n",
        "df['horsepower'] = labelfit.transform(df['horsepower'])\n",
        "\n",
        "df.head()"
      ],
      "metadata": {
        "colab": {
          "base_uri": "https://localhost:8080/",
          "height": 206
        },
        "id": "S9ImzcKPvzk7",
        "outputId": "a6b1545b-23f4-4619-b385-d559e2696eab"
      },
      "execution_count": null,
      "outputs": [
        {
          "output_type": "execute_result",
          "data": {
            "text/plain": [
              "    mpg  cylinders  displacement  horsepower  weight  acceleration  \\\n",
              "0  18.0          8         307.0          15    3504          12.0   \n",
              "1  15.0          8         350.0          33    3693          11.5   \n",
              "2  18.0          8         318.0          27    3436          11.0   \n",
              "3  16.0          8         304.0          27    3433          12.0   \n",
              "4  17.0          8         302.0          22    3449          10.5   \n",
              "\n",
              "   model year  origin  car name  \n",
              "0          70       1        49  \n",
              "1          70       1        36  \n",
              "2          70       1       231  \n",
              "3          70       1        14  \n",
              "4          70       1       161  "
            ],
            "text/html": [
              "\n",
              "  <div id=\"df-0ae0621e-d4de-4721-9f0e-5029d3bf3268\" class=\"colab-df-container\">\n",
              "    <div>\n",
              "<style scoped>\n",
              "    .dataframe tbody tr th:only-of-type {\n",
              "        vertical-align: middle;\n",
              "    }\n",
              "\n",
              "    .dataframe tbody tr th {\n",
              "        vertical-align: top;\n",
              "    }\n",
              "\n",
              "    .dataframe thead th {\n",
              "        text-align: right;\n",
              "    }\n",
              "</style>\n",
              "<table border=\"1\" class=\"dataframe\">\n",
              "  <thead>\n",
              "    <tr style=\"text-align: right;\">\n",
              "      <th></th>\n",
              "      <th>mpg</th>\n",
              "      <th>cylinders</th>\n",
              "      <th>displacement</th>\n",
              "      <th>horsepower</th>\n",
              "      <th>weight</th>\n",
              "      <th>acceleration</th>\n",
              "      <th>model year</th>\n",
              "      <th>origin</th>\n",
              "      <th>car name</th>\n",
              "    </tr>\n",
              "  </thead>\n",
              "  <tbody>\n",
              "    <tr>\n",
              "      <th>0</th>\n",
              "      <td>18.0</td>\n",
              "      <td>8</td>\n",
              "      <td>307.0</td>\n",
              "      <td>15</td>\n",
              "      <td>3504</td>\n",
              "      <td>12.0</td>\n",
              "      <td>70</td>\n",
              "      <td>1</td>\n",
              "      <td>49</td>\n",
              "    </tr>\n",
              "    <tr>\n",
              "      <th>1</th>\n",
              "      <td>15.0</td>\n",
              "      <td>8</td>\n",
              "      <td>350.0</td>\n",
              "      <td>33</td>\n",
              "      <td>3693</td>\n",
              "      <td>11.5</td>\n",
              "      <td>70</td>\n",
              "      <td>1</td>\n",
              "      <td>36</td>\n",
              "    </tr>\n",
              "    <tr>\n",
              "      <th>2</th>\n",
              "      <td>18.0</td>\n",
              "      <td>8</td>\n",
              "      <td>318.0</td>\n",
              "      <td>27</td>\n",
              "      <td>3436</td>\n",
              "      <td>11.0</td>\n",
              "      <td>70</td>\n",
              "      <td>1</td>\n",
              "      <td>231</td>\n",
              "    </tr>\n",
              "    <tr>\n",
              "      <th>3</th>\n",
              "      <td>16.0</td>\n",
              "      <td>8</td>\n",
              "      <td>304.0</td>\n",
              "      <td>27</td>\n",
              "      <td>3433</td>\n",
              "      <td>12.0</td>\n",
              "      <td>70</td>\n",
              "      <td>1</td>\n",
              "      <td>14</td>\n",
              "    </tr>\n",
              "    <tr>\n",
              "      <th>4</th>\n",
              "      <td>17.0</td>\n",
              "      <td>8</td>\n",
              "      <td>302.0</td>\n",
              "      <td>22</td>\n",
              "      <td>3449</td>\n",
              "      <td>10.5</td>\n",
              "      <td>70</td>\n",
              "      <td>1</td>\n",
              "      <td>161</td>\n",
              "    </tr>\n",
              "  </tbody>\n",
              "</table>\n",
              "</div>\n",
              "    <div class=\"colab-df-buttons\">\n",
              "\n",
              "  <div class=\"colab-df-container\">\n",
              "    <button class=\"colab-df-convert\" onclick=\"convertToInteractive('df-0ae0621e-d4de-4721-9f0e-5029d3bf3268')\"\n",
              "            title=\"Convert this dataframe to an interactive table.\"\n",
              "            style=\"display:none;\">\n",
              "\n",
              "  <svg xmlns=\"http://www.w3.org/2000/svg\" height=\"24px\" viewBox=\"0 -960 960 960\">\n",
              "    <path d=\"M120-120v-720h720v720H120Zm60-500h600v-160H180v160Zm220 220h160v-160H400v160Zm0 220h160v-160H400v160ZM180-400h160v-160H180v160Zm440 0h160v-160H620v160ZM180-180h160v-160H180v160Zm440 0h160v-160H620v160Z\"/>\n",
              "  </svg>\n",
              "    </button>\n",
              "\n",
              "  <style>\n",
              "    .colab-df-container {\n",
              "      display:flex;\n",
              "      gap: 12px;\n",
              "    }\n",
              "\n",
              "    .colab-df-convert {\n",
              "      background-color: #E8F0FE;\n",
              "      border: none;\n",
              "      border-radius: 50%;\n",
              "      cursor: pointer;\n",
              "      display: none;\n",
              "      fill: #1967D2;\n",
              "      height: 32px;\n",
              "      padding: 0 0 0 0;\n",
              "      width: 32px;\n",
              "    }\n",
              "\n",
              "    .colab-df-convert:hover {\n",
              "      background-color: #E2EBFA;\n",
              "      box-shadow: 0px 1px 2px rgba(60, 64, 67, 0.3), 0px 1px 3px 1px rgba(60, 64, 67, 0.15);\n",
              "      fill: #174EA6;\n",
              "    }\n",
              "\n",
              "    .colab-df-buttons div {\n",
              "      margin-bottom: 4px;\n",
              "    }\n",
              "\n",
              "    [theme=dark] .colab-df-convert {\n",
              "      background-color: #3B4455;\n",
              "      fill: #D2E3FC;\n",
              "    }\n",
              "\n",
              "    [theme=dark] .colab-df-convert:hover {\n",
              "      background-color: #434B5C;\n",
              "      box-shadow: 0px 1px 3px 1px rgba(0, 0, 0, 0.15);\n",
              "      filter: drop-shadow(0px 1px 2px rgba(0, 0, 0, 0.3));\n",
              "      fill: #FFFFFF;\n",
              "    }\n",
              "  </style>\n",
              "\n",
              "    <script>\n",
              "      const buttonEl =\n",
              "        document.querySelector('#df-0ae0621e-d4de-4721-9f0e-5029d3bf3268 button.colab-df-convert');\n",
              "      buttonEl.style.display =\n",
              "        google.colab.kernel.accessAllowed ? 'block' : 'none';\n",
              "\n",
              "      async function convertToInteractive(key) {\n",
              "        const element = document.querySelector('#df-0ae0621e-d4de-4721-9f0e-5029d3bf3268');\n",
              "        const dataTable =\n",
              "          await google.colab.kernel.invokeFunction('convertToInteractive',\n",
              "                                                    [key], {});\n",
              "        if (!dataTable) return;\n",
              "\n",
              "        const docLinkHtml = 'Like what you see? Visit the ' +\n",
              "          '<a target=\"_blank\" href=https://colab.research.google.com/notebooks/data_table.ipynb>data table notebook</a>'\n",
              "          + ' to learn more about interactive tables.';\n",
              "        element.innerHTML = '';\n",
              "        dataTable['output_type'] = 'display_data';\n",
              "        await google.colab.output.renderOutput(dataTable, element);\n",
              "        const docLink = document.createElement('div');\n",
              "        docLink.innerHTML = docLinkHtml;\n",
              "        element.appendChild(docLink);\n",
              "      }\n",
              "    </script>\n",
              "  </div>\n",
              "\n",
              "\n",
              "<div id=\"df-36943808-e390-49dc-878a-544878bacfbb\">\n",
              "  <button class=\"colab-df-quickchart\" onclick=\"quickchart('df-36943808-e390-49dc-878a-544878bacfbb')\"\n",
              "            title=\"Suggest charts\"\n",
              "            style=\"display:none;\">\n",
              "\n",
              "<svg xmlns=\"http://www.w3.org/2000/svg\" height=\"24px\"viewBox=\"0 0 24 24\"\n",
              "     width=\"24px\">\n",
              "    <g>\n",
              "        <path d=\"M19 3H5c-1.1 0-2 .9-2 2v14c0 1.1.9 2 2 2h14c1.1 0 2-.9 2-2V5c0-1.1-.9-2-2-2zM9 17H7v-7h2v7zm4 0h-2V7h2v10zm4 0h-2v-4h2v4z\"/>\n",
              "    </g>\n",
              "</svg>\n",
              "  </button>\n",
              "\n",
              "<style>\n",
              "  .colab-df-quickchart {\n",
              "      --bg-color: #E8F0FE;\n",
              "      --fill-color: #1967D2;\n",
              "      --hover-bg-color: #E2EBFA;\n",
              "      --hover-fill-color: #174EA6;\n",
              "      --disabled-fill-color: #AAA;\n",
              "      --disabled-bg-color: #DDD;\n",
              "  }\n",
              "\n",
              "  [theme=dark] .colab-df-quickchart {\n",
              "      --bg-color: #3B4455;\n",
              "      --fill-color: #D2E3FC;\n",
              "      --hover-bg-color: #434B5C;\n",
              "      --hover-fill-color: #FFFFFF;\n",
              "      --disabled-bg-color: #3B4455;\n",
              "      --disabled-fill-color: #666;\n",
              "  }\n",
              "\n",
              "  .colab-df-quickchart {\n",
              "    background-color: var(--bg-color);\n",
              "    border: none;\n",
              "    border-radius: 50%;\n",
              "    cursor: pointer;\n",
              "    display: none;\n",
              "    fill: var(--fill-color);\n",
              "    height: 32px;\n",
              "    padding: 0;\n",
              "    width: 32px;\n",
              "  }\n",
              "\n",
              "  .colab-df-quickchart:hover {\n",
              "    background-color: var(--hover-bg-color);\n",
              "    box-shadow: 0 1px 2px rgba(60, 64, 67, 0.3), 0 1px 3px 1px rgba(60, 64, 67, 0.15);\n",
              "    fill: var(--button-hover-fill-color);\n",
              "  }\n",
              "\n",
              "  .colab-df-quickchart-complete:disabled,\n",
              "  .colab-df-quickchart-complete:disabled:hover {\n",
              "    background-color: var(--disabled-bg-color);\n",
              "    fill: var(--disabled-fill-color);\n",
              "    box-shadow: none;\n",
              "  }\n",
              "\n",
              "  .colab-df-spinner {\n",
              "    border: 2px solid var(--fill-color);\n",
              "    border-color: transparent;\n",
              "    border-bottom-color: var(--fill-color);\n",
              "    animation:\n",
              "      spin 1s steps(1) infinite;\n",
              "  }\n",
              "\n",
              "  @keyframes spin {\n",
              "    0% {\n",
              "      border-color: transparent;\n",
              "      border-bottom-color: var(--fill-color);\n",
              "      border-left-color: var(--fill-color);\n",
              "    }\n",
              "    20% {\n",
              "      border-color: transparent;\n",
              "      border-left-color: var(--fill-color);\n",
              "      border-top-color: var(--fill-color);\n",
              "    }\n",
              "    30% {\n",
              "      border-color: transparent;\n",
              "      border-left-color: var(--fill-color);\n",
              "      border-top-color: var(--fill-color);\n",
              "      border-right-color: var(--fill-color);\n",
              "    }\n",
              "    40% {\n",
              "      border-color: transparent;\n",
              "      border-right-color: var(--fill-color);\n",
              "      border-top-color: var(--fill-color);\n",
              "    }\n",
              "    60% {\n",
              "      border-color: transparent;\n",
              "      border-right-color: var(--fill-color);\n",
              "    }\n",
              "    80% {\n",
              "      border-color: transparent;\n",
              "      border-right-color: var(--fill-color);\n",
              "      border-bottom-color: var(--fill-color);\n",
              "    }\n",
              "    90% {\n",
              "      border-color: transparent;\n",
              "      border-bottom-color: var(--fill-color);\n",
              "    }\n",
              "  }\n",
              "</style>\n",
              "\n",
              "  <script>\n",
              "    async function quickchart(key) {\n",
              "      const quickchartButtonEl =\n",
              "        document.querySelector('#' + key + ' button');\n",
              "      quickchartButtonEl.disabled = true;  // To prevent multiple clicks.\n",
              "      quickchartButtonEl.classList.add('colab-df-spinner');\n",
              "      try {\n",
              "        const charts = await google.colab.kernel.invokeFunction(\n",
              "            'suggestCharts', [key], {});\n",
              "      } catch (error) {\n",
              "        console.error('Error during call to suggestCharts:', error);\n",
              "      }\n",
              "      quickchartButtonEl.classList.remove('colab-df-spinner');\n",
              "      quickchartButtonEl.classList.add('colab-df-quickchart-complete');\n",
              "    }\n",
              "    (() => {\n",
              "      let quickchartButtonEl =\n",
              "        document.querySelector('#df-36943808-e390-49dc-878a-544878bacfbb button');\n",
              "      quickchartButtonEl.style.display =\n",
              "        google.colab.kernel.accessAllowed ? 'block' : 'none';\n",
              "    })();\n",
              "  </script>\n",
              "</div>\n",
              "\n",
              "    </div>\n",
              "  </div>\n"
            ],
            "application/vnd.google.colaboratory.intrinsic+json": {
              "type": "dataframe",
              "variable_name": "df",
              "summary": "{\n  \"name\": \"df\",\n  \"rows\": 398,\n  \"fields\": [\n    {\n      \"column\": \"mpg\",\n      \"properties\": {\n        \"dtype\": \"number\",\n        \"std\": 7.815984312565782,\n        \"min\": 9.0,\n        \"max\": 46.6,\n        \"num_unique_values\": 129,\n        \"samples\": [\n          17.7,\n          30.5,\n          30.0\n        ],\n        \"semantic_type\": \"\",\n        \"description\": \"\"\n      }\n    },\n    {\n      \"column\": \"cylinders\",\n      \"properties\": {\n        \"dtype\": \"number\",\n        \"std\": 1,\n        \"min\": 3,\n        \"max\": 8,\n        \"num_unique_values\": 5,\n        \"samples\": [\n          4,\n          5,\n          6\n        ],\n        \"semantic_type\": \"\",\n        \"description\": \"\"\n      }\n    },\n    {\n      \"column\": \"displacement\",\n      \"properties\": {\n        \"dtype\": \"number\",\n        \"std\": 104.26983817119591,\n        \"min\": 68.0,\n        \"max\": 455.0,\n        \"num_unique_values\": 82,\n        \"samples\": [\n          122.0,\n          307.0,\n          360.0\n        ],\n        \"semantic_type\": \"\",\n        \"description\": \"\"\n      }\n    },\n    {\n      \"column\": \"horsepower\",\n      \"properties\": {\n        \"dtype\": \"number\",\n        \"std\": 29,\n        \"min\": 0,\n        \"max\": 93,\n        \"num_unique_values\": 94,\n        \"samples\": [\n          7,\n          93,\n          72\n        ],\n        \"semantic_type\": \"\",\n        \"description\": \"\"\n      }\n    },\n    {\n      \"column\": \"weight\",\n      \"properties\": {\n        \"dtype\": \"number\",\n        \"std\": 846,\n        \"min\": 1613,\n        \"max\": 5140,\n        \"num_unique_values\": 351,\n        \"samples\": [\n          3730,\n          1995,\n          2215\n        ],\n        \"semantic_type\": \"\",\n        \"description\": \"\"\n      }\n    },\n    {\n      \"column\": \"acceleration\",\n      \"properties\": {\n        \"dtype\": \"number\",\n        \"std\": 2.757688929812676,\n        \"min\": 8.0,\n        \"max\": 24.8,\n        \"num_unique_values\": 95,\n        \"samples\": [\n          14.7,\n          18.0,\n          14.3\n        ],\n        \"semantic_type\": \"\",\n        \"description\": \"\"\n      }\n    },\n    {\n      \"column\": \"model year\",\n      \"properties\": {\n        \"dtype\": \"number\",\n        \"std\": 3,\n        \"min\": 70,\n        \"max\": 82,\n        \"num_unique_values\": 13,\n        \"samples\": [\n          81,\n          79,\n          70\n        ],\n        \"semantic_type\": \"\",\n        \"description\": \"\"\n      }\n    },\n    {\n      \"column\": \"origin\",\n      \"properties\": {\n        \"dtype\": \"number\",\n        \"std\": 0,\n        \"min\": 1,\n        \"max\": 3,\n        \"num_unique_values\": 3,\n        \"samples\": [\n          1,\n          3,\n          2\n        ],\n        \"semantic_type\": \"\",\n        \"description\": \"\"\n      }\n    },\n    {\n      \"column\": \"car name\",\n      \"properties\": {\n        \"dtype\": \"number\",\n        \"std\": 89,\n        \"min\": 0,\n        \"max\": 304,\n        \"num_unique_values\": 305,\n        \"samples\": [\n          181,\n          132,\n          27\n        ],\n        \"semantic_type\": \"\",\n        \"description\": \"\"\n      }\n    }\n  ]\n}"
            }
          },
          "metadata": {},
          "execution_count": 18
        }
      ]
    },
    {
      "cell_type": "code",
      "source": [
        "df.info()"
      ],
      "metadata": {
        "colab": {
          "base_uri": "https://localhost:8080/"
        },
        "id": "Rn3iU3Atsb0m",
        "outputId": "2b4d2a30-1679-467c-d5db-994a5e7d55da"
      },
      "execution_count": null,
      "outputs": [
        {
          "output_type": "stream",
          "name": "stdout",
          "text": [
            "<class 'pandas.core.frame.DataFrame'>\n",
            "RangeIndex: 398 entries, 0 to 397\n",
            "Data columns (total 9 columns):\n",
            " #   Column        Non-Null Count  Dtype  \n",
            "---  ------        --------------  -----  \n",
            " 0   mpg           398 non-null    float64\n",
            " 1   cylinders     398 non-null    int64  \n",
            " 2   displacement  398 non-null    float64\n",
            " 3   horsepower    398 non-null    int64  \n",
            " 4   weight        398 non-null    int64  \n",
            " 5   acceleration  398 non-null    float64\n",
            " 6   model year    398 non-null    int64  \n",
            " 7   origin        398 non-null    int64  \n",
            " 8   car name      398 non-null    int64  \n",
            "dtypes: float64(3), int64(6)\n",
            "memory usage: 28.1 KB\n"
          ]
        }
      ]
    },
    {
      "cell_type": "code",
      "source": [],
      "metadata": {
        "id": "Pwky2_5zvpdr"
      },
      "execution_count": null,
      "outputs": []
    },
    {
      "cell_type": "markdown",
      "source": [
        "SPLITTING FOR TRAINING AND TESTING"
      ],
      "metadata": {
        "id": "p87w-oA4uigu"
      }
    },
    {
      "cell_type": "code",
      "source": [
        "x = df.drop('mpg',axis=1)\n",
        "\n",
        "y = df['mpg']"
      ],
      "metadata": {
        "id": "FtmZuuiACDqF"
      },
      "execution_count": null,
      "outputs": []
    },
    {
      "cell_type": "code",
      "source": [
        "x.head()"
      ],
      "metadata": {
        "colab": {
          "base_uri": "https://localhost:8080/",
          "height": 206
        },
        "id": "6DcnVtN7CEye",
        "outputId": "6af41d59-2341-424c-b556-fe76436fbb7a"
      },
      "execution_count": null,
      "outputs": [
        {
          "output_type": "execute_result",
          "data": {
            "text/plain": [
              "   cylinders  displacement  horsepower  weight  acceleration  model year  \\\n",
              "0          8         307.0          15    3504          12.0          70   \n",
              "1          8         350.0          33    3693          11.5          70   \n",
              "2          8         318.0          27    3436          11.0          70   \n",
              "3          8         304.0          27    3433          12.0          70   \n",
              "4          8         302.0          22    3449          10.5          70   \n",
              "\n",
              "   origin  car name  \n",
              "0       1        49  \n",
              "1       1        36  \n",
              "2       1       231  \n",
              "3       1        14  \n",
              "4       1       161  "
            ],
            "text/html": [
              "\n",
              "  <div id=\"df-d02a2527-e9ac-473a-a14e-a33bb6958537\" class=\"colab-df-container\">\n",
              "    <div>\n",
              "<style scoped>\n",
              "    .dataframe tbody tr th:only-of-type {\n",
              "        vertical-align: middle;\n",
              "    }\n",
              "\n",
              "    .dataframe tbody tr th {\n",
              "        vertical-align: top;\n",
              "    }\n",
              "\n",
              "    .dataframe thead th {\n",
              "        text-align: right;\n",
              "    }\n",
              "</style>\n",
              "<table border=\"1\" class=\"dataframe\">\n",
              "  <thead>\n",
              "    <tr style=\"text-align: right;\">\n",
              "      <th></th>\n",
              "      <th>cylinders</th>\n",
              "      <th>displacement</th>\n",
              "      <th>horsepower</th>\n",
              "      <th>weight</th>\n",
              "      <th>acceleration</th>\n",
              "      <th>model year</th>\n",
              "      <th>origin</th>\n",
              "      <th>car name</th>\n",
              "    </tr>\n",
              "  </thead>\n",
              "  <tbody>\n",
              "    <tr>\n",
              "      <th>0</th>\n",
              "      <td>8</td>\n",
              "      <td>307.0</td>\n",
              "      <td>15</td>\n",
              "      <td>3504</td>\n",
              "      <td>12.0</td>\n",
              "      <td>70</td>\n",
              "      <td>1</td>\n",
              "      <td>49</td>\n",
              "    </tr>\n",
              "    <tr>\n",
              "      <th>1</th>\n",
              "      <td>8</td>\n",
              "      <td>350.0</td>\n",
              "      <td>33</td>\n",
              "      <td>3693</td>\n",
              "      <td>11.5</td>\n",
              "      <td>70</td>\n",
              "      <td>1</td>\n",
              "      <td>36</td>\n",
              "    </tr>\n",
              "    <tr>\n",
              "      <th>2</th>\n",
              "      <td>8</td>\n",
              "      <td>318.0</td>\n",
              "      <td>27</td>\n",
              "      <td>3436</td>\n",
              "      <td>11.0</td>\n",
              "      <td>70</td>\n",
              "      <td>1</td>\n",
              "      <td>231</td>\n",
              "    </tr>\n",
              "    <tr>\n",
              "      <th>3</th>\n",
              "      <td>8</td>\n",
              "      <td>304.0</td>\n",
              "      <td>27</td>\n",
              "      <td>3433</td>\n",
              "      <td>12.0</td>\n",
              "      <td>70</td>\n",
              "      <td>1</td>\n",
              "      <td>14</td>\n",
              "    </tr>\n",
              "    <tr>\n",
              "      <th>4</th>\n",
              "      <td>8</td>\n",
              "      <td>302.0</td>\n",
              "      <td>22</td>\n",
              "      <td>3449</td>\n",
              "      <td>10.5</td>\n",
              "      <td>70</td>\n",
              "      <td>1</td>\n",
              "      <td>161</td>\n",
              "    </tr>\n",
              "  </tbody>\n",
              "</table>\n",
              "</div>\n",
              "    <div class=\"colab-df-buttons\">\n",
              "\n",
              "  <div class=\"colab-df-container\">\n",
              "    <button class=\"colab-df-convert\" onclick=\"convertToInteractive('df-d02a2527-e9ac-473a-a14e-a33bb6958537')\"\n",
              "            title=\"Convert this dataframe to an interactive table.\"\n",
              "            style=\"display:none;\">\n",
              "\n",
              "  <svg xmlns=\"http://www.w3.org/2000/svg\" height=\"24px\" viewBox=\"0 -960 960 960\">\n",
              "    <path d=\"M120-120v-720h720v720H120Zm60-500h600v-160H180v160Zm220 220h160v-160H400v160Zm0 220h160v-160H400v160ZM180-400h160v-160H180v160Zm440 0h160v-160H620v160ZM180-180h160v-160H180v160Zm440 0h160v-160H620v160Z\"/>\n",
              "  </svg>\n",
              "    </button>\n",
              "\n",
              "  <style>\n",
              "    .colab-df-container {\n",
              "      display:flex;\n",
              "      gap: 12px;\n",
              "    }\n",
              "\n",
              "    .colab-df-convert {\n",
              "      background-color: #E8F0FE;\n",
              "      border: none;\n",
              "      border-radius: 50%;\n",
              "      cursor: pointer;\n",
              "      display: none;\n",
              "      fill: #1967D2;\n",
              "      height: 32px;\n",
              "      padding: 0 0 0 0;\n",
              "      width: 32px;\n",
              "    }\n",
              "\n",
              "    .colab-df-convert:hover {\n",
              "      background-color: #E2EBFA;\n",
              "      box-shadow: 0px 1px 2px rgba(60, 64, 67, 0.3), 0px 1px 3px 1px rgba(60, 64, 67, 0.15);\n",
              "      fill: #174EA6;\n",
              "    }\n",
              "\n",
              "    .colab-df-buttons div {\n",
              "      margin-bottom: 4px;\n",
              "    }\n",
              "\n",
              "    [theme=dark] .colab-df-convert {\n",
              "      background-color: #3B4455;\n",
              "      fill: #D2E3FC;\n",
              "    }\n",
              "\n",
              "    [theme=dark] .colab-df-convert:hover {\n",
              "      background-color: #434B5C;\n",
              "      box-shadow: 0px 1px 3px 1px rgba(0, 0, 0, 0.15);\n",
              "      filter: drop-shadow(0px 1px 2px rgba(0, 0, 0, 0.3));\n",
              "      fill: #FFFFFF;\n",
              "    }\n",
              "  </style>\n",
              "\n",
              "    <script>\n",
              "      const buttonEl =\n",
              "        document.querySelector('#df-d02a2527-e9ac-473a-a14e-a33bb6958537 button.colab-df-convert');\n",
              "      buttonEl.style.display =\n",
              "        google.colab.kernel.accessAllowed ? 'block' : 'none';\n",
              "\n",
              "      async function convertToInteractive(key) {\n",
              "        const element = document.querySelector('#df-d02a2527-e9ac-473a-a14e-a33bb6958537');\n",
              "        const dataTable =\n",
              "          await google.colab.kernel.invokeFunction('convertToInteractive',\n",
              "                                                    [key], {});\n",
              "        if (!dataTable) return;\n",
              "\n",
              "        const docLinkHtml = 'Like what you see? Visit the ' +\n",
              "          '<a target=\"_blank\" href=https://colab.research.google.com/notebooks/data_table.ipynb>data table notebook</a>'\n",
              "          + ' to learn more about interactive tables.';\n",
              "        element.innerHTML = '';\n",
              "        dataTable['output_type'] = 'display_data';\n",
              "        await google.colab.output.renderOutput(dataTable, element);\n",
              "        const docLink = document.createElement('div');\n",
              "        docLink.innerHTML = docLinkHtml;\n",
              "        element.appendChild(docLink);\n",
              "      }\n",
              "    </script>\n",
              "  </div>\n",
              "\n",
              "\n",
              "<div id=\"df-474676da-d3a2-4c52-8355-1f68482988bd\">\n",
              "  <button class=\"colab-df-quickchart\" onclick=\"quickchart('df-474676da-d3a2-4c52-8355-1f68482988bd')\"\n",
              "            title=\"Suggest charts\"\n",
              "            style=\"display:none;\">\n",
              "\n",
              "<svg xmlns=\"http://www.w3.org/2000/svg\" height=\"24px\"viewBox=\"0 0 24 24\"\n",
              "     width=\"24px\">\n",
              "    <g>\n",
              "        <path d=\"M19 3H5c-1.1 0-2 .9-2 2v14c0 1.1.9 2 2 2h14c1.1 0 2-.9 2-2V5c0-1.1-.9-2-2-2zM9 17H7v-7h2v7zm4 0h-2V7h2v10zm4 0h-2v-4h2v4z\"/>\n",
              "    </g>\n",
              "</svg>\n",
              "  </button>\n",
              "\n",
              "<style>\n",
              "  .colab-df-quickchart {\n",
              "      --bg-color: #E8F0FE;\n",
              "      --fill-color: #1967D2;\n",
              "      --hover-bg-color: #E2EBFA;\n",
              "      --hover-fill-color: #174EA6;\n",
              "      --disabled-fill-color: #AAA;\n",
              "      --disabled-bg-color: #DDD;\n",
              "  }\n",
              "\n",
              "  [theme=dark] .colab-df-quickchart {\n",
              "      --bg-color: #3B4455;\n",
              "      --fill-color: #D2E3FC;\n",
              "      --hover-bg-color: #434B5C;\n",
              "      --hover-fill-color: #FFFFFF;\n",
              "      --disabled-bg-color: #3B4455;\n",
              "      --disabled-fill-color: #666;\n",
              "  }\n",
              "\n",
              "  .colab-df-quickchart {\n",
              "    background-color: var(--bg-color);\n",
              "    border: none;\n",
              "    border-radius: 50%;\n",
              "    cursor: pointer;\n",
              "    display: none;\n",
              "    fill: var(--fill-color);\n",
              "    height: 32px;\n",
              "    padding: 0;\n",
              "    width: 32px;\n",
              "  }\n",
              "\n",
              "  .colab-df-quickchart:hover {\n",
              "    background-color: var(--hover-bg-color);\n",
              "    box-shadow: 0 1px 2px rgba(60, 64, 67, 0.3), 0 1px 3px 1px rgba(60, 64, 67, 0.15);\n",
              "    fill: var(--button-hover-fill-color);\n",
              "  }\n",
              "\n",
              "  .colab-df-quickchart-complete:disabled,\n",
              "  .colab-df-quickchart-complete:disabled:hover {\n",
              "    background-color: var(--disabled-bg-color);\n",
              "    fill: var(--disabled-fill-color);\n",
              "    box-shadow: none;\n",
              "  }\n",
              "\n",
              "  .colab-df-spinner {\n",
              "    border: 2px solid var(--fill-color);\n",
              "    border-color: transparent;\n",
              "    border-bottom-color: var(--fill-color);\n",
              "    animation:\n",
              "      spin 1s steps(1) infinite;\n",
              "  }\n",
              "\n",
              "  @keyframes spin {\n",
              "    0% {\n",
              "      border-color: transparent;\n",
              "      border-bottom-color: var(--fill-color);\n",
              "      border-left-color: var(--fill-color);\n",
              "    }\n",
              "    20% {\n",
              "      border-color: transparent;\n",
              "      border-left-color: var(--fill-color);\n",
              "      border-top-color: var(--fill-color);\n",
              "    }\n",
              "    30% {\n",
              "      border-color: transparent;\n",
              "      border-left-color: var(--fill-color);\n",
              "      border-top-color: var(--fill-color);\n",
              "      border-right-color: var(--fill-color);\n",
              "    }\n",
              "    40% {\n",
              "      border-color: transparent;\n",
              "      border-right-color: var(--fill-color);\n",
              "      border-top-color: var(--fill-color);\n",
              "    }\n",
              "    60% {\n",
              "      border-color: transparent;\n",
              "      border-right-color: var(--fill-color);\n",
              "    }\n",
              "    80% {\n",
              "      border-color: transparent;\n",
              "      border-right-color: var(--fill-color);\n",
              "      border-bottom-color: var(--fill-color);\n",
              "    }\n",
              "    90% {\n",
              "      border-color: transparent;\n",
              "      border-bottom-color: var(--fill-color);\n",
              "    }\n",
              "  }\n",
              "</style>\n",
              "\n",
              "  <script>\n",
              "    async function quickchart(key) {\n",
              "      const quickchartButtonEl =\n",
              "        document.querySelector('#' + key + ' button');\n",
              "      quickchartButtonEl.disabled = true;  // To prevent multiple clicks.\n",
              "      quickchartButtonEl.classList.add('colab-df-spinner');\n",
              "      try {\n",
              "        const charts = await google.colab.kernel.invokeFunction(\n",
              "            'suggestCharts', [key], {});\n",
              "      } catch (error) {\n",
              "        console.error('Error during call to suggestCharts:', error);\n",
              "      }\n",
              "      quickchartButtonEl.classList.remove('colab-df-spinner');\n",
              "      quickchartButtonEl.classList.add('colab-df-quickchart-complete');\n",
              "    }\n",
              "    (() => {\n",
              "      let quickchartButtonEl =\n",
              "        document.querySelector('#df-474676da-d3a2-4c52-8355-1f68482988bd button');\n",
              "      quickchartButtonEl.style.display =\n",
              "        google.colab.kernel.accessAllowed ? 'block' : 'none';\n",
              "    })();\n",
              "  </script>\n",
              "</div>\n",
              "\n",
              "    </div>\n",
              "  </div>\n"
            ],
            "application/vnd.google.colaboratory.intrinsic+json": {
              "type": "dataframe",
              "variable_name": "x",
              "summary": "{\n  \"name\": \"x\",\n  \"rows\": 398,\n  \"fields\": [\n    {\n      \"column\": \"cylinders\",\n      \"properties\": {\n        \"dtype\": \"number\",\n        \"std\": 1,\n        \"min\": 3,\n        \"max\": 8,\n        \"num_unique_values\": 5,\n        \"samples\": [\n          4,\n          5,\n          6\n        ],\n        \"semantic_type\": \"\",\n        \"description\": \"\"\n      }\n    },\n    {\n      \"column\": \"displacement\",\n      \"properties\": {\n        \"dtype\": \"number\",\n        \"std\": 104.26983817119591,\n        \"min\": 68.0,\n        \"max\": 455.0,\n        \"num_unique_values\": 82,\n        \"samples\": [\n          122.0,\n          307.0,\n          360.0\n        ],\n        \"semantic_type\": \"\",\n        \"description\": \"\"\n      }\n    },\n    {\n      \"column\": \"horsepower\",\n      \"properties\": {\n        \"dtype\": \"number\",\n        \"std\": 29,\n        \"min\": 0,\n        \"max\": 93,\n        \"num_unique_values\": 94,\n        \"samples\": [\n          7,\n          93,\n          72\n        ],\n        \"semantic_type\": \"\",\n        \"description\": \"\"\n      }\n    },\n    {\n      \"column\": \"weight\",\n      \"properties\": {\n        \"dtype\": \"number\",\n        \"std\": 846,\n        \"min\": 1613,\n        \"max\": 5140,\n        \"num_unique_values\": 351,\n        \"samples\": [\n          3730,\n          1995,\n          2215\n        ],\n        \"semantic_type\": \"\",\n        \"description\": \"\"\n      }\n    },\n    {\n      \"column\": \"acceleration\",\n      \"properties\": {\n        \"dtype\": \"number\",\n        \"std\": 2.757688929812676,\n        \"min\": 8.0,\n        \"max\": 24.8,\n        \"num_unique_values\": 95,\n        \"samples\": [\n          14.7,\n          18.0,\n          14.3\n        ],\n        \"semantic_type\": \"\",\n        \"description\": \"\"\n      }\n    },\n    {\n      \"column\": \"model year\",\n      \"properties\": {\n        \"dtype\": \"number\",\n        \"std\": 3,\n        \"min\": 70,\n        \"max\": 82,\n        \"num_unique_values\": 13,\n        \"samples\": [\n          81,\n          79,\n          70\n        ],\n        \"semantic_type\": \"\",\n        \"description\": \"\"\n      }\n    },\n    {\n      \"column\": \"origin\",\n      \"properties\": {\n        \"dtype\": \"number\",\n        \"std\": 0,\n        \"min\": 1,\n        \"max\": 3,\n        \"num_unique_values\": 3,\n        \"samples\": [\n          1,\n          3,\n          2\n        ],\n        \"semantic_type\": \"\",\n        \"description\": \"\"\n      }\n    },\n    {\n      \"column\": \"car name\",\n      \"properties\": {\n        \"dtype\": \"number\",\n        \"std\": 89,\n        \"min\": 0,\n        \"max\": 304,\n        \"num_unique_values\": 305,\n        \"samples\": [\n          181,\n          132,\n          27\n        ],\n        \"semantic_type\": \"\",\n        \"description\": \"\"\n      }\n    }\n  ]\n}"
            }
          },
          "metadata": {},
          "execution_count": 21
        }
      ]
    },
    {
      "cell_type": "code",
      "source": [
        "y.head()"
      ],
      "metadata": {
        "colab": {
          "base_uri": "https://localhost:8080/",
          "height": 241
        },
        "id": "QZ4EiYEruz6D",
        "outputId": "38c4b257-dc32-4cd0-ba85-5917d7ada4f7"
      },
      "execution_count": null,
      "outputs": [
        {
          "output_type": "execute_result",
          "data": {
            "text/plain": [
              "0    18.0\n",
              "1    15.0\n",
              "2    18.0\n",
              "3    16.0\n",
              "4    17.0\n",
              "Name: mpg, dtype: float64"
            ],
            "text/html": [
              "<div>\n",
              "<style scoped>\n",
              "    .dataframe tbody tr th:only-of-type {\n",
              "        vertical-align: middle;\n",
              "    }\n",
              "\n",
              "    .dataframe tbody tr th {\n",
              "        vertical-align: top;\n",
              "    }\n",
              "\n",
              "    .dataframe thead th {\n",
              "        text-align: right;\n",
              "    }\n",
              "</style>\n",
              "<table border=\"1\" class=\"dataframe\">\n",
              "  <thead>\n",
              "    <tr style=\"text-align: right;\">\n",
              "      <th></th>\n",
              "      <th>mpg</th>\n",
              "    </tr>\n",
              "  </thead>\n",
              "  <tbody>\n",
              "    <tr>\n",
              "      <th>0</th>\n",
              "      <td>18.0</td>\n",
              "    </tr>\n",
              "    <tr>\n",
              "      <th>1</th>\n",
              "      <td>15.0</td>\n",
              "    </tr>\n",
              "    <tr>\n",
              "      <th>2</th>\n",
              "      <td>18.0</td>\n",
              "    </tr>\n",
              "    <tr>\n",
              "      <th>3</th>\n",
              "      <td>16.0</td>\n",
              "    </tr>\n",
              "    <tr>\n",
              "      <th>4</th>\n",
              "      <td>17.0</td>\n",
              "    </tr>\n",
              "  </tbody>\n",
              "</table>\n",
              "</div><br><label><b>dtype:</b> float64</label>"
            ]
          },
          "metadata": {},
          "execution_count": 22
        }
      ]
    },
    {
      "cell_type": "code",
      "source": [
        "from sklearn.model_selection import train_test_split\n",
        "\n",
        "x_train,x_test,y_train,y_test = train_test_split(x,y,test_size=0.2,random_state=2)"
      ],
      "metadata": {
        "id": "Yd2NXgaUCIP2"
      },
      "execution_count": null,
      "outputs": []
    },
    {
      "cell_type": "code",
      "source": [
        "x_train"
      ],
      "metadata": {
        "colab": {
          "base_uri": "https://localhost:8080/",
          "height": 424
        },
        "id": "ELpjuXqMvBC-",
        "outputId": "abfc4ffe-2685-43f4-a4a3-f8db16d06f58"
      },
      "execution_count": null,
      "outputs": [
        {
          "output_type": "execute_result",
          "data": {
            "text/plain": [
              "     cylinders  displacement  horsepower  weight  acceleration  model year  \\\n",
              "204          4          85.0          65    1990          17.0          76   \n",
              "186          4         101.0          77    2202          15.3          76   \n",
              "3            8         304.0          27    3433          12.0          70   \n",
              "390          4         144.0          90    2665          13.9          82   \n",
              "193          6         200.0          75    3012          17.6          76   \n",
              "..         ...           ...         ...     ...           ...         ...   \n",
              "299          4         141.0          66    3190          24.8          79   \n",
              "22           4         104.0          89    2375          17.5          70   \n",
              "72           8         304.0          27    3892          12.5          72   \n",
              "15           6         198.0          89    2833          15.5          70   \n",
              "168          4         140.0          77    2639          17.0          75   \n",
              "\n",
              "     origin  car name  \n",
              "204       3        91  \n",
              "186       2       254  \n",
              "3         1        14  \n",
              "390       3       264  \n",
              "193       1       150  \n",
              "..      ...       ...  \n",
              "299       2       211  \n",
              "22        2       258  \n",
              "72        1        11  \n",
              "15        1       220  \n",
              "168       1       156  \n",
              "\n",
              "[318 rows x 8 columns]"
            ],
            "text/html": [
              "\n",
              "  <div id=\"df-d7233483-fc7b-486b-ad13-97f10d7d886f\" class=\"colab-df-container\">\n",
              "    <div>\n",
              "<style scoped>\n",
              "    .dataframe tbody tr th:only-of-type {\n",
              "        vertical-align: middle;\n",
              "    }\n",
              "\n",
              "    .dataframe tbody tr th {\n",
              "        vertical-align: top;\n",
              "    }\n",
              "\n",
              "    .dataframe thead th {\n",
              "        text-align: right;\n",
              "    }\n",
              "</style>\n",
              "<table border=\"1\" class=\"dataframe\">\n",
              "  <thead>\n",
              "    <tr style=\"text-align: right;\">\n",
              "      <th></th>\n",
              "      <th>cylinders</th>\n",
              "      <th>displacement</th>\n",
              "      <th>horsepower</th>\n",
              "      <th>weight</th>\n",
              "      <th>acceleration</th>\n",
              "      <th>model year</th>\n",
              "      <th>origin</th>\n",
              "      <th>car name</th>\n",
              "    </tr>\n",
              "  </thead>\n",
              "  <tbody>\n",
              "    <tr>\n",
              "      <th>204</th>\n",
              "      <td>4</td>\n",
              "      <td>85.0</td>\n",
              "      <td>65</td>\n",
              "      <td>1990</td>\n",
              "      <td>17.0</td>\n",
              "      <td>76</td>\n",
              "      <td>3</td>\n",
              "      <td>91</td>\n",
              "    </tr>\n",
              "    <tr>\n",
              "      <th>186</th>\n",
              "      <td>4</td>\n",
              "      <td>101.0</td>\n",
              "      <td>77</td>\n",
              "      <td>2202</td>\n",
              "      <td>15.3</td>\n",
              "      <td>76</td>\n",
              "      <td>2</td>\n",
              "      <td>254</td>\n",
              "    </tr>\n",
              "    <tr>\n",
              "      <th>3</th>\n",
              "      <td>8</td>\n",
              "      <td>304.0</td>\n",
              "      <td>27</td>\n",
              "      <td>3433</td>\n",
              "      <td>12.0</td>\n",
              "      <td>70</td>\n",
              "      <td>1</td>\n",
              "      <td>14</td>\n",
              "    </tr>\n",
              "    <tr>\n",
              "      <th>390</th>\n",
              "      <td>4</td>\n",
              "      <td>144.0</td>\n",
              "      <td>90</td>\n",
              "      <td>2665</td>\n",
              "      <td>13.9</td>\n",
              "      <td>82</td>\n",
              "      <td>3</td>\n",
              "      <td>264</td>\n",
              "    </tr>\n",
              "    <tr>\n",
              "      <th>193</th>\n",
              "      <td>6</td>\n",
              "      <td>200.0</td>\n",
              "      <td>75</td>\n",
              "      <td>3012</td>\n",
              "      <td>17.6</td>\n",
              "      <td>76</td>\n",
              "      <td>1</td>\n",
              "      <td>150</td>\n",
              "    </tr>\n",
              "    <tr>\n",
              "      <th>...</th>\n",
              "      <td>...</td>\n",
              "      <td>...</td>\n",
              "      <td>...</td>\n",
              "      <td>...</td>\n",
              "      <td>...</td>\n",
              "      <td>...</td>\n",
              "      <td>...</td>\n",
              "      <td>...</td>\n",
              "    </tr>\n",
              "    <tr>\n",
              "      <th>299</th>\n",
              "      <td>4</td>\n",
              "      <td>141.0</td>\n",
              "      <td>66</td>\n",
              "      <td>3190</td>\n",
              "      <td>24.8</td>\n",
              "      <td>79</td>\n",
              "      <td>2</td>\n",
              "      <td>211</td>\n",
              "    </tr>\n",
              "    <tr>\n",
              "      <th>22</th>\n",
              "      <td>4</td>\n",
              "      <td>104.0</td>\n",
              "      <td>89</td>\n",
              "      <td>2375</td>\n",
              "      <td>17.5</td>\n",
              "      <td>70</td>\n",
              "      <td>2</td>\n",
              "      <td>258</td>\n",
              "    </tr>\n",
              "    <tr>\n",
              "      <th>72</th>\n",
              "      <td>8</td>\n",
              "      <td>304.0</td>\n",
              "      <td>27</td>\n",
              "      <td>3892</td>\n",
              "      <td>12.5</td>\n",
              "      <td>72</td>\n",
              "      <td>1</td>\n",
              "      <td>11</td>\n",
              "    </tr>\n",
              "    <tr>\n",
              "      <th>15</th>\n",
              "      <td>6</td>\n",
              "      <td>198.0</td>\n",
              "      <td>89</td>\n",
              "      <td>2833</td>\n",
              "      <td>15.5</td>\n",
              "      <td>70</td>\n",
              "      <td>1</td>\n",
              "      <td>220</td>\n",
              "    </tr>\n",
              "    <tr>\n",
              "      <th>168</th>\n",
              "      <td>4</td>\n",
              "      <td>140.0</td>\n",
              "      <td>77</td>\n",
              "      <td>2639</td>\n",
              "      <td>17.0</td>\n",
              "      <td>75</td>\n",
              "      <td>1</td>\n",
              "      <td>156</td>\n",
              "    </tr>\n",
              "  </tbody>\n",
              "</table>\n",
              "<p>318 rows × 8 columns</p>\n",
              "</div>\n",
              "    <div class=\"colab-df-buttons\">\n",
              "\n",
              "  <div class=\"colab-df-container\">\n",
              "    <button class=\"colab-df-convert\" onclick=\"convertToInteractive('df-d7233483-fc7b-486b-ad13-97f10d7d886f')\"\n",
              "            title=\"Convert this dataframe to an interactive table.\"\n",
              "            style=\"display:none;\">\n",
              "\n",
              "  <svg xmlns=\"http://www.w3.org/2000/svg\" height=\"24px\" viewBox=\"0 -960 960 960\">\n",
              "    <path d=\"M120-120v-720h720v720H120Zm60-500h600v-160H180v160Zm220 220h160v-160H400v160Zm0 220h160v-160H400v160ZM180-400h160v-160H180v160Zm440 0h160v-160H620v160ZM180-180h160v-160H180v160Zm440 0h160v-160H620v160Z\"/>\n",
              "  </svg>\n",
              "    </button>\n",
              "\n",
              "  <style>\n",
              "    .colab-df-container {\n",
              "      display:flex;\n",
              "      gap: 12px;\n",
              "    }\n",
              "\n",
              "    .colab-df-convert {\n",
              "      background-color: #E8F0FE;\n",
              "      border: none;\n",
              "      border-radius: 50%;\n",
              "      cursor: pointer;\n",
              "      display: none;\n",
              "      fill: #1967D2;\n",
              "      height: 32px;\n",
              "      padding: 0 0 0 0;\n",
              "      width: 32px;\n",
              "    }\n",
              "\n",
              "    .colab-df-convert:hover {\n",
              "      background-color: #E2EBFA;\n",
              "      box-shadow: 0px 1px 2px rgba(60, 64, 67, 0.3), 0px 1px 3px 1px rgba(60, 64, 67, 0.15);\n",
              "      fill: #174EA6;\n",
              "    }\n",
              "\n",
              "    .colab-df-buttons div {\n",
              "      margin-bottom: 4px;\n",
              "    }\n",
              "\n",
              "    [theme=dark] .colab-df-convert {\n",
              "      background-color: #3B4455;\n",
              "      fill: #D2E3FC;\n",
              "    }\n",
              "\n",
              "    [theme=dark] .colab-df-convert:hover {\n",
              "      background-color: #434B5C;\n",
              "      box-shadow: 0px 1px 3px 1px rgba(0, 0, 0, 0.15);\n",
              "      filter: drop-shadow(0px 1px 2px rgba(0, 0, 0, 0.3));\n",
              "      fill: #FFFFFF;\n",
              "    }\n",
              "  </style>\n",
              "\n",
              "    <script>\n",
              "      const buttonEl =\n",
              "        document.querySelector('#df-d7233483-fc7b-486b-ad13-97f10d7d886f button.colab-df-convert');\n",
              "      buttonEl.style.display =\n",
              "        google.colab.kernel.accessAllowed ? 'block' : 'none';\n",
              "\n",
              "      async function convertToInteractive(key) {\n",
              "        const element = document.querySelector('#df-d7233483-fc7b-486b-ad13-97f10d7d886f');\n",
              "        const dataTable =\n",
              "          await google.colab.kernel.invokeFunction('convertToInteractive',\n",
              "                                                    [key], {});\n",
              "        if (!dataTable) return;\n",
              "\n",
              "        const docLinkHtml = 'Like what you see? Visit the ' +\n",
              "          '<a target=\"_blank\" href=https://colab.research.google.com/notebooks/data_table.ipynb>data table notebook</a>'\n",
              "          + ' to learn more about interactive tables.';\n",
              "        element.innerHTML = '';\n",
              "        dataTable['output_type'] = 'display_data';\n",
              "        await google.colab.output.renderOutput(dataTable, element);\n",
              "        const docLink = document.createElement('div');\n",
              "        docLink.innerHTML = docLinkHtml;\n",
              "        element.appendChild(docLink);\n",
              "      }\n",
              "    </script>\n",
              "  </div>\n",
              "\n",
              "\n",
              "<div id=\"df-9a9135c7-29d6-476d-aae2-6001e26cdcca\">\n",
              "  <button class=\"colab-df-quickchart\" onclick=\"quickchart('df-9a9135c7-29d6-476d-aae2-6001e26cdcca')\"\n",
              "            title=\"Suggest charts\"\n",
              "            style=\"display:none;\">\n",
              "\n",
              "<svg xmlns=\"http://www.w3.org/2000/svg\" height=\"24px\"viewBox=\"0 0 24 24\"\n",
              "     width=\"24px\">\n",
              "    <g>\n",
              "        <path d=\"M19 3H5c-1.1 0-2 .9-2 2v14c0 1.1.9 2 2 2h14c1.1 0 2-.9 2-2V5c0-1.1-.9-2-2-2zM9 17H7v-7h2v7zm4 0h-2V7h2v10zm4 0h-2v-4h2v4z\"/>\n",
              "    </g>\n",
              "</svg>\n",
              "  </button>\n",
              "\n",
              "<style>\n",
              "  .colab-df-quickchart {\n",
              "      --bg-color: #E8F0FE;\n",
              "      --fill-color: #1967D2;\n",
              "      --hover-bg-color: #E2EBFA;\n",
              "      --hover-fill-color: #174EA6;\n",
              "      --disabled-fill-color: #AAA;\n",
              "      --disabled-bg-color: #DDD;\n",
              "  }\n",
              "\n",
              "  [theme=dark] .colab-df-quickchart {\n",
              "      --bg-color: #3B4455;\n",
              "      --fill-color: #D2E3FC;\n",
              "      --hover-bg-color: #434B5C;\n",
              "      --hover-fill-color: #FFFFFF;\n",
              "      --disabled-bg-color: #3B4455;\n",
              "      --disabled-fill-color: #666;\n",
              "  }\n",
              "\n",
              "  .colab-df-quickchart {\n",
              "    background-color: var(--bg-color);\n",
              "    border: none;\n",
              "    border-radius: 50%;\n",
              "    cursor: pointer;\n",
              "    display: none;\n",
              "    fill: var(--fill-color);\n",
              "    height: 32px;\n",
              "    padding: 0;\n",
              "    width: 32px;\n",
              "  }\n",
              "\n",
              "  .colab-df-quickchart:hover {\n",
              "    background-color: var(--hover-bg-color);\n",
              "    box-shadow: 0 1px 2px rgba(60, 64, 67, 0.3), 0 1px 3px 1px rgba(60, 64, 67, 0.15);\n",
              "    fill: var(--button-hover-fill-color);\n",
              "  }\n",
              "\n",
              "  .colab-df-quickchart-complete:disabled,\n",
              "  .colab-df-quickchart-complete:disabled:hover {\n",
              "    background-color: var(--disabled-bg-color);\n",
              "    fill: var(--disabled-fill-color);\n",
              "    box-shadow: none;\n",
              "  }\n",
              "\n",
              "  .colab-df-spinner {\n",
              "    border: 2px solid var(--fill-color);\n",
              "    border-color: transparent;\n",
              "    border-bottom-color: var(--fill-color);\n",
              "    animation:\n",
              "      spin 1s steps(1) infinite;\n",
              "  }\n",
              "\n",
              "  @keyframes spin {\n",
              "    0% {\n",
              "      border-color: transparent;\n",
              "      border-bottom-color: var(--fill-color);\n",
              "      border-left-color: var(--fill-color);\n",
              "    }\n",
              "    20% {\n",
              "      border-color: transparent;\n",
              "      border-left-color: var(--fill-color);\n",
              "      border-top-color: var(--fill-color);\n",
              "    }\n",
              "    30% {\n",
              "      border-color: transparent;\n",
              "      border-left-color: var(--fill-color);\n",
              "      border-top-color: var(--fill-color);\n",
              "      border-right-color: var(--fill-color);\n",
              "    }\n",
              "    40% {\n",
              "      border-color: transparent;\n",
              "      border-right-color: var(--fill-color);\n",
              "      border-top-color: var(--fill-color);\n",
              "    }\n",
              "    60% {\n",
              "      border-color: transparent;\n",
              "      border-right-color: var(--fill-color);\n",
              "    }\n",
              "    80% {\n",
              "      border-color: transparent;\n",
              "      border-right-color: var(--fill-color);\n",
              "      border-bottom-color: var(--fill-color);\n",
              "    }\n",
              "    90% {\n",
              "      border-color: transparent;\n",
              "      border-bottom-color: var(--fill-color);\n",
              "    }\n",
              "  }\n",
              "</style>\n",
              "\n",
              "  <script>\n",
              "    async function quickchart(key) {\n",
              "      const quickchartButtonEl =\n",
              "        document.querySelector('#' + key + ' button');\n",
              "      quickchartButtonEl.disabled = true;  // To prevent multiple clicks.\n",
              "      quickchartButtonEl.classList.add('colab-df-spinner');\n",
              "      try {\n",
              "        const charts = await google.colab.kernel.invokeFunction(\n",
              "            'suggestCharts', [key], {});\n",
              "      } catch (error) {\n",
              "        console.error('Error during call to suggestCharts:', error);\n",
              "      }\n",
              "      quickchartButtonEl.classList.remove('colab-df-spinner');\n",
              "      quickchartButtonEl.classList.add('colab-df-quickchart-complete');\n",
              "    }\n",
              "    (() => {\n",
              "      let quickchartButtonEl =\n",
              "        document.querySelector('#df-9a9135c7-29d6-476d-aae2-6001e26cdcca button');\n",
              "      quickchartButtonEl.style.display =\n",
              "        google.colab.kernel.accessAllowed ? 'block' : 'none';\n",
              "    })();\n",
              "  </script>\n",
              "</div>\n",
              "\n",
              "  <div id=\"id_328ece08-a6e3-4683-ace2-7835daef68be\">\n",
              "    <style>\n",
              "      .colab-df-generate {\n",
              "        background-color: #E8F0FE;\n",
              "        border: none;\n",
              "        border-radius: 50%;\n",
              "        cursor: pointer;\n",
              "        display: none;\n",
              "        fill: #1967D2;\n",
              "        height: 32px;\n",
              "        padding: 0 0 0 0;\n",
              "        width: 32px;\n",
              "      }\n",
              "\n",
              "      .colab-df-generate:hover {\n",
              "        background-color: #E2EBFA;\n",
              "        box-shadow: 0px 1px 2px rgba(60, 64, 67, 0.3), 0px 1px 3px 1px rgba(60, 64, 67, 0.15);\n",
              "        fill: #174EA6;\n",
              "      }\n",
              "\n",
              "      [theme=dark] .colab-df-generate {\n",
              "        background-color: #3B4455;\n",
              "        fill: #D2E3FC;\n",
              "      }\n",
              "\n",
              "      [theme=dark] .colab-df-generate:hover {\n",
              "        background-color: #434B5C;\n",
              "        box-shadow: 0px 1px 3px 1px rgba(0, 0, 0, 0.15);\n",
              "        filter: drop-shadow(0px 1px 2px rgba(0, 0, 0, 0.3));\n",
              "        fill: #FFFFFF;\n",
              "      }\n",
              "    </style>\n",
              "    <button class=\"colab-df-generate\" onclick=\"generateWithVariable('x_train')\"\n",
              "            title=\"Generate code using this dataframe.\"\n",
              "            style=\"display:none;\">\n",
              "\n",
              "  <svg xmlns=\"http://www.w3.org/2000/svg\" height=\"24px\"viewBox=\"0 0 24 24\"\n",
              "       width=\"24px\">\n",
              "    <path d=\"M7,19H8.4L18.45,9,17,7.55,7,17.6ZM5,21V16.75L18.45,3.32a2,2,0,0,1,2.83,0l1.4,1.43a1.91,1.91,0,0,1,.58,1.4,1.91,1.91,0,0,1-.58,1.4L9.25,21ZM18.45,9,17,7.55Zm-12,3A5.31,5.31,0,0,0,4.9,8.1,5.31,5.31,0,0,0,1,6.5,5.31,5.31,0,0,0,4.9,4.9,5.31,5.31,0,0,0,6.5,1,5.31,5.31,0,0,0,8.1,4.9,5.31,5.31,0,0,0,12,6.5,5.46,5.46,0,0,0,6.5,12Z\"/>\n",
              "  </svg>\n",
              "    </button>\n",
              "    <script>\n",
              "      (() => {\n",
              "      const buttonEl =\n",
              "        document.querySelector('#id_328ece08-a6e3-4683-ace2-7835daef68be button.colab-df-generate');\n",
              "      buttonEl.style.display =\n",
              "        google.colab.kernel.accessAllowed ? 'block' : 'none';\n",
              "\n",
              "      buttonEl.onclick = () => {\n",
              "        google.colab.notebook.generateWithVariable('x_train');\n",
              "      }\n",
              "      })();\n",
              "    </script>\n",
              "  </div>\n",
              "\n",
              "    </div>\n",
              "  </div>\n"
            ],
            "application/vnd.google.colaboratory.intrinsic+json": {
              "type": "dataframe",
              "variable_name": "x_train",
              "summary": "{\n  \"name\": \"x_train\",\n  \"rows\": 318,\n  \"fields\": [\n    {\n      \"column\": \"cylinders\",\n      \"properties\": {\n        \"dtype\": \"number\",\n        \"std\": 1,\n        \"min\": 3,\n        \"max\": 8,\n        \"num_unique_values\": 5,\n        \"samples\": [\n          8,\n          5,\n          6\n        ],\n        \"semantic_type\": \"\",\n        \"description\": \"\"\n      }\n    },\n    {\n      \"column\": \"displacement\",\n      \"properties\": {\n        \"dtype\": \"number\",\n        \"std\": 103.20055010969598,\n        \"min\": 68.0,\n        \"max\": 455.0,\n        \"num_unique_values\": 76,\n        \"samples\": [\n          200.0,\n          231.0,\n          121.0\n        ],\n        \"semantic_type\": \"\",\n        \"description\": \"\"\n      }\n    },\n    {\n      \"column\": \"horsepower\",\n      \"properties\": {\n        \"dtype\": \"number\",\n        \"std\": 30,\n        \"min\": 0,\n        \"max\": 93,\n        \"num_unique_values\": 86,\n        \"samples\": [\n          68,\n          65,\n          31\n        ],\n        \"semantic_type\": \"\",\n        \"description\": \"\"\n      }\n    },\n    {\n      \"column\": \"weight\",\n      \"properties\": {\n        \"dtype\": \"number\",\n        \"std\": 831,\n        \"min\": 1613,\n        \"max\": 5140,\n        \"num_unique_values\": 287,\n        \"samples\": [\n          4140,\n          3820,\n          2620\n        ],\n        \"semantic_type\": \"\",\n        \"description\": \"\"\n      }\n    },\n    {\n      \"column\": \"acceleration\",\n      \"properties\": {\n        \"dtype\": \"number\",\n        \"std\": 2.7775034339985,\n        \"min\": 8.0,\n        \"max\": 24.8,\n        \"num_unique_values\": 90,\n        \"samples\": [\n          15.2,\n          19.0,\n          16.7\n        ],\n        \"semantic_type\": \"\",\n        \"description\": \"\"\n      }\n    },\n    {\n      \"column\": \"model year\",\n      \"properties\": {\n        \"dtype\": \"number\",\n        \"std\": 3,\n        \"min\": 70,\n        \"max\": 82,\n        \"num_unique_values\": 13,\n        \"samples\": [\n          78,\n          75,\n          76\n        ],\n        \"semantic_type\": \"\",\n        \"description\": \"\"\n      }\n    },\n    {\n      \"column\": \"origin\",\n      \"properties\": {\n        \"dtype\": \"number\",\n        \"std\": 0,\n        \"min\": 1,\n        \"max\": 3,\n        \"num_unique_values\": 3,\n        \"samples\": [\n          3,\n          2,\n          1\n        ],\n        \"semantic_type\": \"\",\n        \"description\": \"\"\n      }\n    },\n    {\n      \"column\": \"car name\",\n      \"properties\": {\n        \"dtype\": \"number\",\n        \"std\": 91,\n        \"min\": 0,\n        \"max\": 304,\n        \"num_unique_values\": 259,\n        \"samples\": [\n          143,\n          109,\n          117\n        ],\n        \"semantic_type\": \"\",\n        \"description\": \"\"\n      }\n    }\n  ]\n}"
            }
          },
          "metadata": {},
          "execution_count": 24
        }
      ]
    },
    {
      "cell_type": "code",
      "source": [
        "y_train.value_counts()"
      ],
      "metadata": {
        "colab": {
          "base_uri": "https://localhost:8080/",
          "height": 490
        },
        "id": "IW2wjLEFvFcf",
        "outputId": "16b6fdf5-f7b8-4269-f751-a0ae8c05f18a"
      },
      "execution_count": null,
      "outputs": [
        {
          "output_type": "execute_result",
          "data": {
            "text/plain": [
              "mpg\n",
              "13.0    17\n",
              "14.0    16\n",
              "15.0    15\n",
              "18.0    13\n",
              "16.0    12\n",
              "        ..\n",
              "37.7     1\n",
              "26.5     1\n",
              "27.5     1\n",
              "20.8     1\n",
              "30.7     1\n",
              "Name: count, Length: 115, dtype: int64"
            ],
            "text/html": [
              "<div>\n",
              "<style scoped>\n",
              "    .dataframe tbody tr th:only-of-type {\n",
              "        vertical-align: middle;\n",
              "    }\n",
              "\n",
              "    .dataframe tbody tr th {\n",
              "        vertical-align: top;\n",
              "    }\n",
              "\n",
              "    .dataframe thead th {\n",
              "        text-align: right;\n",
              "    }\n",
              "</style>\n",
              "<table border=\"1\" class=\"dataframe\">\n",
              "  <thead>\n",
              "    <tr style=\"text-align: right;\">\n",
              "      <th></th>\n",
              "      <th>count</th>\n",
              "    </tr>\n",
              "    <tr>\n",
              "      <th>mpg</th>\n",
              "      <th></th>\n",
              "    </tr>\n",
              "  </thead>\n",
              "  <tbody>\n",
              "    <tr>\n",
              "      <th>13.0</th>\n",
              "      <td>17</td>\n",
              "    </tr>\n",
              "    <tr>\n",
              "      <th>14.0</th>\n",
              "      <td>16</td>\n",
              "    </tr>\n",
              "    <tr>\n",
              "      <th>15.0</th>\n",
              "      <td>15</td>\n",
              "    </tr>\n",
              "    <tr>\n",
              "      <th>18.0</th>\n",
              "      <td>13</td>\n",
              "    </tr>\n",
              "    <tr>\n",
              "      <th>16.0</th>\n",
              "      <td>12</td>\n",
              "    </tr>\n",
              "    <tr>\n",
              "      <th>...</th>\n",
              "      <td>...</td>\n",
              "    </tr>\n",
              "    <tr>\n",
              "      <th>37.7</th>\n",
              "      <td>1</td>\n",
              "    </tr>\n",
              "    <tr>\n",
              "      <th>26.5</th>\n",
              "      <td>1</td>\n",
              "    </tr>\n",
              "    <tr>\n",
              "      <th>27.5</th>\n",
              "      <td>1</td>\n",
              "    </tr>\n",
              "    <tr>\n",
              "      <th>20.8</th>\n",
              "      <td>1</td>\n",
              "    </tr>\n",
              "    <tr>\n",
              "      <th>30.7</th>\n",
              "      <td>1</td>\n",
              "    </tr>\n",
              "  </tbody>\n",
              "</table>\n",
              "<p>115 rows × 1 columns</p>\n",
              "</div><br><label><b>dtype:</b> int64</label>"
            ]
          },
          "metadata": {},
          "execution_count": 25
        }
      ]
    },
    {
      "cell_type": "markdown",
      "source": [
        "SO THIS IS A CONTINOUS DATA (REGRESSION)"
      ],
      "metadata": {
        "id": "BgW8pUPGvMQe"
      }
    },
    {
      "cell_type": "markdown",
      "source": [
        "**STANDARDIZATION**"
      ],
      "metadata": {
        "id": "zaiD0HekwNUK"
      }
    },
    {
      "cell_type": "code",
      "source": [
        "from sklearn.preprocessing import StandardScaler\n",
        "sc = StandardScaler()\n",
        "x_train = sc.fit_transform(x_train)\n",
        "x_test = sc.transform(x_test)"
      ],
      "metadata": {
        "id": "-Odnl-jWCL_J"
      },
      "execution_count": null,
      "outputs": []
    },
    {
      "cell_type": "markdown",
      "source": [
        "**MODEL** **BUILDING**"
      ],
      "metadata": {
        "id": "c0Q8UyZKwYDm"
      }
    },
    {
      "cell_type": "markdown",
      "source": [
        "1.**KNN**"
      ],
      "metadata": {
        "id": "YPhtWzabwa_r"
      }
    },
    {
      "cell_type": "code",
      "source": [
        "from sklearn.neighbors import KNeighborsRegressor\n",
        "knn = KNeighborsRegressor(n_neighbors=5)\n",
        "knn.fit(x_train, y_train)"
      ],
      "metadata": {
        "colab": {
          "base_uri": "https://localhost:8080/",
          "height": 75
        },
        "id": "Po9XB2hGy45C",
        "outputId": "ac4eecf9-0aa2-4a60-a23f-e1101a308880"
      },
      "execution_count": null,
      "outputs": [
        {
          "output_type": "execute_result",
          "data": {
            "text/plain": [
              "KNeighborsRegressor()"
            ],
            "text/html": [
              "<style>#sk-container-id-1 {color: black;}#sk-container-id-1 pre{padding: 0;}#sk-container-id-1 div.sk-toggleable {background-color: white;}#sk-container-id-1 label.sk-toggleable__label {cursor: pointer;display: block;width: 100%;margin-bottom: 0;padding: 0.3em;box-sizing: border-box;text-align: center;}#sk-container-id-1 label.sk-toggleable__label-arrow:before {content: \"▸\";float: left;margin-right: 0.25em;color: #696969;}#sk-container-id-1 label.sk-toggleable__label-arrow:hover:before {color: black;}#sk-container-id-1 div.sk-estimator:hover label.sk-toggleable__label-arrow:before {color: black;}#sk-container-id-1 div.sk-toggleable__content {max-height: 0;max-width: 0;overflow: hidden;text-align: left;background-color: #f0f8ff;}#sk-container-id-1 div.sk-toggleable__content pre {margin: 0.2em;color: black;border-radius: 0.25em;background-color: #f0f8ff;}#sk-container-id-1 input.sk-toggleable__control:checked~div.sk-toggleable__content {max-height: 200px;max-width: 100%;overflow: auto;}#sk-container-id-1 input.sk-toggleable__control:checked~label.sk-toggleable__label-arrow:before {content: \"▾\";}#sk-container-id-1 div.sk-estimator input.sk-toggleable__control:checked~label.sk-toggleable__label {background-color: #d4ebff;}#sk-container-id-1 div.sk-label input.sk-toggleable__control:checked~label.sk-toggleable__label {background-color: #d4ebff;}#sk-container-id-1 input.sk-hidden--visually {border: 0;clip: rect(1px 1px 1px 1px);clip: rect(1px, 1px, 1px, 1px);height: 1px;margin: -1px;overflow: hidden;padding: 0;position: absolute;width: 1px;}#sk-container-id-1 div.sk-estimator {font-family: monospace;background-color: #f0f8ff;border: 1px dotted black;border-radius: 0.25em;box-sizing: border-box;margin-bottom: 0.5em;}#sk-container-id-1 div.sk-estimator:hover {background-color: #d4ebff;}#sk-container-id-1 div.sk-parallel-item::after {content: \"\";width: 100%;border-bottom: 1px solid gray;flex-grow: 1;}#sk-container-id-1 div.sk-label:hover label.sk-toggleable__label {background-color: #d4ebff;}#sk-container-id-1 div.sk-serial::before {content: \"\";position: absolute;border-left: 1px solid gray;box-sizing: border-box;top: 0;bottom: 0;left: 50%;z-index: 0;}#sk-container-id-1 div.sk-serial {display: flex;flex-direction: column;align-items: center;background-color: white;padding-right: 0.2em;padding-left: 0.2em;position: relative;}#sk-container-id-1 div.sk-item {position: relative;z-index: 1;}#sk-container-id-1 div.sk-parallel {display: flex;align-items: stretch;justify-content: center;background-color: white;position: relative;}#sk-container-id-1 div.sk-item::before, #sk-container-id-1 div.sk-parallel-item::before {content: \"\";position: absolute;border-left: 1px solid gray;box-sizing: border-box;top: 0;bottom: 0;left: 50%;z-index: -1;}#sk-container-id-1 div.sk-parallel-item {display: flex;flex-direction: column;z-index: 1;position: relative;background-color: white;}#sk-container-id-1 div.sk-parallel-item:first-child::after {align-self: flex-end;width: 50%;}#sk-container-id-1 div.sk-parallel-item:last-child::after {align-self: flex-start;width: 50%;}#sk-container-id-1 div.sk-parallel-item:only-child::after {width: 0;}#sk-container-id-1 div.sk-dashed-wrapped {border: 1px dashed gray;margin: 0 0.4em 0.5em 0.4em;box-sizing: border-box;padding-bottom: 0.4em;background-color: white;}#sk-container-id-1 div.sk-label label {font-family: monospace;font-weight: bold;display: inline-block;line-height: 1.2em;}#sk-container-id-1 div.sk-label-container {text-align: center;}#sk-container-id-1 div.sk-container {/* jupyter's `normalize.less` sets `[hidden] { display: none; }` but bootstrap.min.css set `[hidden] { display: none !important; }` so we also need the `!important` here to be able to override the default hidden behavior on the sphinx rendered scikit-learn.org. See: https://github.com/scikit-learn/scikit-learn/issues/21755 */display: inline-block !important;position: relative;}#sk-container-id-1 div.sk-text-repr-fallback {display: none;}</style><div id=\"sk-container-id-1\" class=\"sk-top-container\"><div class=\"sk-text-repr-fallback\"><pre>KNeighborsRegressor()</pre><b>In a Jupyter environment, please rerun this cell to show the HTML representation or trust the notebook. <br />On GitHub, the HTML representation is unable to render, please try loading this page with nbviewer.org.</b></div><div class=\"sk-container\" hidden><div class=\"sk-item\"><div class=\"sk-estimator sk-toggleable\"><input class=\"sk-toggleable__control sk-hidden--visually\" id=\"sk-estimator-id-1\" type=\"checkbox\" checked><label for=\"sk-estimator-id-1\" class=\"sk-toggleable__label sk-toggleable__label-arrow\">KNeighborsRegressor</label><div class=\"sk-toggleable__content\"><pre>KNeighborsRegressor()</pre></div></div></div></div></div>"
            ]
          },
          "metadata": {},
          "execution_count": 27
        }
      ]
    },
    {
      "cell_type": "code",
      "source": [
        "y_pred = knn.predict(x_test)"
      ],
      "metadata": {
        "id": "LI7NUFBhxPEe"
      },
      "execution_count": null,
      "outputs": []
    },
    {
      "cell_type": "code",
      "source": [
        "print(y_pred)"
      ],
      "metadata": {
        "colab": {
          "base_uri": "https://localhost:8080/"
        },
        "id": "CGar8jr5xSmG",
        "outputId": "9df6f498-7f2e-43af-be42-0adb283fdf0b"
      },
      "execution_count": null,
      "outputs": [
        {
          "output_type": "stream",
          "name": "stdout",
          "text": [
            "[12.4  22.2  36.26 24.   34.16 12.2  13.4  15.5  14.5  18.94 25.52 25.4\n",
            " 33.08 19.12 27.8  28.66 20.02 36.   33.84 14.2  36.   17.52 24.   29.46\n",
            " 13.6  18.06 25.2  20.64 34.76 15.9  26.6  31.   20.8  29.1  14.6  35.54\n",
            " 21.36 27.8  12.4  38.54 17.22 19.34 20.2  27.4  24.8  34.58 15.   15.8\n",
            " 35.18 25.6  27.8  17.26 25.98 28.68 23.26 13.6  27.4  15.9  15.4  24.2\n",
            " 33.98 25.88 34.24 18.56 16.32 32.96 20.6  24.86 13.6  39.64 18.1  30.08\n",
            " 13.8  31.38 27.6  16.56 18.72 14.4  20.44 33.52]\n"
          ]
        }
      ]
    },
    {
      "cell_type": "markdown",
      "source": [
        "EVALUATION"
      ],
      "metadata": {
        "id": "bAjjGxI605li"
      }
    },
    {
      "cell_type": "code",
      "source": [
        "trainingscore = knn.score(x_train,y_train)\n",
        "testscore = knn.score(x_test,y_test)\n",
        "print('Training Score = ',trainingscore)\n",
        "print('Testing Score = ',testscore)\n"
      ],
      "metadata": {
        "colab": {
          "base_uri": "https://localhost:8080/"
        },
        "id": "JBimpeCjwUxW",
        "outputId": "5d548ee9-7a2c-418e-ebf1-9a8ea234179a"
      },
      "execution_count": null,
      "outputs": [
        {
          "output_type": "stream",
          "name": "stdout",
          "text": [
            "Training Score =  0.8961408600417858\n",
            "Testing Score =  0.8528301733422747\n"
          ]
        }
      ]
    },
    {
      "cell_type": "code",
      "source": [
        "from sklearn.metrics import mean_squared_error, r2_score\n",
        "\n",
        "mse = mean_squared_error(y_test, y_pred)\n",
        "r2 = r2_score(y_test, y_pred)\n",
        "\n",
        "print(\"Mean Squared Error:\", mse)\n",
        "print(\"R-squared:\", r2)"
      ],
      "metadata": {
        "colab": {
          "base_uri": "https://localhost:8080/"
        },
        "id": "fCA25yu8xfmj",
        "outputId": "3ca60667-9b1c-4377-c9df-d1a92637c5f4"
      },
      "execution_count": null,
      "outputs": [
        {
          "output_type": "stream",
          "name": "stdout",
          "text": [
            "Mean Squared Error: 9.052600000000004\n",
            "R-squared: 0.8528301733422747\n"
          ]
        }
      ]
    },
    {
      "cell_type": "markdown",
      "source": [
        "2.**DECISION** **TREE**"
      ],
      "metadata": {
        "id": "QuoKOUut2OFT"
      }
    },
    {
      "cell_type": "code",
      "source": [
        "from sklearn.tree import DecisionTreeRegressor\n",
        "dt = DecisionTreeRegressor()\n",
        "dt.fit(x_train,y_train)"
      ],
      "metadata": {
        "colab": {
          "base_uri": "https://localhost:8080/",
          "height": 75
        },
        "id": "zEbQ5UI8yPqm",
        "outputId": "00107109-e9f8-44b9-dcba-3d5776aed569"
      },
      "execution_count": null,
      "outputs": [
        {
          "output_type": "execute_result",
          "data": {
            "text/plain": [
              "DecisionTreeRegressor()"
            ],
            "text/html": [
              "<style>#sk-container-id-2 {color: black;}#sk-container-id-2 pre{padding: 0;}#sk-container-id-2 div.sk-toggleable {background-color: white;}#sk-container-id-2 label.sk-toggleable__label {cursor: pointer;display: block;width: 100%;margin-bottom: 0;padding: 0.3em;box-sizing: border-box;text-align: center;}#sk-container-id-2 label.sk-toggleable__label-arrow:before {content: \"▸\";float: left;margin-right: 0.25em;color: #696969;}#sk-container-id-2 label.sk-toggleable__label-arrow:hover:before {color: black;}#sk-container-id-2 div.sk-estimator:hover label.sk-toggleable__label-arrow:before {color: black;}#sk-container-id-2 div.sk-toggleable__content {max-height: 0;max-width: 0;overflow: hidden;text-align: left;background-color: #f0f8ff;}#sk-container-id-2 div.sk-toggleable__content pre {margin: 0.2em;color: black;border-radius: 0.25em;background-color: #f0f8ff;}#sk-container-id-2 input.sk-toggleable__control:checked~div.sk-toggleable__content {max-height: 200px;max-width: 100%;overflow: auto;}#sk-container-id-2 input.sk-toggleable__control:checked~label.sk-toggleable__label-arrow:before {content: \"▾\";}#sk-container-id-2 div.sk-estimator input.sk-toggleable__control:checked~label.sk-toggleable__label {background-color: #d4ebff;}#sk-container-id-2 div.sk-label input.sk-toggleable__control:checked~label.sk-toggleable__label {background-color: #d4ebff;}#sk-container-id-2 input.sk-hidden--visually {border: 0;clip: rect(1px 1px 1px 1px);clip: rect(1px, 1px, 1px, 1px);height: 1px;margin: -1px;overflow: hidden;padding: 0;position: absolute;width: 1px;}#sk-container-id-2 div.sk-estimator {font-family: monospace;background-color: #f0f8ff;border: 1px dotted black;border-radius: 0.25em;box-sizing: border-box;margin-bottom: 0.5em;}#sk-container-id-2 div.sk-estimator:hover {background-color: #d4ebff;}#sk-container-id-2 div.sk-parallel-item::after {content: \"\";width: 100%;border-bottom: 1px solid gray;flex-grow: 1;}#sk-container-id-2 div.sk-label:hover label.sk-toggleable__label {background-color: #d4ebff;}#sk-container-id-2 div.sk-serial::before {content: \"\";position: absolute;border-left: 1px solid gray;box-sizing: border-box;top: 0;bottom: 0;left: 50%;z-index: 0;}#sk-container-id-2 div.sk-serial {display: flex;flex-direction: column;align-items: center;background-color: white;padding-right: 0.2em;padding-left: 0.2em;position: relative;}#sk-container-id-2 div.sk-item {position: relative;z-index: 1;}#sk-container-id-2 div.sk-parallel {display: flex;align-items: stretch;justify-content: center;background-color: white;position: relative;}#sk-container-id-2 div.sk-item::before, #sk-container-id-2 div.sk-parallel-item::before {content: \"\";position: absolute;border-left: 1px solid gray;box-sizing: border-box;top: 0;bottom: 0;left: 50%;z-index: -1;}#sk-container-id-2 div.sk-parallel-item {display: flex;flex-direction: column;z-index: 1;position: relative;background-color: white;}#sk-container-id-2 div.sk-parallel-item:first-child::after {align-self: flex-end;width: 50%;}#sk-container-id-2 div.sk-parallel-item:last-child::after {align-self: flex-start;width: 50%;}#sk-container-id-2 div.sk-parallel-item:only-child::after {width: 0;}#sk-container-id-2 div.sk-dashed-wrapped {border: 1px dashed gray;margin: 0 0.4em 0.5em 0.4em;box-sizing: border-box;padding-bottom: 0.4em;background-color: white;}#sk-container-id-2 div.sk-label label {font-family: monospace;font-weight: bold;display: inline-block;line-height: 1.2em;}#sk-container-id-2 div.sk-label-container {text-align: center;}#sk-container-id-2 div.sk-container {/* jupyter's `normalize.less` sets `[hidden] { display: none; }` but bootstrap.min.css set `[hidden] { display: none !important; }` so we also need the `!important` here to be able to override the default hidden behavior on the sphinx rendered scikit-learn.org. See: https://github.com/scikit-learn/scikit-learn/issues/21755 */display: inline-block !important;position: relative;}#sk-container-id-2 div.sk-text-repr-fallback {display: none;}</style><div id=\"sk-container-id-2\" class=\"sk-top-container\"><div class=\"sk-text-repr-fallback\"><pre>DecisionTreeRegressor()</pre><b>In a Jupyter environment, please rerun this cell to show the HTML representation or trust the notebook. <br />On GitHub, the HTML representation is unable to render, please try loading this page with nbviewer.org.</b></div><div class=\"sk-container\" hidden><div class=\"sk-item\"><div class=\"sk-estimator sk-toggleable\"><input class=\"sk-toggleable__control sk-hidden--visually\" id=\"sk-estimator-id-2\" type=\"checkbox\" checked><label for=\"sk-estimator-id-2\" class=\"sk-toggleable__label sk-toggleable__label-arrow\">DecisionTreeRegressor</label><div class=\"sk-toggleable__content\"><pre>DecisionTreeRegressor()</pre></div></div></div></div></div>"
            ]
          },
          "metadata": {},
          "execution_count": 32
        }
      ]
    },
    {
      "cell_type": "code",
      "source": [
        "y_pred4 = dt.predict(x_test)\n"
      ],
      "metadata": {
        "id": "Jq2-qcB4ySFe"
      },
      "execution_count": null,
      "outputs": []
    },
    {
      "cell_type": "code",
      "source": [
        "y_pred4"
      ],
      "metadata": {
        "colab": {
          "base_uri": "https://localhost:8080/"
        },
        "id": "cd-TenaP3ffQ",
        "outputId": "d268c657-0488-4a81-f569-b365e1a45344"
      },
      "execution_count": null,
      "outputs": [
        {
          "output_type": "execute_result",
          "data": {
            "text/plain": [
              "array([13. , 30. , 34.4, 21. , 35. , 12. , 12. , 13. , 14. , 18.5, 30. ,\n",
              "       23. , 33. , 15. , 31. , 25. , 22. , 31.3, 39. , 16. , 34. , 17.6,\n",
              "       28. , 31. , 14. , 17.6, 24. , 20.2, 41.5, 17.5, 26. , 32.4, 19. ,\n",
              "       29. , 15. , 31.5, 26.8, 36. , 12. , 46.6, 19. , 19. , 20.2, 26. ,\n",
              "       26. , 32.8, 13. , 16. , 32. , 21.1, 24. , 38. , 25. , 28.4, 22. ,\n",
              "       13. , 24. , 17.5, 13. , 23. , 32. , 31. , 31.5, 18.2, 15. , 39.1,\n",
              "       21. , 28.8, 14. , 32.8, 18.5, 33. , 14. , 26.5, 25. , 18.5, 18.5,\n",
              "       14. , 19.4, 29.9])"
            ]
          },
          "metadata": {},
          "execution_count": 34
        }
      ]
    },
    {
      "cell_type": "markdown",
      "source": [
        "**EVALUATION**"
      ],
      "metadata": {
        "id": "g5ZdnOKP30k7"
      }
    },
    {
      "cell_type": "code",
      "source": [
        "trainingscore = dt.score(x_train,y_train)\n",
        "testscore = dt.score(x_test,y_test)\n",
        "print('Training Score = ',trainingscore)\n",
        "print('Testing Score = ',testscore)\n"
      ],
      "metadata": {
        "colab": {
          "base_uri": "https://localhost:8080/"
        },
        "id": "E-qlEXWr3qrm",
        "outputId": "00ab3de7-9b03-4596-a47c-96083bd21dbf"
      },
      "execution_count": null,
      "outputs": [
        {
          "output_type": "stream",
          "name": "stdout",
          "text": [
            "Training Score =  1.0\n",
            "Testing Score =  0.7995285415269564\n"
          ]
        }
      ]
    },
    {
      "cell_type": "code",
      "source": [
        "mse = mean_squared_error(y_test, y_pred)\n",
        "r2 = r2_score(y_test, y_pred)\n",
        "\n",
        "print(f'Mean Squared Error: {mse}')\n",
        "print(f'R^2 Score: {r2}')"
      ],
      "metadata": {
        "colab": {
          "base_uri": "https://localhost:8080/"
        },
        "id": "0k3yZ4Wc3Xsf",
        "outputId": "8a884aa2-9601-4abc-b092-9ffc160955b1"
      },
      "execution_count": null,
      "outputs": [
        {
          "output_type": "stream",
          "name": "stdout",
          "text": [
            "Mean Squared Error: 9.052600000000004\n",
            "R^2 Score: 0.8528301733422747\n"
          ]
        }
      ]
    },
    {
      "cell_type": "code",
      "source": [
        "df.columns"
      ],
      "metadata": {
        "colab": {
          "base_uri": "https://localhost:8080/"
        },
        "id": "nbv7mIzF3302",
        "outputId": "381915c1-68ca-4f11-d5fd-39f02e2a63f1"
      },
      "execution_count": null,
      "outputs": [
        {
          "output_type": "execute_result",
          "data": {
            "text/plain": [
              "Index(['mpg', 'cylinders', 'displacement', 'horsepower', 'weight',\n",
              "       'acceleration', 'model year', 'origin', 'car name'],\n",
              "      dtype='object')"
            ]
          },
          "metadata": {},
          "execution_count": 37
        }
      ]
    },
    {
      "cell_type": "markdown",
      "source": [
        "PLOTTING DECISION TREE"
      ],
      "metadata": {
        "id": "pbEnF9d7382L"
      }
    },
    {
      "cell_type": "code",
      "source": [
        "from sklearn import tree\n",
        "import matplotlib.pyplot as plt\n",
        "\n",
        "plt.figure(figsize=(25,25))\n",
        "tree.plot_tree(dt)\n",
        "tree.plot_tree(dt,feature_names=['mpg', 'cylinders', 'displacement', 'horsepower', 'weight',\n",
        "       'acceleration', 'model year', 'origin', 'car name'],class_names=['0','1'],filled=True)"
      ],
      "metadata": {
        "colab": {
          "base_uri": "https://localhost:8080/",
          "height": 1000
        },
        "id": "ZTHdMN_d35tq",
        "outputId": "282ebcee-5987-4d2e-cba9-ebcd1a370262",
        "collapsed": true
      },
      "execution_count": null,
      "outputs": [
        {
          "output_type": "execute_result",
          "data": {
            "text/plain": [
              "[Text(0.5299840856481481, 0.9705882352941176, 'mpg <= 0.043\\nsquared_error = 60.684\\nsamples = 318\\nvalue = 23.367'),\n",
              " Text(0.2601727363264427, 0.9117647058823529, 'horsepower <= -0.908\\nsquared_error = 35.316\\nsamples = 169\\nvalue = 28.879'),\n",
              " Text(0.11863089470284238, 0.8529411764705882, 'acceleration <= 0.393\\nsquared_error = 26.2\\nsamples = 75\\nvalue = 32.725'),\n",
              " Text(0.05770887166236004, 0.7941176470588235, 'horsepower <= -1.05\\nsquared_error = 11.478\\nsamples = 35\\nvalue = 28.914'),\n",
              " Text(0.02756244616709733, 0.7352941176470589, 'horsepower <= -1.375\\nsquared_error = 6.67\\nsamples = 22\\nvalue = 30.477'),\n",
              " Text(0.013781223083548665, 0.6764705882352942, 'weight <= 0.789\\nsquared_error = 3.688\\nsamples = 4\\nvalue = 33.75'),\n",
              " Text(0.0068906115417743325, 0.6176470588235294, 'acceleration <= -0.279\\nsquared_error = 1.0\\nsamples = 2\\nvalue = 32.0'),\n",
              " Text(0.0034453057708871662, 0.5588235294117647, 'squared_error = 0.0\\nsamples = 1\\nvalue = 31.0'),\n",
              " Text(0.0103359173126615, 0.5588235294117647, 'squared_error = 0.0\\nsamples = 1\\nvalue = 33.0'),\n",
              " Text(0.020671834625323, 0.6176470588235294, 'origin <= 0.187\\nsquared_error = 0.25\\nsamples = 2\\nvalue = 35.5'),\n",
              " Text(0.017226528854435832, 0.5588235294117647, 'squared_error = 0.0\\nsamples = 1\\nvalue = 35.0'),\n",
              " Text(0.024117140396210164, 0.5588235294117647, 'squared_error = 0.0\\nsamples = 1\\nvalue = 36.0'),\n",
              " Text(0.041343669250646, 0.6764705882352942, 'acceleration <= -0.683\\nsquared_error = 4.424\\nsamples = 18\\nvalue = 29.75'),\n",
              " Text(0.034453057708871665, 0.6176470588235294, 'origin <= 0.715\\nsquared_error = 3.472\\nsamples = 6\\nvalue = 27.833'),\n",
              " Text(0.031007751937984496, 0.5588235294117647, 'acceleration <= -1.087\\nsquared_error = 0.222\\nsamples = 3\\nvalue = 29.667'),\n",
              " Text(0.02756244616709733, 0.5, 'squared_error = 0.0\\nsamples = 2\\nvalue = 30.0'),\n",
              " Text(0.034453057708871665, 0.5, 'squared_error = 0.0\\nsamples = 1\\nvalue = 29.0'),\n",
              " Text(0.03789836347975883, 0.5588235294117647, 'squared_error = 0.0\\nsamples = 3\\nvalue = 26.0'),\n",
              " Text(0.04823428079242033, 0.6176470588235294, 'weight <= -0.113\\nsquared_error = 2.144\\nsamples = 12\\nvalue = 30.708'),\n",
              " Text(0.04478897502153316, 0.5588235294117647, 'squared_error = 0.0\\nsamples = 3\\nvalue = 29.0'),\n",
              " Text(0.05167958656330749, 0.5588235294117647, 'origin <= -0.874\\nsquared_error = 1.562\\nsamples = 9\\nvalue = 31.278'),\n",
              " Text(0.04478897502153316, 0.5, 'weight <= 1.474\\nsquared_error = 0.562\\nsamples = 2\\nvalue = 29.75'),\n",
              " Text(0.041343669250646, 0.4411764705882353, 'squared_error = 0.0\\nsamples = 1\\nvalue = 30.5'),\n",
              " Text(0.04823428079242033, 0.4411764705882353, 'squared_error = 0.0\\nsamples = 1\\nvalue = 29.0'),\n",
              " Text(0.05857019810508183, 0.5, 'model year <= -0.067\\nsquared_error = 0.99\\nsamples = 7\\nvalue = 31.714'),\n",
              " Text(0.05512489233419466, 0.4411764705882353, 'squared_error = 0.0\\nsamples = 1\\nvalue = 33.5'),\n",
              " Text(0.06201550387596899, 0.4411764705882353, 'weight <= 0.428\\nsquared_error = 0.535\\nsamples = 6\\nvalue = 31.417'),\n",
              " Text(0.05512489233419466, 0.38235294117647056, 'cylinders <= -1.014\\nsquared_error = 0.25\\nsamples = 2\\nvalue = 30.5'),\n",
              " Text(0.05167958656330749, 0.3235294117647059, 'squared_error = 0.0\\nsamples = 1\\nvalue = 31.0'),\n",
              " Text(0.05857019810508183, 0.3235294117647059, 'squared_error = 0.0\\nsamples = 1\\nvalue = 30.0'),\n",
              " Text(0.06890611541774333, 0.38235294117647056, 'acceleration <= 0.124\\nsquared_error = 0.047\\nsamples = 4\\nvalue = 31.875'),\n",
              " Text(0.06546080964685616, 0.3235294117647059, 'squared_error = 0.0\\nsamples = 3\\nvalue = 32.0'),\n",
              " Text(0.07235142118863049, 0.3235294117647059, 'squared_error = 0.0\\nsamples = 1\\nvalue = 31.5'),\n",
              " Text(0.08785529715762273, 0.7352941176470589, 'mpg <= -1.145\\nsquared_error = 8.485\\nsamples = 13\\nvalue = 26.269'),\n",
              " Text(0.08440999138673558, 0.6764705882352942, 'squared_error = 0.0\\nsamples = 1\\nvalue = 18.0'),\n",
              " Text(0.0913006029285099, 0.6764705882352942, 'weight <= 0.428\\nsquared_error = 3.019\\nsamples = 12\\nvalue = 26.958'),\n",
              " Text(0.07924203273040482, 0.6176470588235294, 'origin <= -0.94\\nsquared_error = 2.469\\nsamples = 9\\nvalue = 27.556'),\n",
              " Text(0.07579672695951765, 0.5588235294117647, 'squared_error = 0.0\\nsamples = 1\\nvalue = 30.0'),\n",
              " Text(0.082687338501292, 0.5588235294117647, 'origin <= 1.221\\nsquared_error = 1.938\\nsamples = 8\\nvalue = 27.25'),\n",
              " Text(0.07579672695951765, 0.5, 'displacement <= 0.72\\nsquared_error = 1.806\\nsamples = 6\\nvalue = 26.833'),\n",
              " Text(0.07235142118863049, 0.4411764705882353, 'squared_error = 0.0\\nsamples = 1\\nvalue = 24.0'),\n",
              " Text(0.07924203273040482, 0.4411764705882353, 'origin <= -0.544\\nsquared_error = 0.24\\nsamples = 5\\nvalue = 27.4'),\n",
              " Text(0.07579672695951765, 0.38235294117647056, 'squared_error = 0.0\\nsamples = 2\\nvalue = 27.0'),\n",
              " Text(0.082687338501292, 0.38235294117647056, 'origin <= 0.902\\nsquared_error = 0.222\\nsamples = 3\\nvalue = 27.667'),\n",
              " Text(0.07924203273040482, 0.3235294117647059, 'squared_error = 0.0\\nsamples = 2\\nvalue = 28.0'),\n",
              " Text(0.08613264427217916, 0.3235294117647059, 'squared_error = 0.0\\nsamples = 1\\nvalue = 27.0'),\n",
              " Text(0.08957795004306632, 0.5, 'weight <= 0.248\\nsquared_error = 0.25\\nsamples = 2\\nvalue = 28.5'),\n",
              " Text(0.08613264427217916, 0.4411764705882353, 'squared_error = 0.0\\nsamples = 1\\nvalue = 29.0'),\n",
              " Text(0.09302325581395349, 0.4411764705882353, 'squared_error = 0.0\\nsamples = 1\\nvalue = 28.0'),\n",
              " Text(0.10335917312661498, 0.6176470588235294, 'origin <= 0.33\\nsquared_error = 0.389\\nsamples = 3\\nvalue = 25.167'),\n",
              " Text(0.09991386735572783, 0.5588235294117647, 'weight <= 1.456\\nsquared_error = 0.062\\nsamples = 2\\nvalue = 24.75'),\n",
              " Text(0.09646856158484066, 0.5, 'squared_error = 0.0\\nsamples = 1\\nvalue = 25.0'),\n",
              " Text(0.10335917312661498, 0.5, 'squared_error = 0.0\\nsamples = 1\\nvalue = 24.5'),\n",
              " Text(0.10680447889750215, 0.5588235294117647, 'squared_error = 0.0\\nsamples = 1\\nvalue = 26.0'),\n",
              " Text(0.1795529177433247, 0.7941176470588235, 'weight <= 1.78\\nsquared_error = 15.252\\nsamples = 40\\nvalue = 36.06'),\n",
              " Text(0.14878068475452197, 0.7352941176470589, 'cylinders <= -1.019\\nsquared_error = 11.217\\nsamples = 37\\nvalue = 35.432'),\n",
              " Text(0.12058570198105081, 0.6764705882352942, 'horsepower <= -1.061\\nsquared_error = 17.19\\nsamples = 7\\nvalue = 38.314'),\n",
              " Text(0.11714039621016366, 0.6176470588235294, 'weight <= 1.257\\nsquared_error = 6.706\\nsamples = 6\\nvalue = 36.933'),\n",
              " Text(0.11369509043927649, 0.5588235294117647, 'weight <= 0.103\\nsquared_error = 3.946\\nsamples = 5\\nvalue = 37.76'),\n",
              " Text(0.11024978466838932, 0.5, 'squared_error = 0.0\\nsamples = 1\\nvalue = 34.1'),\n",
              " Text(0.11714039621016366, 0.5, 'origin <= -0.676\\nsquared_error = 0.747\\nsamples = 4\\nvalue = 38.675'),\n",
              " Text(0.11369509043927649, 0.4411764705882353, 'squared_error = 0.0\\nsamples = 1\\nvalue = 37.2'),\n",
              " Text(0.12058570198105081, 0.4411764705882353, 'weight <= 0.807\\nsquared_error = 0.029\\nsamples = 3\\nvalue = 39.167'),\n",
              " Text(0.11714039621016366, 0.38235294117647056, 'origin <= 1.078\\nsquared_error = 0.003\\nsamples = 2\\nvalue = 39.05'),\n",
              " Text(0.11369509043927649, 0.3235294117647059, 'squared_error = 0.0\\nsamples = 1\\nvalue = 39.0'),\n",
              " Text(0.12058570198105081, 0.3235294117647059, 'squared_error = 0.0\\nsamples = 1\\nvalue = 39.1'),\n",
              " Text(0.12403100775193798, 0.38235294117647056, 'squared_error = -0.0\\nsamples = 1\\nvalue = 39.4'),\n",
              " Text(0.12058570198105081, 0.5588235294117647, 'squared_error = -0.0\\nsamples = 1\\nvalue = 32.8'),\n",
              " Text(0.12403100775193798, 0.6176470588235294, 'squared_error = 0.0\\nsamples = 1\\nvalue = 46.6'),\n",
              " Text(0.1769756675279931, 0.6764705882352942, 'origin <= -0.902\\nsquared_error = 7.433\\nsamples = 30\\nvalue = 34.76'),\n",
              " Text(0.15051679586563307, 0.6176470588235294, 'horsepower <= -0.963\\nsquared_error = 3.082\\nsamples = 3\\nvalue = 32.133'),\n",
              " Text(0.1470714900947459, 0.5588235294117647, 'weight <= 0.176\\nsquared_error = 1.102\\nsamples = 2\\nvalue = 31.05'),\n",
              " Text(0.14362618432385874, 0.5, 'squared_error = 0.0\\nsamples = 1\\nvalue = 32.1'),\n",
              " Text(0.15051679586563307, 0.5, 'squared_error = 0.0\\nsamples = 1\\nvalue = 30.0'),\n",
              " Text(0.15396210163652024, 0.5588235294117647, 'squared_error = -0.0\\nsamples = 1\\nvalue = 34.3'),\n",
              " Text(0.20343453919035315, 0.6176470588235294, 'displacement <= 0.654\\nsquared_error = 7.065\\nsamples = 27\\nvalue = 35.052'),\n",
              " Text(0.18464685615848406, 0.5588235294117647, 'origin <= 1.435\\nsquared_error = 5.869\\nsamples = 25\\nvalue = 34.768'),\n",
              " Text(0.1574074074074074, 0.5, 'displacement <= 0.305\\nsquared_error = 4.387\\nsamples = 21\\nvalue = 35.381'),\n",
              " Text(0.13781223083548666, 0.4411764705882353, 'origin <= 0.852\\nsquared_error = 1.754\\nsamples = 5\\nvalue = 36.92'),\n",
              " Text(0.13092161929371232, 0.38235294117647056, 'model year <= 0.562\\nsquared_error = 0.49\\nsamples = 2\\nvalue = 35.4'),\n",
              " Text(0.12747631352282515, 0.3235294117647059, 'squared_error = 0.0\\nsamples = 1\\nvalue = 34.7'),\n",
              " Text(0.1343669250645995, 0.3235294117647059, 'squared_error = -0.0\\nsamples = 1\\nvalue = 36.1'),\n",
              " Text(0.14470284237726097, 0.38235294117647056, 'origin <= 1.375\\nsquared_error = 0.029\\nsamples = 3\\nvalue = 37.933'),\n",
              " Text(0.14125753660637383, 0.3235294117647059, 'displacement <= 0.222\\nsquared_error = 0.002\\nsamples = 2\\nvalue = 38.05'),\n",
              " Text(0.13781223083548666, 0.2647058823529412, 'squared_error = 0.0\\nsamples = 1\\nvalue = 38.1'),\n",
              " Text(0.14470284237726097, 0.2647058823529412, 'squared_error = 0.0\\nsamples = 1\\nvalue = 38.0'),\n",
              " Text(0.14814814814814814, 0.3235294117647059, 'squared_error = 0.0\\nsamples = 1\\nvalue = 37.7'),\n",
              " Text(0.17700258397932817, 0.4411764705882353, 'origin <= 0.203\\nsquared_error = 4.239\\nsamples = 16\\nvalue = 34.9'),\n",
              " Text(0.16192937123169682, 0.38235294117647056, 'cylinders <= -0.951\\nsquared_error = 1.642\\nsamples = 6\\nvalue = 36.633'),\n",
              " Text(0.15503875968992248, 0.3235294117647059, 'displacement <= 0.438\\nsquared_error = 0.109\\nsamples = 3\\nvalue = 37.767'),\n",
              " Text(0.1515934539190353, 0.2647058823529412, 'squared_error = 0.0\\nsamples = 2\\nvalue = 38.0'),\n",
              " Text(0.15848406546080965, 0.2647058823529412, 'squared_error = 0.0\\nsamples = 1\\nvalue = 37.3'),\n",
              " Text(0.16881998277347116, 0.3235294117647059, 'weight <= -0.059\\nsquared_error = 0.607\\nsamples = 3\\nvalue = 35.5'),\n",
              " Text(0.165374677002584, 0.2647058823529412, 'displacement <= 0.504\\nsquared_error = 0.003\\nsamples = 2\\nvalue = 36.05'),\n",
              " Text(0.16192937123169682, 0.20588235294117646, 'squared_error = 0.0\\nsamples = 1\\nvalue = 36.1'),\n",
              " Text(0.16881998277347116, 0.20588235294117646, 'squared_error = 0.0\\nsamples = 1\\nvalue = 36.0'),\n",
              " Text(0.17226528854435832, 0.2647058823529412, 'squared_error = -0.0\\nsamples = 1\\nvalue = 34.4'),\n",
              " Text(0.1920757967269595, 0.38235294117647056, 'horsepower <= -1.197\\nsquared_error = 2.912\\nsamples = 10\\nvalue = 33.86'),\n",
              " Text(0.1826012058570198, 0.3235294117647059, 'weight <= 0.41\\nsquared_error = 0.25\\nsamples = 2\\nvalue = 31.5'),\n",
              " Text(0.17915590008613264, 0.2647058823529412, 'squared_error = 0.0\\nsamples = 1\\nvalue = 32.0'),\n",
              " Text(0.18604651162790697, 0.2647058823529412, 'squared_error = 0.0\\nsamples = 1\\nvalue = 31.0'),\n",
              " Text(0.20155038759689922, 0.3235294117647059, 'acceleration <= 1.47\\nsquared_error = 1.838\\nsamples = 8\\nvalue = 34.45'),\n",
              " Text(0.1929371231696813, 0.2647058823529412, 'origin <= 1.05\\nsquared_error = 0.499\\nsamples = 6\\nvalue = 33.767'),\n",
              " Text(0.18604651162790697, 0.20588235294117646, 'origin <= 0.28\\nsquared_error = 0.082\\nsamples = 4\\nvalue = 34.125'),\n",
              " Text(0.1826012058570198, 0.14705882352941177, 'squared_error = 0.0\\nsamples = 1\\nvalue = 33.7'),\n",
              " Text(0.18949181739879414, 0.14705882352941177, 'origin <= 0.852\\nsquared_error = 0.029\\nsamples = 3\\nvalue = 34.267'),\n",
              " Text(0.18604651162790697, 0.08823529411764706, 'acceleration <= 1.066\\nsquared_error = 0.003\\nsamples = 2\\nvalue = 34.15'),\n",
              " Text(0.1826012058570198, 0.029411764705882353, 'squared_error = 0.0\\nsamples = 1\\nvalue = 34.2'),\n",
              " Text(0.18949181739879414, 0.029411764705882353, 'squared_error = -0.0\\nsamples = 1\\nvalue = 34.1'),\n",
              " Text(0.1929371231696813, 0.08823529411764706, 'squared_error = 0.0\\nsamples = 1\\nvalue = 34.5'),\n",
              " Text(0.19982773471145565, 0.20588235294117646, 'weight <= 0.861\\nsquared_error = 0.562\\nsamples = 2\\nvalue = 33.05'),\n",
              " Text(0.19638242894056848, 0.14705882352941177, 'squared_error = 0.0\\nsamples = 1\\nvalue = 32.3'),\n",
              " Text(0.20327304048234282, 0.14705882352941177, 'squared_error = 0.0\\nsamples = 1\\nvalue = 33.8'),\n",
              " Text(0.21016365202411713, 0.2647058823529412, 'cylinders <= -0.951\\nsquared_error = 0.25\\nsamples = 2\\nvalue = 36.5'),\n",
              " Text(0.20671834625322996, 0.20588235294117646, 'squared_error = 0.0\\nsamples = 1\\nvalue = 37.0'),\n",
              " Text(0.2136089577950043, 0.20588235294117646, 'squared_error = 0.0\\nsamples = 1\\nvalue = 36.0'),\n",
              " Text(0.21188630490956073, 0.5, 'displacement <= 0.388\\nsquared_error = 1.323\\nsamples = 4\\nvalue = 31.55'),\n",
              " Text(0.20844099913867356, 0.4411764705882353, 'squared_error = 0.0\\nsamples = 1\\nvalue = 29.8'),\n",
              " Text(0.2153316106804479, 0.4411764705882353, 'horsepower <= -1.061\\nsquared_error = 0.402\\nsamples = 3\\nvalue = 32.133'),\n",
              " Text(0.21188630490956073, 0.38235294117647056, 'horsepower <= -1.221\\nsquared_error = 0.04\\nsamples = 2\\nvalue = 31.7'),\n",
              " Text(0.20844099913867356, 0.3235294117647059, 'squared_error = 0.0\\nsamples = 1\\nvalue = 31.9'),\n",
              " Text(0.2153316106804479, 0.3235294117647059, 'squared_error = 0.0\\nsamples = 1\\nvalue = 31.5'),\n",
              " Text(0.21877691645133507, 0.38235294117647056, 'squared_error = -0.0\\nsamples = 1\\nvalue = 33.0'),\n",
              " Text(0.2222222222222222, 0.5588235294117647, 'acceleration <= 0.932\\nsquared_error = 8.41\\nsamples = 2\\nvalue = 38.6'),\n",
              " Text(0.21877691645133507, 0.5, 'squared_error = 0.0\\nsamples = 1\\nvalue = 35.7'),\n",
              " Text(0.22566752799310938, 0.5, 'squared_error = 0.0\\nsamples = 1\\nvalue = 41.5'),\n",
              " Text(0.21032515073212749, 0.7352941176470589, 'acceleration <= 0.797\\nsquared_error = 0.26\\nsamples = 3\\nvalue = 43.8'),\n",
              " Text(0.20687984496124032, 0.6764705882352942, 'squared_error = 0.0\\nsamples = 1\\nvalue = 43.1'),\n",
              " Text(0.21377045650301466, 0.6764705882352942, 'acceleration <= 1.335\\nsquared_error = 0.023\\nsamples = 2\\nvalue = 44.15'),\n",
              " Text(0.21032515073212749, 0.6176470588235294, 'squared_error = 0.0\\nsamples = 1\\nvalue = 44.3'),\n",
              " Text(0.2172157622739018, 0.6176470588235294, 'squared_error = 0.0\\nsamples = 1\\nvalue = 44.0'),\n",
              " Text(0.40171457795004306, 0.8529411764705882, 'acceleration <= 0.663\\nsquared_error = 21.371\\nsamples = 94\\nvalue = 25.811'),\n",
              " Text(0.33389857881136953, 0.7941176470588235, 'horsepower <= -0.236\\nsquared_error = 6.103\\nsamples = 55\\nvalue = 23.213'),\n",
              " Text(0.2931201550387597, 0.7352941176470589, 'weight <= 1.023\\nsquared_error = 5.046\\nsamples = 46\\nvalue = 23.739'),\n",
              " Text(0.25118432385874245, 0.6764705882352942, 'mpg <= -1.145\\nsquared_error = 4.076\\nsamples = 40\\nvalue = 24.175'),\n",
              " Text(0.23255813953488372, 0.6176470588235294, 'origin <= 0.363\\nsquared_error = 1.562\\nsamples = 2\\nvalue = 20.25'),\n",
              " Text(0.22911283376399655, 0.5588235294117647, 'squared_error = 0.0\\nsamples = 1\\nvalue = 21.5'),\n",
              " Text(0.2360034453057709, 0.5588235294117647, 'squared_error = 0.0\\nsamples = 1\\nvalue = 19.0'),\n",
              " Text(0.2698105081826012, 0.6176470588235294, 'cylinders <= -0.888\\nsquared_error = 3.355\\nsamples = 38\\nvalue = 24.382'),\n",
              " Text(0.24289405684754523, 0.5588235294117647, 'acceleration <= -0.817\\nsquared_error = 0.96\\nsamples = 5\\nvalue = 26.2'),\n",
              " Text(0.23944875107665806, 0.5, 'squared_error = 0.0\\nsamples = 1\\nvalue = 28.0'),\n",
              " Text(0.2463393626184324, 0.5, 'cylinders <= -0.961\\nsquared_error = 0.188\\nsamples = 4\\nvalue = 25.75'),\n",
              " Text(0.24289405684754523, 0.4411764705882353, 'squared_error = 0.0\\nsamples = 1\\nvalue = 25.0'),\n",
              " Text(0.24978466838931956, 0.4411764705882353, 'squared_error = 0.0\\nsamples = 3\\nvalue = 26.0'),\n",
              " Text(0.2967269595176572, 0.5588235294117647, 'acceleration <= -0.683\\nsquared_error = 3.141\\nsamples = 33\\nvalue = 24.106'),\n",
              " Text(0.2721791559000861, 0.5, 'acceleration <= -1.221\\nsquared_error = 2.675\\nsamples = 13\\nvalue = 23.308'),\n",
              " Text(0.2566752799310939, 0.4411764705882353, 'model year <= -0.067\\nsquared_error = 0.917\\nsamples = 6\\nvalue = 24.5'),\n",
              " Text(0.2532299741602067, 0.38235294117647056, 'squared_error = 0.0\\nsamples = 1\\nvalue = 23.0'),\n",
              " Text(0.26012058570198104, 0.38235294117647056, 'displacement <= -0.127\\nsquared_error = 0.56\\nsamples = 5\\nvalue = 24.8'),\n",
              " Text(0.2566752799310939, 0.3235294117647059, 'squared_error = 0.0\\nsamples = 1\\nvalue = 26.0'),\n",
              " Text(0.26356589147286824, 0.3235294117647059, 'horsepower <= -0.808\\nsquared_error = 0.25\\nsamples = 4\\nvalue = 24.5'),\n",
              " Text(0.26012058570198104, 0.2647058823529412, 'squared_error = 0.0\\nsamples = 1\\nvalue = 25.0'),\n",
              " Text(0.2670111972437554, 0.2647058823529412, 'cylinders <= -0.845\\nsquared_error = 0.222\\nsamples = 3\\nvalue = 24.333'),\n",
              " Text(0.26356589147286824, 0.20588235294117646, 'squared_error = 0.0\\nsamples = 1\\nvalue = 25.0'),\n",
              " Text(0.2704565030146425, 0.20588235294117646, 'squared_error = 0.0\\nsamples = 2\\nvalue = 24.0'),\n",
              " Text(0.2876830318690784, 0.4411764705882353, 'origin <= 0.66\\nsquared_error = 1.918\\nsamples = 7\\nvalue = 22.286'),\n",
              " Text(0.28079242032730406, 0.38235294117647056, 'horsepower <= -0.581\\nsquared_error = 0.688\\nsamples = 4\\nvalue = 21.25'),\n",
              " Text(0.27734711455641686, 0.3235294117647059, 'origin <= 0.094\\nsquared_error = 0.222\\nsamples = 3\\nvalue = 21.667'),\n",
              " Text(0.2739018087855297, 0.2647058823529412, 'squared_error = 0.0\\nsamples = 2\\nvalue = 22.0'),\n",
              " Text(0.28079242032730406, 0.2647058823529412, 'squared_error = 0.0\\nsamples = 1\\nvalue = 21.0'),\n",
              " Text(0.2842377260981912, 0.3235294117647059, 'squared_error = 0.0\\nsamples = 1\\nvalue = 20.0'),\n",
              " Text(0.29457364341085274, 0.38235294117647056, 'origin <= 1.391\\nsquared_error = 0.222\\nsamples = 3\\nvalue = 23.667'),\n",
              " Text(0.29112833763996554, 0.3235294117647059, 'squared_error = 0.0\\nsamples = 2\\nvalue = 24.0'),\n",
              " Text(0.2980189491817399, 0.3235294117647059, 'squared_error = 0.0\\nsamples = 1\\nvalue = 23.0'),\n",
              " Text(0.32127476313522824, 0.5, 'origin <= -1.292\\nsquared_error = 2.76\\nsamples = 20\\nvalue = 24.625'),\n",
              " Text(0.3049095607235142, 0.4411764705882353, 'displacement <= -0.077\\nsquared_error = 0.562\\nsamples = 2\\nvalue = 22.25'),\n",
              " Text(0.301464254952627, 0.38235294117647056, 'squared_error = 0.0\\nsamples = 1\\nvalue = 21.5'),\n",
              " Text(0.30835486649440136, 0.38235294117647056, 'squared_error = 0.0\\nsamples = 1\\nvalue = 23.0'),\n",
              " Text(0.3376399655469423, 0.4411764705882353, 'weight <= -0.275\\nsquared_error = 2.308\\nsamples = 18\\nvalue = 24.889'),\n",
              " Text(0.3152454780361757, 0.38235294117647056, 'weight <= -0.708\\nsquared_error = 1.489\\nsamples = 6\\nvalue = 26.033'),\n",
              " Text(0.3066322136089578, 0.3235294117647059, 'horsepower <= -0.342\\nsquared_error = 0.25\\nsamples = 2\\nvalue = 24.5'),\n",
              " Text(0.3031869078380706, 0.2647058823529412, 'squared_error = 0.0\\nsamples = 1\\nvalue = 25.0'),\n",
              " Text(0.31007751937984496, 0.2647058823529412, 'squared_error = 0.0\\nsamples = 1\\nvalue = 24.0'),\n",
              " Text(0.32385874246339363, 0.3235294117647059, 'displacement <= 0.969\\nsquared_error = 0.345\\nsamples = 4\\nvalue = 26.8'),\n",
              " Text(0.3169681309216193, 0.2647058823529412, 'model year <= -0.067\\nsquared_error = 0.062\\nsamples = 2\\nvalue = 26.25'),\n",
              " Text(0.31352282515073215, 0.20588235294117646, 'squared_error = 0.0\\nsamples = 1\\nvalue = 26.5'),\n",
              " Text(0.32041343669250644, 0.20588235294117646, 'squared_error = 0.0\\nsamples = 1\\nvalue = 26.0'),\n",
              " Text(0.330749354005168, 0.2647058823529412, 'origin <= 0.313\\nsquared_error = 0.023\\nsamples = 2\\nvalue = 27.35'),\n",
              " Text(0.3273040482342808, 0.20588235294117646, 'squared_error = 0.0\\nsamples = 1\\nvalue = 27.2'),\n",
              " Text(0.3341946597760551, 0.20588235294117646, 'squared_error = -0.0\\nsamples = 1\\nvalue = 27.5'),\n",
              " Text(0.36003445305770887, 0.38235294117647056, 'origin <= 1.199\\nsquared_error = 1.735\\nsamples = 12\\nvalue = 24.317'),\n",
              " Text(0.35658914728682173, 0.3235294117647059, 'weight <= 0.392\\nsquared_error = 0.866\\nsamples = 11\\nvalue = 24.609'),\n",
              " Text(0.3479758828596038, 0.2647058823529412, 'model year <= 0.562\\nsquared_error = 0.492\\nsamples = 8\\nvalue = 24.938'),\n",
              " Text(0.34108527131782945, 0.20588235294117646, 'cylinders <= -0.456\\nsquared_error = 0.222\\nsamples = 6\\nvalue = 25.267'),\n",
              " Text(0.3376399655469423, 0.14705882352941177, 'origin <= -0.038\\nsquared_error = 0.126\\nsamples = 5\\nvalue = 25.42'),\n",
              " Text(0.330749354005168, 0.08823529411764706, 'acceleration <= 0.259\\nsquared_error = 0.003\\nsamples = 2\\nvalue = 25.05'),\n",
              " Text(0.3273040482342808, 0.029411764705882353, 'squared_error = 0.0\\nsamples = 1\\nvalue = 25.0'),\n",
              " Text(0.3341946597760551, 0.029411764705882353, 'squared_error = 0.0\\nsamples = 1\\nvalue = 25.1'),\n",
              " Text(0.34453057708871665, 0.08823529411764706, 'displacement <= 0.953\\nsquared_error = 0.056\\nsamples = 3\\nvalue = 25.667'),\n",
              " Text(0.34108527131782945, 0.029411764705882353, 'squared_error = 0.0\\nsamples = 1\\nvalue = 26.0'),\n",
              " Text(0.3479758828596038, 0.029411764705882353, 'squared_error = 0.0\\nsamples = 2\\nvalue = 25.5'),\n",
              " Text(0.34453057708871665, 0.14705882352941177, 'squared_error = 0.0\\nsamples = 1\\nvalue = 24.5'),\n",
              " Text(0.35486649440137813, 0.20588235294117646, 'horsepower <= -0.631\\nsquared_error = 0.002\\nsamples = 2\\nvalue = 23.95'),\n",
              " Text(0.35142118863049093, 0.14705882352941177, 'squared_error = 0.0\\nsamples = 1\\nvalue = 23.9'),\n",
              " Text(0.35831180017226527, 0.14705882352941177, 'squared_error = 0.0\\nsamples = 1\\nvalue = 24.0'),\n",
              " Text(0.3652024117140396, 0.2647058823529412, 'horsepower <= -0.458\\nsquared_error = 0.809\\nsamples = 3\\nvalue = 23.733'),\n",
              " Text(0.36175710594315247, 0.20588235294117646, 'squared_error = 0.0\\nsamples = 1\\nvalue = 25.0'),\n",
              " Text(0.3686477174849268, 0.20588235294117646, 'origin <= 0.484\\nsquared_error = 0.01\\nsamples = 2\\nvalue = 23.1'),\n",
              " Text(0.3652024117140396, 0.14705882352941177, 'squared_error = 0.0\\nsamples = 1\\nvalue = 23.0'),\n",
              " Text(0.37209302325581395, 0.14705882352941177, 'squared_error = -0.0\\nsamples = 1\\nvalue = 23.2'),\n",
              " Text(0.363479758828596, 0.3235294117647059, 'squared_error = -0.0\\nsamples = 1\\nvalue = 21.1'),\n",
              " Text(0.3350559862187769, 0.6764705882352942, 'displacement <= 0.77\\nsquared_error = 1.806\\nsamples = 6\\nvalue = 20.833'),\n",
              " Text(0.3281653746770026, 0.6176470588235294, 'displacement <= 0.338\\nsquared_error = 0.667\\nsamples = 3\\nvalue = 22.0'),\n",
              " Text(0.32472006890611543, 0.5588235294117647, 'squared_error = 0.0\\nsamples = 1\\nvalue = 23.0'),\n",
              " Text(0.33161068044788977, 0.5588235294117647, 'horsepower <= -0.682\\nsquared_error = 0.25\\nsamples = 2\\nvalue = 21.5'),\n",
              " Text(0.3281653746770026, 0.5, 'squared_error = 0.0\\nsamples = 1\\nvalue = 21.0'),\n",
              " Text(0.3350559862187769, 0.5, 'squared_error = 0.0\\nsamples = 1\\nvalue = 22.0'),\n",
              " Text(0.34194659776055125, 0.6176470588235294, 'weight <= 1.167\\nsquared_error = 0.222\\nsamples = 3\\nvalue = 19.667'),\n",
              " Text(0.3385012919896641, 0.5588235294117647, 'squared_error = 0.0\\nsamples = 1\\nvalue = 19.0'),\n",
              " Text(0.3453919035314384, 0.5588235294117647, 'squared_error = 0.0\\nsamples = 2\\nvalue = 20.0'),\n",
              " Text(0.37467700258397935, 0.7352941176470589, 'cylinders <= -0.5\\nsquared_error = 2.848\\nsamples = 9\\nvalue = 20.522'),\n",
              " Text(0.37123169681309215, 0.6764705882352942, 'displacement <= -1.388\\nsquared_error = 1.694\\nsamples = 8\\nvalue = 20.112'),\n",
              " Text(0.35917312661498707, 0.6176470588235294, 'cylinders <= -0.65\\nsquared_error = 0.817\\nsamples = 4\\nvalue = 19.325'),\n",
              " Text(0.35228251507321273, 0.5588235294117647, 'acceleration <= -0.952\\nsquared_error = 0.25\\nsamples = 2\\nvalue = 18.5'),\n",
              " Text(0.3488372093023256, 0.5, 'squared_error = 0.0\\nsamples = 1\\nvalue = 18.0'),\n",
              " Text(0.35572782084409993, 0.5, 'squared_error = 0.0\\nsamples = 1\\nvalue = 19.0'),\n",
              " Text(0.3660637381567614, 0.5588235294117647, 'displacement <= -1.604\\nsquared_error = 0.023\\nsamples = 2\\nvalue = 20.15'),\n",
              " Text(0.36261843238587427, 0.5, 'squared_error = 0.0\\nsamples = 1\\nvalue = 20.0'),\n",
              " Text(0.3695090439276486, 0.5, 'squared_error = 0.0\\nsamples = 1\\nvalue = 20.3'),\n",
              " Text(0.3832902670111972, 0.6176470588235294, 'weight <= 1.87\\nsquared_error = 1.33\\nsamples = 4\\nvalue = 20.9'),\n",
              " Text(0.3798449612403101, 0.5588235294117647, 'origin <= 0.951\\nsquared_error = 0.169\\nsamples = 3\\nvalue = 21.533'),\n",
              " Text(0.3763996554694229, 0.5, 'squared_error = 0.0\\nsamples = 1\\nvalue = 21.0'),\n",
              " Text(0.3832902670111972, 0.5, 'horsepower <= -0.121\\nsquared_error = 0.04\\nsamples = 2\\nvalue = 21.8'),\n",
              " Text(0.3798449612403101, 0.4411764705882353, 'squared_error = 0.0\\nsamples = 1\\nvalue = 21.6'),\n",
              " Text(0.3867355727820844, 0.4411764705882353, 'squared_error = 0.0\\nsamples = 1\\nvalue = 22.0'),\n",
              " Text(0.3867355727820844, 0.5588235294117647, 'squared_error = 0.0\\nsamples = 1\\nvalue = 19.0'),\n",
              " Text(0.3781223083548665, 0.6764705882352942, 'squared_error = -0.0\\nsamples = 1\\nvalue = 23.8'),\n",
              " Text(0.46953057708871665, 0.7941176470588235, 'cylinders <= -0.534\\nsquared_error = 19.962\\nsamples = 39\\nvalue = 29.474'),\n",
              " Text(0.4418604651162791, 0.7352941176470589, 'weight <= 2.411\\nsquared_error = 18.705\\nsamples = 20\\nvalue = 31.97'),\n",
              " Text(0.4384151593453919, 0.6764705882352942, 'mpg <= -1.145\\nsquared_error = 12.452\\nsamples = 19\\nvalue = 31.368'),\n",
              " Text(0.43496985357450474, 0.6176470588235294, 'squared_error = 0.0\\nsamples = 1\\nvalue = 23.7'),\n",
              " Text(0.4418604651162791, 0.6176470588235294, 'model year <= -0.067\\nsquared_error = 9.695\\nsamples = 18\\nvalue = 31.794'),\n",
              " Text(0.4142980189491817, 0.5588235294117647, 'horsepower <= -0.636\\nsquared_error = 8.439\\nsamples = 10\\nvalue = 30.35'),\n",
              " Text(0.4005167958656331, 0.5, 'origin <= -0.423\\nsquared_error = 5.152\\nsamples = 4\\nvalue = 32.975'),\n",
              " Text(0.39362618432385876, 0.4411764705882353, 'horsepower <= -0.709\\nsquared_error = 1.0\\nsamples = 2\\nvalue = 35.0'),\n",
              " Text(0.39018087855297157, 0.38235294117647056, 'squared_error = 0.0\\nsamples = 1\\nvalue = 36.0'),\n",
              " Text(0.3970714900947459, 0.38235294117647056, 'squared_error = 0.0\\nsamples = 1\\nvalue = 34.0'),\n",
              " Text(0.4074074074074074, 0.4411764705882353, 'origin <= -0.269\\nsquared_error = 1.102\\nsamples = 2\\nvalue = 30.95'),\n",
              " Text(0.40396210163652024, 0.38235294117647056, 'squared_error = 0.0\\nsamples = 1\\nvalue = 32.0'),\n",
              " Text(0.4108527131782946, 0.38235294117647056, 'squared_error = -0.0\\nsamples = 1\\nvalue = 29.9'),\n",
              " Text(0.4280792420327304, 0.5, 'origin <= -1.001\\nsquared_error = 2.973\\nsamples = 6\\nvalue = 28.6'),\n",
              " Text(0.42118863049095606, 0.4411764705882353, 'horsepower <= -0.42\\nsquared_error = 0.169\\nsamples = 3\\nvalue = 27.467'),\n",
              " Text(0.4177433247200689, 0.38235294117647056, 'squared_error = 0.0\\nsamples = 1\\nvalue = 28.0'),\n",
              " Text(0.42463393626184326, 0.38235294117647056, 'acceleration <= 1.201\\nsquared_error = 0.04\\nsamples = 2\\nvalue = 27.2'),\n",
              " Text(0.42118863049095606, 0.3235294117647059, 'squared_error = 0.0\\nsamples = 1\\nvalue = 27.4'),\n",
              " Text(0.4280792420327304, 0.3235294117647059, 'squared_error = -0.0\\nsamples = 1\\nvalue = 27.0'),\n",
              " Text(0.43496985357450474, 0.4411764705882353, 'weight <= 0.158\\nsquared_error = 3.209\\nsamples = 3\\nvalue = 29.733'),\n",
              " Text(0.4315245478036176, 0.38235294117647056, 'squared_error = 0.0\\nsamples = 1\\nvalue = 27.2'),\n",
              " Text(0.4384151593453919, 0.38235294117647056, 'horsepower <= -0.389\\nsquared_error = 0.0\\nsamples = 2\\nvalue = 31.0'),\n",
              " Text(0.43496985357450474, 0.3235294117647059, 'squared_error = 0.0\\nsamples = 1\\nvalue = 31.0'),\n",
              " Text(0.4418604651162791, 0.3235294117647059, 'squared_error = 0.0\\nsamples = 1\\nvalue = 31.0'),\n",
              " Text(0.4694229112833764, 0.5588235294117647, 'cylinders <= -0.626\\nsquared_error = 5.398\\nsamples = 8\\nvalue = 33.6'),\n",
              " Text(0.46597760551248923, 0.5, 'displacement <= 0.853\\nsquared_error = 3.811\\nsamples = 7\\nvalue = 34.143'),\n",
              " Text(0.4590869939707149, 0.4411764705882353, 'cylinders <= -0.699\\nsquared_error = 3.004\\nsamples = 5\\nvalue = 33.4'),\n",
              " Text(0.45564168819982775, 0.38235294117647056, 'displacement <= 0.571\\nsquared_error = 0.943\\nsamples = 4\\nvalue = 32.65'),\n",
              " Text(0.4487510766580534, 0.3235294117647059, 'weight <= 0.121\\nsquared_error = 0.302\\nsamples = 2\\nvalue = 33.45'),\n",
              " Text(0.4453057708871662, 0.2647058823529412, 'squared_error = 0.0\\nsamples = 1\\nvalue = 32.9'),\n",
              " Text(0.45219638242894056, 0.2647058823529412, 'squared_error = -0.0\\nsamples = 1\\nvalue = 34.0'),\n",
              " Text(0.4625322997416021, 0.3235294117647059, 'origin <= 0.786\\nsquared_error = 0.303\\nsamples = 2\\nvalue = 31.85'),\n",
              " Text(0.4590869939707149, 0.2647058823529412, 'squared_error = 0.0\\nsamples = 1\\nvalue = 31.3'),\n",
              " Text(0.46597760551248923, 0.2647058823529412, 'squared_error = -0.0\\nsamples = 1\\nvalue = 32.4'),\n",
              " Text(0.4625322997416021, 0.38235294117647056, 'squared_error = -0.0\\nsamples = 1\\nvalue = 36.4'),\n",
              " Text(0.4728682170542636, 0.4411764705882353, 'model year <= 1.192\\nsquared_error = 1.0\\nsamples = 2\\nvalue = 36.0'),\n",
              " Text(0.4694229112833764, 0.38235294117647056, 'squared_error = 0.0\\nsamples = 1\\nvalue = 35.0'),\n",
              " Text(0.4763135228251507, 0.38235294117647056, 'squared_error = 0.0\\nsamples = 1\\nvalue = 37.0'),\n",
              " Text(0.4728682170542636, 0.5, 'squared_error = -0.0\\nsamples = 1\\nvalue = 29.8'),\n",
              " Text(0.4453057708871662, 0.6764705882352942, 'squared_error = -0.0\\nsamples = 1\\nvalue = 43.4'),\n",
              " Text(0.49720068906115417, 0.7352941176470589, 'weight <= -0.51\\nsquared_error = 7.828\\nsamples = 19\\nvalue = 26.847'),\n",
              " Text(0.48320413436692505, 0.6764705882352942, 'cylinders <= -0.437\\nsquared_error = 0.562\\nsamples = 2\\nvalue = 32.75'),\n",
              " Text(0.4797588285960379, 0.6176470588235294, 'squared_error = 0.0\\nsamples = 1\\nvalue = 32.0'),\n",
              " Text(0.48664944013781225, 0.6176470588235294, 'squared_error = 0.0\\nsamples = 1\\nvalue = 33.5'),\n",
              " Text(0.5111972437553833, 0.6764705882352942, 'displacement <= 1.036\\nsquared_error = 4.101\\nsamples = 17\\nvalue = 26.153'),\n",
              " Text(0.4935400516795866, 0.6176470588235294, 'horsepower <= 0.325\\nsquared_error = 1.23\\nsamples = 6\\nvalue = 27.8'),\n",
              " Text(0.4900947459086994, 0.5588235294117647, 'horsepower <= -0.212\\nsquared_error = 0.314\\nsamples = 5\\nvalue = 27.36'),\n",
              " Text(0.48320413436692505, 0.5, 'cylinders <= -0.456\\nsquared_error = 0.04\\nsamples = 2\\nvalue = 26.8'),\n",
              " Text(0.4797588285960379, 0.4411764705882353, 'squared_error = 0.0\\nsamples = 1\\nvalue = 27.0'),\n",
              " Text(0.48664944013781225, 0.4411764705882353, 'squared_error = -0.0\\nsamples = 1\\nvalue = 26.6'),\n",
              " Text(0.49698535745047373, 0.5, 'acceleration <= 0.932\\nsquared_error = 0.149\\nsamples = 3\\nvalue = 27.733'),\n",
              " Text(0.4935400516795866, 0.4411764705882353, 'squared_error = 0.0\\nsamples = 1\\nvalue = 27.2'),\n",
              " Text(0.5004306632213609, 0.4411764705882353, 'horsepower <= 0.053\\nsquared_error = 0.01\\nsamples = 2\\nvalue = 28.0'),\n",
              " Text(0.49698535745047373, 0.38235294117647056, 'squared_error = 0.0\\nsamples = 1\\nvalue = 27.9'),\n",
              " Text(0.5038759689922481, 0.38235294117647056, 'squared_error = -0.0\\nsamples = 1\\nvalue = 28.1'),\n",
              " Text(0.49698535745047373, 0.5588235294117647, 'squared_error = 0.0\\nsamples = 1\\nvalue = 30.0'),\n",
              " Text(0.52885443583118, 0.6176470588235294, 'horsepower <= -0.206\\nsquared_error = 3.381\\nsamples = 11\\nvalue = 25.255'),\n",
              " Text(0.5142118863049095, 0.5588235294117647, 'acceleration <= 1.066\\nsquared_error = 1.06\\nsamples = 4\\nvalue = 26.8'),\n",
              " Text(0.5107665805340224, 0.5, 'squared_error = 0.0\\nsamples = 1\\nvalue = 28.4'),\n",
              " Text(0.5176571920757967, 0.5, 'weight <= 0.266\\nsquared_error = 0.276\\nsamples = 3\\nvalue = 26.267'),\n",
              " Text(0.5142118863049095, 0.4411764705882353, 'acceleration <= 1.47\\nsquared_error = 0.01\\nsamples = 2\\nvalue = 25.9'),\n",
              " Text(0.5107665805340224, 0.38235294117647056, 'squared_error = 0.0\\nsamples = 1\\nvalue = 25.8'),\n",
              " Text(0.5176571920757967, 0.38235294117647056, 'squared_error = 0.0\\nsamples = 1\\nvalue = 26.0'),\n",
              " Text(0.5211024978466839, 0.4411764705882353, 'squared_error = 0.0\\nsamples = 1\\nvalue = 27.0'),\n",
              " Text(0.5434969853574505, 0.5588235294117647, 'origin <= -0.148\\nsquared_error = 2.562\\nsamples = 7\\nvalue = 24.371'),\n",
              " Text(0.5348837209302325, 0.5, 'horsepower <= 0.007\\nsquared_error = 2.582\\nsamples = 4\\nvalue = 25.175'),\n",
              " Text(0.5279931093884582, 0.4411764705882353, 'horsepower <= -0.073\\nsquared_error = 0.09\\nsamples = 2\\nvalue = 26.7'),\n",
              " Text(0.524547803617571, 0.38235294117647056, 'squared_error = 0.0\\nsamples = 1\\nvalue = 26.4'),\n",
              " Text(0.5314384151593454, 0.38235294117647056, 'squared_error = 0.0\\nsamples = 1\\nvalue = 27.0'),\n",
              " Text(0.5417743324720069, 0.4411764705882353, 'acceleration <= 1.335\\nsquared_error = 0.422\\nsamples = 2\\nvalue = 23.65'),\n",
              " Text(0.5383290267011197, 0.38235294117647056, 'squared_error = 0.0\\nsamples = 1\\nvalue = 24.3'),\n",
              " Text(0.5452196382428941, 0.38235294117647056, 'squared_error = 0.0\\nsamples = 1\\nvalue = 23.0'),\n",
              " Text(0.5521102497846684, 0.5, 'displacement <= 1.135\\nsquared_error = 0.527\\nsamples = 3\\nvalue = 23.3'),\n",
              " Text(0.5486649440137812, 0.4411764705882353, 'squared_error = 0.0\\nsamples = 1\\nvalue = 22.3'),\n",
              " Text(0.5555555555555556, 0.4411764705882353, 'weight <= -0.059\\nsquared_error = 0.04\\nsamples = 2\\nvalue = 23.8'),\n",
              " Text(0.5521102497846684, 0.38235294117647056, 'squared_error = 0.0\\nsamples = 1\\nvalue = 23.6'),\n",
              " Text(0.5590008613264428, 0.38235294117647056, 'squared_error = 0.0\\nsamples = 1\\nvalue = 24.0'),\n",
              " Text(0.7997954349698536, 0.9117647058823529, 'cylinders <= 0.893\\nsquared_error = 15.91\\nsamples = 149\\nvalue = 17.115'),\n",
              " Text(0.6873385012919897, 0.8529411764705882, 'acceleration <= 0.663\\nsquared_error = 13.633\\nsamples = 73\\nvalue = 19.885'),\n",
              " Text(0.6171403962101637, 0.7941176470588235, 'horsepower <= 0.17\\nsquared_error = 4.289\\nsamples = 56\\nvalue = 18.716'),\n",
              " Text(0.5770887166236004, 0.7352941176470589, 'origin <= -1.402\\nsquared_error = 2.886\\nsamples = 19\\nvalue = 20.211'),\n",
              " Text(0.5624461670973299, 0.6764705882352942, 'acceleration <= -0.683\\nsquared_error = 0.531\\nsamples = 7\\nvalue = 18.571'),\n",
              " Text(0.5555555555555556, 0.6176470588235294, 'horsepower <= -0.321\\nsquared_error = 0.16\\nsamples = 5\\nvalue = 18.2'),\n",
              " Text(0.5521102497846684, 0.5588235294117647, 'squared_error = 0.0\\nsamples = 1\\nvalue = 19.0'),\n",
              " Text(0.5590008613264428, 0.5588235294117647, 'squared_error = 0.0\\nsamples = 4\\nvalue = 18.0'),\n",
              " Text(0.5693367786391043, 0.6176470588235294, 'origin <= -1.556\\nsquared_error = 0.25\\nsamples = 2\\nvalue = 19.5'),\n",
              " Text(0.5658914728682171, 0.5588235294117647, 'squared_error = 0.0\\nsamples = 1\\nvalue = 20.0'),\n",
              " Text(0.5727820844099913, 0.5588235294117647, 'squared_error = 0.0\\nsamples = 1\\nvalue = 19.0'),\n",
              " Text(0.5917312661498708, 0.6764705882352942, 'weight <= 0.644\\nsquared_error = 1.779\\nsamples = 12\\nvalue = 21.167'),\n",
              " Text(0.5882859603789836, 0.6176470588235294, 'origin <= 1.089\\nsquared_error = 1.144\\nsamples = 11\\nvalue = 20.909'),\n",
              " Text(0.5796726959517657, 0.5588235294117647, 'horsepower <= -0.044\\nsquared_error = 0.804\\nsamples = 9\\nvalue = 21.222'),\n",
              " Text(0.5727820844099913, 0.5, 'horsepower <= -0.098\\nsquared_error = 0.56\\nsamples = 5\\nvalue = 21.8'),\n",
              " Text(0.5693367786391043, 0.4411764705882353, 'model year <= 0.562\\nsquared_error = 0.25\\nsamples = 4\\nvalue = 21.5'),\n",
              " Text(0.5658914728682171, 0.38235294117647056, 'origin <= 0.605\\nsquared_error = 0.222\\nsamples = 3\\nvalue = 21.333'),\n",
              " Text(0.5624461670973299, 0.3235294117647059, 'squared_error = 0.0\\nsamples = 2\\nvalue = 21.0'),\n",
              " Text(0.5693367786391043, 0.3235294117647059, 'squared_error = 0.0\\nsamples = 1\\nvalue = 22.0'),\n",
              " Text(0.5727820844099913, 0.38235294117647056, 'squared_error = 0.0\\nsamples = 1\\nvalue = 22.0'),\n",
              " Text(0.5762273901808785, 0.4411764705882353, 'squared_error = 0.0\\nsamples = 1\\nvalue = 23.0'),\n",
              " Text(0.58656330749354, 0.5, 'origin <= -0.709\\nsquared_error = 0.17\\nsamples = 4\\nvalue = 20.5'),\n",
              " Text(0.5831180017226529, 0.4411764705882353, 'squared_error = 0.0\\nsamples = 1\\nvalue = 21.0'),\n",
              " Text(0.5900086132644272, 0.4411764705882353, 'weight <= 0.392\\nsquared_error = 0.116\\nsamples = 3\\nvalue = 20.333'),\n",
              " Text(0.58656330749354, 0.38235294117647056, 'horsepower <= 0.076\\nsquared_error = 0.01\\nsamples = 2\\nvalue = 20.1'),\n",
              " Text(0.5831180017226529, 0.3235294117647059, 'squared_error = 0.0\\nsamples = 1\\nvalue = 20.2'),\n",
              " Text(0.5900086132644272, 0.3235294117647059, 'squared_error = -0.0\\nsamples = 1\\nvalue = 20.0'),\n",
              " Text(0.5934539190353144, 0.38235294117647056, 'squared_error = 0.0\\nsamples = 1\\nvalue = 20.8'),\n",
              " Text(0.5968992248062015, 0.5588235294117647, 'displacement <= -1.372\\nsquared_error = 0.25\\nsamples = 2\\nvalue = 19.5'),\n",
              " Text(0.5934539190353144, 0.5, 'squared_error = 0.0\\nsamples = 1\\nvalue = 19.0'),\n",
              " Text(0.6003445305770887, 0.5, 'squared_error = 0.0\\nsamples = 1\\nvalue = 20.0'),\n",
              " Text(0.595176571920758, 0.6176470588235294, 'squared_error = 0.0\\nsamples = 1\\nvalue = 24.0'),\n",
              " Text(0.657192075796727, 0.7352941176470589, 'acceleration <= -0.145\\nsquared_error = 3.273\\nsamples = 37\\nvalue = 17.949'),\n",
              " Text(0.6347975882859603, 0.6764705882352942, 'weight <= 0.446\\nsquared_error = 2.39\\nsamples = 20\\nvalue = 17.1'),\n",
              " Text(0.6210163652024118, 0.6176470588235294, 'horsepower <= 0.416\\nsquared_error = 1.058\\nsamples = 11\\nvalue = 18.182'),\n",
              " Text(0.6106804478897502, 0.5588235294117647, 'weight <= -0.546\\nsquared_error = 0.49\\nsamples = 7\\nvalue = 18.714'),\n",
              " Text(0.6072351421188631, 0.5, 'squared_error = 0.0\\nsamples = 1\\nvalue = 20.0'),\n",
              " Text(0.6141257536606374, 0.5, 'origin <= 0.083\\nsquared_error = 0.25\\nsamples = 6\\nvalue = 18.5'),\n",
              " Text(0.6106804478897502, 0.4411764705882353, 'squared_error = 0.0\\nsamples = 2\\nvalue = 18.0'),\n",
              " Text(0.6175710594315246, 0.4411764705882353, 'weight <= 0.266\\nsquared_error = 0.188\\nsamples = 4\\nvalue = 18.75'),\n",
              " Text(0.6141257536606374, 0.38235294117647056, 'squared_error = 0.0\\nsamples = 3\\nvalue = 19.0'),\n",
              " Text(0.6210163652024118, 0.38235294117647056, 'squared_error = 0.0\\nsamples = 1\\nvalue = 18.0'),\n",
              " Text(0.6313522825150732, 0.5588235294117647, 'weight <= 0.085\\nsquared_error = 0.688\\nsamples = 4\\nvalue = 17.25'),\n",
              " Text(0.627906976744186, 0.5, 'cylinders <= 0.437\\nsquared_error = 0.25\\nsamples = 2\\nvalue = 16.5'),\n",
              " Text(0.6244616709732989, 0.4411764705882353, 'squared_error = 0.0\\nsamples = 1\\nvalue = 16.0'),\n",
              " Text(0.6313522825150732, 0.4411764705882353, 'squared_error = 0.0\\nsamples = 1\\nvalue = 17.0'),\n",
              " Text(0.6347975882859603, 0.5, 'squared_error = 0.0\\nsamples = 2\\nvalue = 18.0'),\n",
              " Text(0.648578811369509, 0.6176470588235294, 'origin <= 0.643\\nsquared_error = 0.84\\nsamples = 9\\nvalue = 15.778'),\n",
              " Text(0.6451335055986219, 0.5588235294117647, 'weight <= 1.167\\nsquared_error = 0.25\\nsamples = 8\\nvalue = 15.5'),\n",
              " Text(0.6416881998277347, 0.5, 'weight <= 0.716\\nsquared_error = 0.16\\nsamples = 5\\nvalue = 15.8'),\n",
              " Text(0.6382428940568475, 0.4411764705882353, 'horsepower <= 0.708\\nsquared_error = 0.25\\nsamples = 2\\nvalue = 15.5'),\n",
              " Text(0.6347975882859603, 0.38235294117647056, 'squared_error = 0.0\\nsamples = 1\\nvalue = 15.0'),\n",
              " Text(0.6416881998277347, 0.38235294117647056, 'squared_error = 0.0\\nsamples = 1\\nvalue = 16.0'),\n",
              " Text(0.6451335055986219, 0.4411764705882353, 'squared_error = 0.0\\nsamples = 3\\nvalue = 16.0'),\n",
              " Text(0.648578811369509, 0.5, 'squared_error = 0.0\\nsamples = 3\\nvalue = 15.0'),\n",
              " Text(0.6520241171403962, 0.5588235294117647, 'squared_error = 0.0\\nsamples = 1\\nvalue = 18.0'),\n",
              " Text(0.6795865633074936, 0.6764705882352942, 'cylinders <= -0.083\\nsquared_error = 2.468\\nsamples = 17\\nvalue = 18.947'),\n",
              " Text(0.6623600344530577, 0.6176470588235294, 'weight <= -0.293\\nsquared_error = 0.109\\nsamples = 3\\nvalue = 16.567'),\n",
              " Text(0.6589147286821705, 0.5588235294117647, 'squared_error = 0.0\\nsamples = 1\\nvalue = 17.0'),\n",
              " Text(0.6658053402239449, 0.5588235294117647, 'acceleration <= 0.259\\nsquared_error = 0.022\\nsamples = 2\\nvalue = 16.35'),\n",
              " Text(0.6623600344530577, 0.5, 'squared_error = 0.0\\nsamples = 1\\nvalue = 16.5'),\n",
              " Text(0.6692506459948321, 0.5, 'squared_error = -0.0\\nsamples = 1\\nvalue = 16.2'),\n",
              " Text(0.6968130921619293, 0.6176470588235294, 'horsepower <= 0.563\\nsquared_error = 1.5\\nsamples = 14\\nvalue = 19.457'),\n",
              " Text(0.6830318690783808, 0.5588235294117647, 'origin <= -1.413\\nsquared_error = 1.454\\nsamples = 8\\nvalue = 20.112'),\n",
              " Text(0.6761412575366064, 0.5, 'acceleration <= 0.259\\nsquared_error = 0.902\\nsamples = 2\\nvalue = 18.45'),\n",
              " Text(0.6726959517657192, 0.4411764705882353, 'squared_error = 0.0\\nsamples = 1\\nvalue = 17.5'),\n",
              " Text(0.6795865633074936, 0.4411764705882353, 'squared_error = -0.0\\nsamples = 1\\nvalue = 19.4'),\n",
              " Text(0.689922480620155, 0.5, 'weight <= -0.023\\nsquared_error = 0.409\\nsamples = 6\\nvalue = 20.667'),\n",
              " Text(0.6864771748492678, 0.4411764705882353, 'squared_error = 0.0\\nsamples = 1\\nvalue = 22.0'),\n",
              " Text(0.6933677863910422, 0.4411764705882353, 'mpg <= 0.934\\nsquared_error = 0.064\\nsamples = 5\\nvalue = 20.4'),\n",
              " Text(0.689922480620155, 0.38235294117647056, 'origin <= -1.292\\nsquared_error = 0.002\\nsamples = 4\\nvalue = 20.525'),\n",
              " Text(0.6864771748492678, 0.3235294117647059, 'squared_error = 0.0\\nsamples = 1\\nvalue = 20.6'),\n",
              " Text(0.6933677863910422, 0.3235294117647059, 'origin <= -1.144\\nsquared_error = 0.0\\nsamples = 3\\nvalue = 20.5'),\n",
              " Text(0.689922480620155, 0.2647058823529412, 'squared_error = 0.0\\nsamples = 1\\nvalue = 20.5'),\n",
              " Text(0.6968130921619293, 0.2647058823529412, 'squared_error = 0.0\\nsamples = 2\\nvalue = 20.5'),\n",
              " Text(0.6968130921619293, 0.38235294117647056, 'squared_error = -0.0\\nsamples = 1\\nvalue = 19.9'),\n",
              " Text(0.710594315245478, 0.5588235294117647, 'horsepower <= 0.62\\nsquared_error = 0.225\\nsamples = 6\\nvalue = 18.583'),\n",
              " Text(0.7071490094745909, 0.5, 'squared_error = 0.0\\nsamples = 1\\nvalue = 17.7'),\n",
              " Text(0.7140396210163652, 0.5, 'displacement <= -1.505\\nsquared_error = 0.082\\nsamples = 5\\nvalue = 18.76'),\n",
              " Text(0.7071490094745909, 0.4411764705882353, 'horsepower <= 0.737\\nsquared_error = 0.01\\nsamples = 2\\nvalue = 19.1'),\n",
              " Text(0.7037037037037037, 0.38235294117647056, 'squared_error = 0.0\\nsamples = 1\\nvalue = 19.2'),\n",
              " Text(0.710594315245478, 0.38235294117647056, 'squared_error = -0.0\\nsamples = 1\\nvalue = 19.0'),\n",
              " Text(0.7209302325581395, 0.4411764705882353, 'acceleration <= 0.393\\nsquared_error = 0.002\\nsamples = 3\\nvalue = 18.533'),\n",
              " Text(0.7174849267872524, 0.38235294117647056, 'squared_error = 0.0\\nsamples = 2\\nvalue = 18.5'),\n",
              " Text(0.7243755383290267, 0.38235294117647056, 'squared_error = 0.0\\nsamples = 1\\nvalue = 18.6'),\n",
              " Text(0.7575366063738157, 0.7941176470588235, 'origin <= 0.539\\nsquared_error = 25.087\\nsamples = 17\\nvalue = 23.735'),\n",
              " Text(0.7390180878552972, 0.7352941176470589, 'cylinders <= -0.02\\nsquared_error = 8.499\\nsamples = 13\\nvalue = 21.738'),\n",
              " Text(0.7243755383290267, 0.6764705882352942, 'acceleration <= 1.066\\nsquared_error = 4.192\\nsamples = 4\\nvalue = 25.375'),\n",
              " Text(0.7209302325581395, 0.6176470588235294, 'squared_error = 0.0\\nsamples = 1\\nvalue = 28.8'),\n",
              " Text(0.7278208440999139, 0.6176470588235294, 'cylinders <= -0.151\\nsquared_error = 0.376\\nsamples = 3\\nvalue = 24.233'),\n",
              " Text(0.7243755383290267, 0.5588235294117647, 'weight <= -0.834\\nsquared_error = 0.122\\nsamples = 2\\nvalue = 23.85'),\n",
              " Text(0.7209302325581395, 0.5, 'squared_error = 0.0\\nsamples = 1\\nvalue = 23.5'),\n",
              " Text(0.7278208440999139, 0.5, 'squared_error = -0.0\\nsamples = 1\\nvalue = 24.2'),\n",
              " Text(0.7312661498708011, 0.5588235294117647, 'squared_error = 0.0\\nsamples = 1\\nvalue = 25.0'),\n",
              " Text(0.7536606373815676, 0.6764705882352942, 'displacement <= -1.322\\nsquared_error = 1.924\\nsamples = 9\\nvalue = 20.122'),\n",
              " Text(0.7416020671834626, 0.6176470588235294, 'acceleration <= 1.066\\nsquared_error = 0.596\\nsamples = 3\\nvalue = 21.667'),\n",
              " Text(0.7381567614125754, 0.5588235294117647, 'squared_error = 0.0\\nsamples = 1\\nvalue = 20.6'),\n",
              " Text(0.7450473729543498, 0.5588235294117647, 'acceleration <= 1.47\\nsquared_error = 0.04\\nsamples = 2\\nvalue = 22.2'),\n",
              " Text(0.7416020671834626, 0.5, 'squared_error = 0.0\\nsamples = 1\\nvalue = 22.4'),\n",
              " Text(0.7484926787252368, 0.5, 'squared_error = 0.0\\nsamples = 1\\nvalue = 22.0'),\n",
              " Text(0.7657192075796727, 0.6176470588235294, 'horsepower <= 0.425\\nsquared_error = 0.799\\nsamples = 6\\nvalue = 19.35'),\n",
              " Text(0.7588285960378983, 0.5588235294117647, 'displacement <= 1.019\\nsquared_error = 0.036\\nsamples = 3\\nvalue = 20.067'),\n",
              " Text(0.7553832902670112, 0.5, 'squared_error = 0.0\\nsamples = 1\\nvalue = 19.8'),\n",
              " Text(0.7622739018087855, 0.5, 'squared_error = -0.0\\nsamples = 2\\nvalue = 20.2'),\n",
              " Text(0.772609819121447, 0.5588235294117647, 'acceleration <= 1.201\\nsquared_error = 0.536\\nsamples = 3\\nvalue = 18.633'),\n",
              " Text(0.7691645133505599, 0.5, 'acceleration <= 0.932\\nsquared_error = 0.002\\nsamples = 2\\nvalue = 19.15'),\n",
              " Text(0.7657192075796727, 0.4411764705882353, 'squared_error = 0.0\\nsamples = 1\\nvalue = 19.2'),\n",
              " Text(0.772609819121447, 0.4411764705882353, 'squared_error = 0.0\\nsamples = 1\\nvalue = 19.1'),\n",
              " Text(0.7760551248923342, 0.5, 'squared_error = -0.0\\nsamples = 1\\nvalue = 17.6'),\n",
              " Text(0.7760551248923342, 0.7352941176470589, 'origin <= 0.583\\nsquared_error = 23.922\\nsamples = 4\\nvalue = 30.225'),\n",
              " Text(0.772609819121447, 0.6764705882352942, 'squared_error = 0.0\\nsamples = 1\\nvalue = 38.0'),\n",
              " Text(0.7795004306632214, 0.6764705882352942, 'cylinders <= -0.35\\nsquared_error = 5.029\\nsamples = 3\\nvalue = 27.633'),\n",
              " Text(0.7760551248923342, 0.6176470588235294, 'squared_error = 0.0\\nsamples = 1\\nvalue = 30.7'),\n",
              " Text(0.7829457364341085, 0.6176470588235294, 'cylinders <= -0.214\\nsquared_error = 0.49\\nsamples = 2\\nvalue = 26.1'),\n",
              " Text(0.7795004306632214, 0.5588235294117647, 'squared_error = 0.0\\nsamples = 1\\nvalue = 25.4'),\n",
              " Text(0.7863910422049957, 0.5588235294117647, 'squared_error = -0.0\\nsamples = 1\\nvalue = 26.8'),\n",
              " Text(0.9122523686477175, 0.8529411764705882, 'acceleration <= 0.124\\nsquared_error = 3.654\\nsamples = 76\\nvalue = 14.455'),\n",
              " Text(0.8667097329888027, 0.7941176470588235, 'horsepower <= 1.672\\nsquared_error = 2.55\\nsamples = 61\\nvalue = 13.893'),\n",
              " Text(0.8260120585701981, 0.7352941176470589, 'acceleration <= -1.49\\nsquared_error = 2.105\\nsamples = 39\\nvalue = 14.397'),\n",
              " Text(0.8070628768303187, 0.6764705882352942, 'cylinders <= 1.271\\nsquared_error = 1.471\\nsamples = 11\\nvalue = 15.273'),\n",
              " Text(0.7967269595176572, 0.6176470588235294, 'horsepower <= 0.567\\nsquared_error = 0.667\\nsamples = 3\\nvalue = 17.0'),\n",
              " Text(0.7932816537467701, 0.5588235294117647, 'squared_error = 0.0\\nsamples = 1\\nvalue = 16.0'),\n",
              " Text(0.8001722652885443, 0.5588235294117647, 'horsepower <= 0.61\\nsquared_error = 0.25\\nsamples = 2\\nvalue = 17.5'),\n",
              " Text(0.7967269595176572, 0.5, 'squared_error = 0.0\\nsamples = 1\\nvalue = 17.0'),\n",
              " Text(0.8036175710594315, 0.5, 'squared_error = 0.0\\nsamples = 1\\nvalue = 18.0'),\n",
              " Text(0.8173987941429802, 0.6176470588235294, 'cylinders <= 2.416\\nsquared_error = 0.234\\nsamples = 8\\nvalue = 14.625'),\n",
              " Text(0.813953488372093, 0.5588235294117647, 'weight <= -2.619\\nsquared_error = 0.139\\nsamples = 6\\nvalue = 14.833'),\n",
              " Text(0.8105081826012058, 0.5, 'squared_error = 0.0\\nsamples = 1\\nvalue = 14.0'),\n",
              " Text(0.8173987941429802, 0.5, 'squared_error = 0.0\\nsamples = 5\\nvalue = 15.0'),\n",
              " Text(0.8208440999138673, 0.5588235294117647, 'squared_error = 0.0\\nsamples = 2\\nvalue = 14.0'),\n",
              " Text(0.8449612403100775, 0.6764705882352942, 'cylinders <= 1.101\\nsquared_error = 1.935\\nsamples = 28\\nvalue = 14.054'),\n",
              " Text(0.8311800172265289, 0.6176470588235294, 'cylinders <= 1.087\\nsquared_error = 2.502\\nsamples = 10\\nvalue = 14.65'),\n",
              " Text(0.8277347114556417, 0.5588235294117647, 'origin <= -1.573\\nsquared_error = 1.778\\nsamples = 9\\nvalue = 14.333'),\n",
              " Text(0.8242894056847545, 0.5, 'squared_error = 0.0\\nsamples = 1\\nvalue = 17.0'),\n",
              " Text(0.8311800172265289, 0.5, 'acceleration <= -0.414\\nsquared_error = 1.0\\nsamples = 8\\nvalue = 14.0'),\n",
              " Text(0.8277347114556417, 0.4411764705882353, 'weight <= -0.456\\nsquared_error = 0.889\\nsamples = 6\\nvalue = 14.333'),\n",
              " Text(0.8208440999138673, 0.38235294117647056, 'horsepower <= 0.978\\nsquared_error = 0.667\\nsamples = 3\\nvalue = 15.0'),\n",
              " Text(0.8173987941429802, 0.3235294117647059, 'squared_error = 0.0\\nsamples = 1\\nvalue = 14.0'),\n",
              " Text(0.8242894056847545, 0.3235294117647059, 'acceleration <= -0.817\\nsquared_error = 0.25\\nsamples = 2\\nvalue = 15.5'),\n",
              " Text(0.8208440999138673, 0.2647058823529412, 'squared_error = 0.0\\nsamples = 1\\nvalue = 15.0'),\n",
              " Text(0.8277347114556417, 0.2647058823529412, 'squared_error = 0.0\\nsamples = 1\\nvalue = 16.0'),\n",
              " Text(0.834625322997416, 0.38235294117647056, 'acceleration <= -0.952\\nsquared_error = 0.222\\nsamples = 3\\nvalue = 13.667'),\n",
              " Text(0.8311800172265289, 0.3235294117647059, 'squared_error = 0.0\\nsamples = 1\\nvalue = 13.0'),\n",
              " Text(0.8380706287683032, 0.3235294117647059, 'squared_error = 0.0\\nsamples = 2\\nvalue = 14.0'),\n",
              " Text(0.834625322997416, 0.4411764705882353, 'squared_error = 0.0\\nsamples = 2\\nvalue = 13.0'),\n",
              " Text(0.834625322997416, 0.5588235294117647, 'squared_error = 0.0\\nsamples = 1\\nvalue = 17.5'),\n",
              " Text(0.8587424633936261, 0.6176470588235294, 'cylinders <= 1.819\\nsquared_error = 1.312\\nsamples = 18\\nvalue = 13.722'),\n",
              " Text(0.8552971576227391, 0.5588235294117647, 'displacement <= -0.442\\nsquared_error = 1.066\\nsamples = 17\\nvalue = 13.588'),\n",
              " Text(0.8518518518518519, 0.5, 'origin <= -1.012\\nsquared_error = 0.688\\nsamples = 16\\nvalue = 13.75'),\n",
              " Text(0.8449612403100775, 0.4411764705882353, 'acceleration <= -1.221\\nsquared_error = 0.139\\nsamples = 6\\nvalue = 13.167'),\n",
              " Text(0.8415159345391904, 0.38235294117647056, 'squared_error = 0.0\\nsamples = 1\\nvalue = 14.0'),\n",
              " Text(0.8484065460809647, 0.38235294117647056, 'squared_error = 0.0\\nsamples = 5\\nvalue = 13.0'),\n",
              " Text(0.8587424633936261, 0.4411764705882353, 'acceleration <= -0.414\\nsquared_error = 0.69\\nsamples = 10\\nvalue = 14.1'),\n",
              " Text(0.8552971576227391, 0.38235294117647056, 'origin <= -0.242\\nsquared_error = 0.245\\nsamples = 7\\nvalue = 14.571'),\n",
              " Text(0.8518518518518519, 0.3235294117647059, 'squared_error = 0.0\\nsamples = 3\\nvalue = 15.0'),\n",
              " Text(0.8587424633936261, 0.3235294117647059, 'origin <= 0.808\\nsquared_error = 0.188\\nsamples = 4\\nvalue = 14.25'),\n",
              " Text(0.8552971576227391, 0.2647058823529412, 'squared_error = 0.0\\nsamples = 2\\nvalue = 14.0'),\n",
              " Text(0.8621877691645133, 0.2647058823529412, 'horsepower <= 1.368\\nsquared_error = 0.25\\nsamples = 2\\nvalue = 14.5'),\n",
              " Text(0.8587424633936261, 0.20588235294117646, 'squared_error = 0.0\\nsamples = 1\\nvalue = 14.0'),\n",
              " Text(0.8656330749354005, 0.20588235294117646, 'squared_error = 0.0\\nsamples = 1\\nvalue = 15.0'),\n",
              " Text(0.8621877691645133, 0.38235294117647056, 'squared_error = 0.0\\nsamples = 3\\nvalue = 13.0'),\n",
              " Text(0.8587424633936261, 0.5, 'squared_error = 0.0\\nsamples = 1\\nvalue = 11.0'),\n",
              " Text(0.8621877691645133, 0.5588235294117647, 'squared_error = 0.0\\nsamples = 1\\nvalue = 16.0'),\n",
              " Text(0.9074074074074074, 0.7352941176470589, 'acceleration <= -0.414\\nsquared_error = 2.091\\nsamples = 22\\nvalue = 13.0'),\n",
              " Text(0.8940568475452196, 0.6764705882352942, 'origin <= -0.225\\nsquared_error = 1.285\\nsamples = 19\\nvalue = 12.632'),\n",
              " Text(0.8776916451335056, 0.6176470588235294, 'acceleration <= -1.49\\nsquared_error = 1.333\\nsamples = 9\\nvalue = 12.0'),\n",
              " Text(0.8690783807062877, 0.5588235294117647, 'weight <= -0.456\\nsquared_error = 0.25\\nsamples = 2\\nvalue = 10.5'),\n",
              " Text(0.8656330749354005, 0.5, 'squared_error = 0.0\\nsamples = 1\\nvalue = 11.0'),\n",
              " Text(0.8725236864771748, 0.5, 'squared_error = 0.0\\nsamples = 1\\nvalue = 10.0'),\n",
              " Text(0.8863049095607235, 0.5588235294117647, 'horsepower <= 2.207\\nsquared_error = 0.816\\nsamples = 7\\nvalue = 12.429'),\n",
              " Text(0.8794142980189492, 0.5, 'horsepower <= 1.795\\nsquared_error = 0.222\\nsamples = 3\\nvalue = 13.333'),\n",
              " Text(0.875968992248062, 0.4411764705882353, 'squared_error = 0.0\\nsamples = 1\\nvalue = 14.0'),\n",
              " Text(0.8828596037898363, 0.4411764705882353, 'squared_error = 0.0\\nsamples = 2\\nvalue = 13.0'),\n",
              " Text(0.8931955211024979, 0.5, 'weight <= -0.816\\nsquared_error = 0.188\\nsamples = 4\\nvalue = 11.75'),\n",
              " Text(0.8897502153316107, 0.4411764705882353, 'squared_error = 0.0\\nsamples = 3\\nvalue = 12.0'),\n",
              " Text(0.896640826873385, 0.4411764705882353, 'squared_error = 0.0\\nsamples = 1\\nvalue = 11.0'),\n",
              " Text(0.9104220499569337, 0.6176470588235294, 'horsepower <= 1.821\\nsquared_error = 0.56\\nsamples = 10\\nvalue = 13.2'),\n",
              " Text(0.9035314384151594, 0.5588235294117647, 'acceleration <= -0.952\\nsquared_error = 0.188\\nsamples = 4\\nvalue = 13.75'),\n",
              " Text(0.9000861326442722, 0.5, 'squared_error = 0.0\\nsamples = 3\\nvalue = 14.0'),\n",
              " Text(0.9069767441860465, 0.5, 'squared_error = 0.0\\nsamples = 1\\nvalue = 13.0'),\n",
              " Text(0.917312661498708, 0.5588235294117647, 'displacement <= -0.442\\nsquared_error = 0.472\\nsamples = 6\\nvalue = 12.833'),\n",
              " Text(0.9138673557278209, 0.5, 'acceleration <= -0.683\\nsquared_error = 0.188\\nsamples = 4\\nvalue = 13.25'),\n",
              " Text(0.9104220499569337, 0.4411764705882353, 'squared_error = 0.0\\nsamples = 3\\nvalue = 13.0'),\n",
              " Text(0.917312661498708, 0.4411764705882353, 'squared_error = 0.0\\nsamples = 1\\nvalue = 14.0'),\n",
              " Text(0.9207579672695951, 0.5, 'squared_error = 0.0\\nsamples = 2\\nvalue = 12.0'),\n",
              " Text(0.9207579672695951, 0.6764705882352942, 'displacement <= -0.791\\nsquared_error = 0.889\\nsamples = 3\\nvalue = 15.333'),\n",
              " Text(0.917312661498708, 0.6176470588235294, 'squared_error = 0.0\\nsamples = 1\\nvalue = 14.0'),\n",
              " Text(0.9242032730404823, 0.6176470588235294, 'squared_error = 0.0\\nsamples = 2\\nvalue = 16.0'),\n",
              " Text(0.9577950043066322, 0.7941176470588235, 'horsepower <= 1.177\\nsquared_error = 1.637\\nsamples = 15\\nvalue = 16.74'),\n",
              " Text(0.9414298018949182, 0.7352941176470589, 'cylinders <= 1.155\\nsquared_error = 0.474\\nsamples = 5\\nvalue = 18.24'),\n",
              " Text(0.9345391903531438, 0.6764705882352942, 'weight <= -0.924\\nsquared_error = 0.002\\nsamples = 2\\nvalue = 17.55'),\n",
              " Text(0.9310938845822567, 0.6176470588235294, 'squared_error = 0.0\\nsamples = 1\\nvalue = 17.5'),\n",
              " Text(0.937984496124031, 0.6176470588235294, 'squared_error = -0.0\\nsamples = 1\\nvalue = 17.6'),\n",
              " Text(0.9483204134366925, 0.6764705882352942, 'acceleration <= 0.663\\nsquared_error = 0.26\\nsamples = 3\\nvalue = 18.7'),\n",
              " Text(0.9448751076658053, 0.6176470588235294, 'squared_error = 0.0\\nsamples = 1\\nvalue = 19.4'),\n",
              " Text(0.9517657192075797, 0.6176470588235294, 'origin <= -0.577\\nsquared_error = 0.023\\nsamples = 2\\nvalue = 18.35'),\n",
              " Text(0.9483204134366925, 0.5588235294117647, 'squared_error = 0.0\\nsamples = 1\\nvalue = 18.5'),\n",
              " Text(0.9552110249784669, 0.5588235294117647, 'squared_error = -0.0\\nsamples = 1\\nvalue = 18.2'),\n",
              " Text(0.9741602067183462, 0.7352941176470589, 'acceleration <= 0.393\\nsquared_error = 0.531\\nsamples = 10\\nvalue = 15.99'),\n",
              " Text(0.9621016365202412, 0.6764705882352942, 'cylinders <= 1.14\\nsquared_error = 0.118\\nsamples = 6\\nvalue = 15.583'),\n",
              " Text(0.958656330749354, 0.6176470588235294, 'squared_error = 0.0\\nsamples = 1\\nvalue = 15.0'),\n",
              " Text(0.9655469422911284, 0.6176470588235294, 'origin <= -0.115\\nsquared_error = 0.06\\nsamples = 5\\nvalue = 15.7'),\n",
              " Text(0.9621016365202412, 0.5588235294117647, 'squared_error = 0.0\\nsamples = 3\\nvalue = 15.5'),\n",
              " Text(0.9689922480620154, 0.5588235294117647, 'squared_error = 0.0\\nsamples = 2\\nvalue = 16.0'),\n",
              " Text(0.9862187769164513, 0.6764705882352942, 'cylinders <= 1.533\\nsquared_error = 0.53\\nsamples = 4\\nvalue = 16.6'),\n",
              " Text(0.979328165374677, 0.6176470588235294, 'acceleration <= 0.663\\nsquared_error = 0.09\\nsamples = 2\\nvalue = 17.2'),\n",
              " Text(0.9758828596037898, 0.5588235294117647, 'squared_error = 0.0\\nsamples = 1\\nvalue = 17.5'),\n",
              " Text(0.9827734711455641, 0.5588235294117647, 'squared_error = -0.0\\nsamples = 1\\nvalue = 16.9'),\n",
              " Text(0.9931093884582257, 0.6176470588235294, 'displacement <= -0.94\\nsquared_error = 0.25\\nsamples = 2\\nvalue = 16.0'),\n",
              " Text(0.9896640826873385, 0.5588235294117647, 'squared_error = 0.0\\nsamples = 1\\nvalue = 16.5'),\n",
              " Text(0.9965546942291128, 0.5588235294117647, 'squared_error = 0.0\\nsamples = 1\\nvalue = 15.5')]"
            ]
          },
          "metadata": {},
          "execution_count": 38
        },
        {
          "output_type": "display_data",
          "data": {
            "text/plain": [
              "<Figure size 2500x2500 with 1 Axes>"
            ],
            "image/png": "[encoded data removed]"
          },
          "metadata": {}
        }
      ]
    },
    {
      "cell_type": "markdown",
      "source": [
        "3.**SVM** SUPPORT VECTOR MACHINE ALGORITHM"
      ],
      "metadata": {
        "id": "R-otCD_v4e2Q"
      }
    },
    {
      "cell_type": "code",
      "source": [
        "from sklearn.svm import SVR\n",
        "svm = SVR(kernel='rbf')\n",
        "svm.fit(x_train, y_train)"
      ],
      "metadata": {
        "colab": {
          "base_uri": "https://localhost:8080/",
          "height": 75
        },
        "id": "ABCW0SrS4cZP",
        "outputId": "45b2995c-ba5a-44d1-eace-2c5d32b58448"
      },
      "execution_count": null,
      "outputs": [
        {
          "output_type": "execute_result",
          "data": {
            "text/plain": [
              "SVR()"
            ],
            "text/html": [
              "<style>#sk-container-id-3 {color: black;}#sk-container-id-3 pre{padding: 0;}#sk-container-id-3 div.sk-toggleable {background-color: white;}#sk-container-id-3 label.sk-toggleable__label {cursor: pointer;display: block;width: 100%;margin-bottom: 0;padding: 0.3em;box-sizing: border-box;text-align: center;}#sk-container-id-3 label.sk-toggleable__label-arrow:before {content: \"▸\";float: left;margin-right: 0.25em;color: #696969;}#sk-container-id-3 label.sk-toggleable__label-arrow:hover:before {color: black;}#sk-container-id-3 div.sk-estimator:hover label.sk-toggleable__label-arrow:before {color: black;}#sk-container-id-3 div.sk-toggleable__content {max-height: 0;max-width: 0;overflow: hidden;text-align: left;background-color: #f0f8ff;}#sk-container-id-3 div.sk-toggleable__content pre {margin: 0.2em;color: black;border-radius: 0.25em;background-color: #f0f8ff;}#sk-container-id-3 input.sk-toggleable__control:checked~div.sk-toggleable__content {max-height: 200px;max-width: 100%;overflow: auto;}#sk-container-id-3 input.sk-toggleable__control:checked~label.sk-toggleable__label-arrow:before {content: \"▾\";}#sk-container-id-3 div.sk-estimator input.sk-toggleable__control:checked~label.sk-toggleable__label {background-color: #d4ebff;}#sk-container-id-3 div.sk-label input.sk-toggleable__control:checked~label.sk-toggleable__label {background-color: #d4ebff;}#sk-container-id-3 input.sk-hidden--visually {border: 0;clip: rect(1px 1px 1px 1px);clip: rect(1px, 1px, 1px, 1px);height: 1px;margin: -1px;overflow: hidden;padding: 0;position: absolute;width: 1px;}#sk-container-id-3 div.sk-estimator {font-family: monospace;background-color: #f0f8ff;border: 1px dotted black;border-radius: 0.25em;box-sizing: border-box;margin-bottom: 0.5em;}#sk-container-id-3 div.sk-estimator:hover {background-color: #d4ebff;}#sk-container-id-3 div.sk-parallel-item::after {content: \"\";width: 100%;border-bottom: 1px solid gray;flex-grow: 1;}#sk-container-id-3 div.sk-label:hover label.sk-toggleable__label {background-color: #d4ebff;}#sk-container-id-3 div.sk-serial::before {content: \"\";position: absolute;border-left: 1px solid gray;box-sizing: border-box;top: 0;bottom: 0;left: 50%;z-index: 0;}#sk-container-id-3 div.sk-serial {display: flex;flex-direction: column;align-items: center;background-color: white;padding-right: 0.2em;padding-left: 0.2em;position: relative;}#sk-container-id-3 div.sk-item {position: relative;z-index: 1;}#sk-container-id-3 div.sk-parallel {display: flex;align-items: stretch;justify-content: center;background-color: white;position: relative;}#sk-container-id-3 div.sk-item::before, #sk-container-id-3 div.sk-parallel-item::before {content: \"\";position: absolute;border-left: 1px solid gray;box-sizing: border-box;top: 0;bottom: 0;left: 50%;z-index: -1;}#sk-container-id-3 div.sk-parallel-item {display: flex;flex-direction: column;z-index: 1;position: relative;background-color: white;}#sk-container-id-3 div.sk-parallel-item:first-child::after {align-self: flex-end;width: 50%;}#sk-container-id-3 div.sk-parallel-item:last-child::after {align-self: flex-start;width: 50%;}#sk-container-id-3 div.sk-parallel-item:only-child::after {width: 0;}#sk-container-id-3 div.sk-dashed-wrapped {border: 1px dashed gray;margin: 0 0.4em 0.5em 0.4em;box-sizing: border-box;padding-bottom: 0.4em;background-color: white;}#sk-container-id-3 div.sk-label label {font-family: monospace;font-weight: bold;display: inline-block;line-height: 1.2em;}#sk-container-id-3 div.sk-label-container {text-align: center;}#sk-container-id-3 div.sk-container {/* jupyter's `normalize.less` sets `[hidden] { display: none; }` but bootstrap.min.css set `[hidden] { display: none !important; }` so we also need the `!important` here to be able to override the default hidden behavior on the sphinx rendered scikit-learn.org. See: https://github.com/scikit-learn/scikit-learn/issues/21755 */display: inline-block !important;position: relative;}#sk-container-id-3 div.sk-text-repr-fallback {display: none;}</style><div id=\"sk-container-id-3\" class=\"sk-top-container\"><div class=\"sk-text-repr-fallback\"><pre>SVR()</pre><b>In a Jupyter environment, please rerun this cell to show the HTML representation or trust the notebook. <br />On GitHub, the HTML representation is unable to render, please try loading this page with nbviewer.org.</b></div><div class=\"sk-container\" hidden><div class=\"sk-item\"><div class=\"sk-estimator sk-toggleable\"><input class=\"sk-toggleable__control sk-hidden--visually\" id=\"sk-estimator-id-3\" type=\"checkbox\" checked><label for=\"sk-estimator-id-3\" class=\"sk-toggleable__label sk-toggleable__label-arrow\">SVR</label><div class=\"sk-toggleable__content\"><pre>SVR()</pre></div></div></div></div></div>"
            ]
          },
          "metadata": {},
          "execution_count": 39
        }
      ]
    },
    {
      "cell_type": "code",
      "source": [
        "y_pred2 = svm.predict(x_test)\n",
        "y_pred2"
      ],
      "metadata": {
        "colab": {
          "base_uri": "https://localhost:8080/"
        },
        "id": "la-8GZ1O5mhE",
        "outputId": "d0d83022-10ae-4b06-b0c1-9fdabc3774ef"
      },
      "execution_count": null,
      "outputs": [
        {
          "output_type": "execute_result",
          "data": {
            "text/plain": [
              "array([13.55528597, 23.56301119, 32.40545695, 24.47045785, 31.49522519,\n",
              "       13.0759103 , 13.6932254 , 14.66709841, 14.17092572, 18.44605305,\n",
              "       23.70364833, 24.11653235, 31.06251447, 18.2398825 , 28.01168642,\n",
              "       28.36351292, 18.6307678 , 31.94542996, 34.57333944, 16.18932978,\n",
              "       33.02669817, 18.04395198, 25.67541231, 29.58558545, 12.71426   ,\n",
              "       18.22128327, 22.88249811, 20.90561273, 32.08664276, 17.64650788,\n",
              "       25.97206412, 31.52176265, 19.91785353, 29.38974363, 15.78561407,\n",
              "       31.99190003, 21.0912784 , 26.83555607, 15.60370451, 32.61952747,\n",
              "       17.68989626, 19.03538032, 18.02833905, 26.52012413, 27.28680563,\n",
              "       32.50968398, 16.56567079, 14.72230812, 32.61182621, 25.67944471,\n",
              "       27.34770502, 20.63388557, 26.6667156 , 26.79034212, 24.31589175,\n",
              "       13.30805287, 28.88962126, 18.72732634, 14.35936412, 23.19342651,\n",
              "       29.83550133, 29.63062396, 33.53241852, 20.11849512, 17.66343659,\n",
              "       32.38175225, 20.11598209, 23.46398874, 13.36201319, 32.88692623,\n",
              "       18.15902399, 28.45253349, 14.30634237, 30.27533712, 29.56202064,\n",
              "       18.132226  , 17.87249997, 12.98246909, 19.8027992 , 29.7356124 ])"
            ]
          },
          "metadata": {},
          "execution_count": 40
        }
      ]
    },
    {
      "cell_type": "markdown",
      "source": [
        "EVALUATION"
      ],
      "metadata": {
        "id": "yS-ZMCl95029"
      }
    },
    {
      "cell_type": "code",
      "source": [
        "trainingscore = svm.score(x_train,y_train)\n",
        "testscore = svm.score(x_test,y_test)\n",
        "print('Training Score = ',trainingscore)\n",
        "print('Testing Score = ',testscore)\n"
      ],
      "metadata": {
        "colab": {
          "base_uri": "https://localhost:8080/"
        },
        "id": "w067wS7f52ae",
        "outputId": "392b6b2f-1485-4f3e-d4f9-da81003dbc2f"
      },
      "execution_count": null,
      "outputs": [
        {
          "output_type": "stream",
          "name": "stdout",
          "text": [
            "Training Score =  0.839359120801862\n",
            "Testing Score =  0.8436457863857627\n"
          ]
        }
      ]
    },
    {
      "cell_type": "code",
      "source": [
        "mse = mean_squared_error(y_test, y_pred2)\n",
        "r2 = r2_score(y_test, y_pred2)\n",
        "\n",
        "print(f'Mean Squared Error: {mse}')\n",
        "print(f'R^2 Score: {r2}')"
      ],
      "metadata": {
        "colab": {
          "base_uri": "https://localhost:8080/"
        },
        "id": "mgmLh_eM5_xJ",
        "outputId": "83bb1878-da8c-4031-8349-e9b30b0fe9ad"
      },
      "execution_count": null,
      "outputs": [
        {
          "output_type": "stream",
          "name": "stdout",
          "text": [
            "Mean Squared Error: 9.617543122178757\n",
            "R^2 Score: 0.8436457863857627\n"
          ]
        }
      ]
    },
    {
      "cell_type": "markdown",
      "source": [
        "4.**LINEAR** **REGRESSION**"
      ],
      "metadata": {
        "id": "H2PreZhw6DRk"
      }
    },
    {
      "cell_type": "code",
      "source": [
        "from sklearn.linear_model import LinearRegression\n",
        "regressor = LinearRegression()\n",
        "regressor.fit(x_train,y_train)"
      ],
      "metadata": {
        "colab": {
          "base_uri": "https://localhost:8080/",
          "height": 75
        },
        "id": "h1kUmlrz6Gd3",
        "outputId": "72c2754d-2e58-4bfa-981b-d00f45500e14"
      },
      "execution_count": null,
      "outputs": [
        {
          "output_type": "execute_result",
          "data": {
            "text/plain": [
              "LinearRegression()"
            ],
            "text/html": [
              "<style>#sk-container-id-4 {color: black;}#sk-container-id-4 pre{padding: 0;}#sk-container-id-4 div.sk-toggleable {background-color: white;}#sk-container-id-4 label.sk-toggleable__label {cursor: pointer;display: block;width: 100%;margin-bottom: 0;padding: 0.3em;box-sizing: border-box;text-align: center;}#sk-container-id-4 label.sk-toggleable__label-arrow:before {content: \"▸\";float: left;margin-right: 0.25em;color: #696969;}#sk-container-id-4 label.sk-toggleable__label-arrow:hover:before {color: black;}#sk-container-id-4 div.sk-estimator:hover label.sk-toggleable__label-arrow:before {color: black;}#sk-container-id-4 div.sk-toggleable__content {max-height: 0;max-width: 0;overflow: hidden;text-align: left;background-color: #f0f8ff;}#sk-container-id-4 div.sk-toggleable__content pre {margin: 0.2em;color: black;border-radius: 0.25em;background-color: #f0f8ff;}#sk-container-id-4 input.sk-toggleable__control:checked~div.sk-toggleable__content {max-height: 200px;max-width: 100%;overflow: auto;}#sk-container-id-4 input.sk-toggleable__control:checked~label.sk-toggleable__label-arrow:before {content: \"▾\";}#sk-container-id-4 div.sk-estimator input.sk-toggleable__control:checked~label.sk-toggleable__label {background-color: #d4ebff;}#sk-container-id-4 div.sk-label input.sk-toggleable__control:checked~label.sk-toggleable__label {background-color: #d4ebff;}#sk-container-id-4 input.sk-hidden--visually {border: 0;clip: rect(1px 1px 1px 1px);clip: rect(1px, 1px, 1px, 1px);height: 1px;margin: -1px;overflow: hidden;padding: 0;position: absolute;width: 1px;}#sk-container-id-4 div.sk-estimator {font-family: monospace;background-color: #f0f8ff;border: 1px dotted black;border-radius: 0.25em;box-sizing: border-box;margin-bottom: 0.5em;}#sk-container-id-4 div.sk-estimator:hover {background-color: #d4ebff;}#sk-container-id-4 div.sk-parallel-item::after {content: \"\";width: 100%;border-bottom: 1px solid gray;flex-grow: 1;}#sk-container-id-4 div.sk-label:hover label.sk-toggleable__label {background-color: #d4ebff;}#sk-container-id-4 div.sk-serial::before {content: \"\";position: absolute;border-left: 1px solid gray;box-sizing: border-box;top: 0;bottom: 0;left: 50%;z-index: 0;}#sk-container-id-4 div.sk-serial {display: flex;flex-direction: column;align-items: center;background-color: white;padding-right: 0.2em;padding-left: 0.2em;position: relative;}#sk-container-id-4 div.sk-item {position: relative;z-index: 1;}#sk-container-id-4 div.sk-parallel {display: flex;align-items: stretch;justify-content: center;background-color: white;position: relative;}#sk-container-id-4 div.sk-item::before, #sk-container-id-4 div.sk-parallel-item::before {content: \"\";position: absolute;border-left: 1px solid gray;box-sizing: border-box;top: 0;bottom: 0;left: 50%;z-index: -1;}#sk-container-id-4 div.sk-parallel-item {display: flex;flex-direction: column;z-index: 1;position: relative;background-color: white;}#sk-container-id-4 div.sk-parallel-item:first-child::after {align-self: flex-end;width: 50%;}#sk-container-id-4 div.sk-parallel-item:last-child::after {align-self: flex-start;width: 50%;}#sk-container-id-4 div.sk-parallel-item:only-child::after {width: 0;}#sk-container-id-4 div.sk-dashed-wrapped {border: 1px dashed gray;margin: 0 0.4em 0.5em 0.4em;box-sizing: border-box;padding-bottom: 0.4em;background-color: white;}#sk-container-id-4 div.sk-label label {font-family: monospace;font-weight: bold;display: inline-block;line-height: 1.2em;}#sk-container-id-4 div.sk-label-container {text-align: center;}#sk-container-id-4 div.sk-container {/* jupyter's `normalize.less` sets `[hidden] { display: none; }` but bootstrap.min.css set `[hidden] { display: none !important; }` so we also need the `!important` here to be able to override the default hidden behavior on the sphinx rendered scikit-learn.org. See: https://github.com/scikit-learn/scikit-learn/issues/21755 */display: inline-block !important;position: relative;}#sk-container-id-4 div.sk-text-repr-fallback {display: none;}</style><div id=\"sk-container-id-4\" class=\"sk-top-container\"><div class=\"sk-text-repr-fallback\"><pre>LinearRegression()</pre><b>In a Jupyter environment, please rerun this cell to show the HTML representation or trust the notebook. <br />On GitHub, the HTML representation is unable to render, please try loading this page with nbviewer.org.</b></div><div class=\"sk-container\" hidden><div class=\"sk-item\"><div class=\"sk-estimator sk-toggleable\"><input class=\"sk-toggleable__control sk-hidden--visually\" id=\"sk-estimator-id-4\" type=\"checkbox\" checked><label for=\"sk-estimator-id-4\" class=\"sk-toggleable__label sk-toggleable__label-arrow\">LinearRegression</label><div class=\"sk-toggleable__content\"><pre>LinearRegression()</pre></div></div></div></div></div>"
            ]
          },
          "metadata": {},
          "execution_count": 43
        }
      ]
    },
    {
      "cell_type": "code",
      "source": [
        "y_pred3 = regressor.predict(x)\n",
        "y_pred3"
      ],
      "metadata": {
        "colab": {
          "base_uri": "https://localhost:8080/"
        },
        "id": "tsMB7-I9qiJ6",
        "outputId": "727aabde-e469-4539-f61e-feca77c2e143",
        "collapsed": true
      },
      "execution_count": null,
      "outputs": [
        {
          "output_type": "stream",
          "name": "stderr",
          "text": [
            "/usr/local/lib/python3.10/dist-packages/sklearn/base.py:458: UserWarning: X has feature names, but LinearRegression was fitted without feature names\n",
            "  warnings.warn(\n"
          ]
        },
        {
          "output_type": "execute_result",
          "data": {
            "text/plain": [
              "array([-19692.61017025, -20726.89387234, -19187.73259588, -19296.29504262,\n",
              "       -19324.55494081, -24328.10778422, -24404.39423985, -24101.36919204,\n",
              "       -24726.56737365, -21594.9879075 , -19884.50380512, -20168.91901426,\n",
              "       -21035.9886578 , -17017.23679096, -13265.61268406, -15846.19473973,\n",
              "       -15601.43920982, -14444.53072813, -11967.87998409, -10166.39907745,\n",
              "       -15052.77632039, -13739.77155   , -13304.94426709, -12595.7857641 ,\n",
              "       -14869.35182287, -26037.95923491, -24760.5479119 , -24756.8087434 ,\n",
              "       -26795.56149356, -11965.03174201, -12692.5657529 , -12424.6570514 ,\n",
              "       -11440.42675133, -14759.04167131, -19356.05136267, -18762.97822537,\n",
              "       -18525.64390714, -18571.38900605, -23725.07155814, -25041.45374824,\n",
              "       -23361.57218238, -23037.7111985 , -27992.84398051, -26740.65200044,\n",
              "       -28980.56406218, -16627.53939003, -13536.87267601, -18396.03518307,\n",
              "       -17580.54316943, -12408.17603065, -11839.90593419, -11616.13314312,\n",
              "       -11591.42013412,  -9846.89398642,  -9002.72199382, -10154.23294315,\n",
              "       -10899.26687758, -12712.35854579, -11936.25450484, -12596.67072473,\n",
              "       -13528.97323055, -12453.18738368, -24101.37267414, -24578.06449191,\n",
              "       -23262.14448792, -23213.10534747, -20690.66205632, -26000.17687818,\n",
              "       -25442.65238762, -25091.25420285, -24872.6284452 , -13127.18680787,\n",
              "       -21969.20634743, -23151.40254472, -24254.13978015, -22918.82485734,\n",
              "       -16536.01702373, -14059.03402994, -16820.4801308 , -12237.14491492,\n",
              "       -13439.6631639 , -12886.30898553, -14027.50455073, -12158.42077241,\n",
              "       -11703.42886348, -23096.11694647, -20683.97888746, -22432.18951059,\n",
              "       -22783.40152023, -21226.12211618, -27858.01574984, -25133.28140519,\n",
              "       -24571.21305875, -23854.33228383, -26630.59692141, -27887.42530734,\n",
              "       -21465.46813007, -17493.58529319, -18452.52314903, -16565.70117296,\n",
              "       -16886.19180613, -16251.58969051, -10823.65531985, -28236.6801496 ,\n",
              "       -27668.83061378, -26218.91261398, -25336.16111009, -15656.63824611,\n",
              "       -12746.05603539, -13490.61600502, -13395.24947288, -11929.23265848,\n",
              "       -12940.75625929, -13843.45943189, -12732.45681103, -22978.58034966,\n",
              "       -23947.23643351, -10466.55710284, -12041.95949187, -14606.04093224,\n",
              "       -16154.08262272, -19019.9295589 , -14958.04045312, -15749.91749475,\n",
              "       -20467.61247308, -17403.48064047, -16108.26167911, -16306.1979808 ,\n",
              "       -18788.88832825, -10941.23330429, -13762.76824132, -10205.00015078,\n",
              "       -14310.64445857, -21389.87618868, -20524.79746958, -20361.0854043 ,\n",
              "       -23357.29573698, -26588.51067071, -25188.86393381, -26255.01836031,\n",
              "       -24091.33083549, -12510.99951465, -10927.24883091, -12897.35889555,\n",
              "        -9108.96989143, -11247.76600972, -11940.31923143, -11829.90692783,\n",
              "       -12594.75022875, -13976.12681835, -13379.71763201, -11218.12466638,\n",
              "       -18294.82059752, -19502.98423749, -19259.6173421 , -17683.07331844,\n",
              "       -26220.79891086, -25068.85492119, -25370.10756736, -26282.10872762,\n",
              "       -22161.38993593, -22066.41450447, -21093.17363145, -21339.79051685,\n",
              "       -17095.99108048, -18096.70965162, -17682.29096726, -12114.26884892,\n",
              "       -14826.51799703, -16379.65897618, -14513.03830158, -15144.34972102,\n",
              "       -12421.68595612, -14338.57185846, -16786.52295198, -10753.34418716,\n",
              "       -18082.96755135, -15250.3754821 , -16684.81462471, -16570.37730683,\n",
              "       -15015.77652762,  -9980.89738429, -13869.59168268, -12393.08313062,\n",
              "       -14486.51686452, -12677.50570857, -12290.13617132, -23822.95216208,\n",
              "       -23626.90536303, -22371.03420338, -23703.27310013, -18139.74112185,\n",
              "       -18882.45513843, -16907.08125372, -17346.82062466, -11445.02462165,\n",
              "       -12168.23758342, -10743.22222403,  -9980.00822227, -20641.72035369,\n",
              "       -20106.98811026, -20492.5050938 , -17931.04343281, -10086.40073559,\n",
              "       -11159.60818521, -12017.92506741, -14396.56863427, -17776.38436662,\n",
              "       -22105.7584418 , -18505.67715165, -16460.19929379, -21673.9137744 ,\n",
              "       -24714.18133428, -22809.12405306, -21777.40718658, -21087.66693315,\n",
              "       -11421.25601609, -12105.42806626, -10128.37767833, -12840.0752083 ,\n",
              "       -10892.91706179, -21868.48456274, -22917.80547102, -23328.73742148,\n",
              "       -24226.33020302, -19855.83404112, -19341.52765627, -20450.22521665,\n",
              "       -19813.36953401, -23599.51121793, -23449.0332174 , -24295.10141045,\n",
              "       -24391.68300991, -10751.04013029, -15345.62871009, -12654.52700294,\n",
              "       -15496.55753184, -11514.62644065, -11622.28468501, -11027.56450248,\n",
              "       -12211.39082222, -15865.71999441, -14710.77256787, -15399.37331731,\n",
              "       -11025.71609574, -10005.63694628, -11096.6949418 , -11618.93246643,\n",
              "       -10001.03651444, -18862.91158026, -20965.76938089, -19990.62758211,\n",
              "       -19876.77531463, -17776.42018918, -16633.91785649, -15299.13944829,\n",
              "       -19281.45101428, -18072.82081735, -19080.00474136, -17216.77402974,\n",
              "       -20453.86283163, -19220.98125823, -19204.58837552, -19448.36344814,\n",
              "       -17888.58909813, -22977.49006306, -12117.05981783, -14307.53124476,\n",
              "       -12903.8003524 , -12510.14843074, -14047.66972269, -15398.43527945,\n",
              "       -16035.42803711, -13519.54471997, -16035.70103255, -17656.7264599 ,\n",
              "       -15730.09591438, -19269.75337754, -11052.95087259, -11943.69515917,\n",
              "       -18182.99926952, -16746.17680797, -16286.6425217 , -18388.93699864,\n",
              "       -18934.81174144, -21631.0762999 , -20915.89747318, -22157.45961344,\n",
              "       -21514.60632945, -24594.3159048 , -22762.77752225, -20316.29623615,\n",
              "       -22109.50540262, -10665.09606644, -11024.97003187, -10685.34035137,\n",
              "       -15095.78750785, -19930.14756104, -21911.55220533, -18000.60643817,\n",
              "       -19153.67289135, -12282.80939788, -11989.01046458, -11332.45773085,\n",
              "       -11943.3288722 , -15033.57564918, -14579.71793302, -15118.18113161,\n",
              "       -14268.6250787 , -11924.66894236, -10930.04719322, -11906.9959789 ,\n",
              "       -11321.89963196, -15069.99337242, -16168.23810285, -16987.73088925,\n",
              "       -19029.64250557, -12317.98379394, -15182.69357339, -14270.20249876,\n",
              "       -13680.21670792, -12631.02532561, -11807.02409356, -15775.39412895,\n",
              "       -11854.58552304, -11596.53196112, -13055.40448712, -16725.08290692,\n",
              "       -18354.68678582, -10286.36317009, -10156.3911108 , -11951.64463712,\n",
              "       -10208.90464499, -16404.6361391 , -13658.76339188, -13969.36832893,\n",
              "       -16361.90433626, -12827.22835198, -13913.55557181, -14826.39260781,\n",
              "       -14699.48375883, -15332.71841053, -13302.24879859,  -9698.543503  ,\n",
              "       -10416.22306162,  -9776.29227777, -11482.71363043, -11063.71063037,\n",
              "       -11401.67359749, -11066.39476434, -12365.61368203, -11429.5925608 ,\n",
              "       -13382.27663739, -12187.8975492 , -12960.10398383, -12354.35567793,\n",
              "       -13123.32191585, -14763.99727834, -14809.80964614, -18226.60033846,\n",
              "       -17772.89198807, -16251.83937652, -16549.98867976, -19276.59556296,\n",
              "       -20809.87672789, -17172.76119651, -19531.67479461, -14703.72901283,\n",
              "       -14907.3437945 , -13478.97143374, -14434.73869504, -14178.4954841 ,\n",
              "       -15302.2017538 , -16130.91395384, -17164.74956559, -10957.25061455,\n",
              "       -11294.99490573, -10974.90528399, -11837.39327318, -11862.60451127,\n",
              "       -12022.42735183, -12326.13541073, -12509.21236674, -10952.40809389,\n",
              "       -10951.63741136, -11167.16743647, -16611.19532566, -16783.55396976,\n",
              "       -14504.90006546, -15830.14717111, -14895.73805021, -13272.74239676,\n",
              "       -16654.87248443, -15688.45489536, -11841.22145472, -12827.69578218,\n",
              "       -14756.14492869, -15353.76098788])"
            ]
          },
          "metadata": {},
          "execution_count": 44
        }
      ]
    },
    {
      "cell_type": "code",
      "source": [
        "trainingscore = regressor.score(x_train,y_train)\n",
        "testscore = regressor.score(x_test,y_test)\n",
        "print('Training Score = ',trainingscore)\n",
        "print('Testing Score = ',testscore)\n"
      ],
      "metadata": {
        "colab": {
          "base_uri": "https://localhost:8080/"
        },
        "id": "ri1FQt1yrG0R",
        "outputId": "0d470289-2b09-487b-be2b-258b81293f22"
      },
      "execution_count": null,
      "outputs": [
        {
          "output_type": "stream",
          "name": "stdout",
          "text": [
            "Training Score =  0.8071337882591054\n",
            "Testing Score =  0.8820106479543097\n"
          ]
        }
      ]
    },
    {
      "cell_type": "code",
      "source": [
        "\n",
        "y_pred3 = regressor.predict(x_test)\n",
        "\n",
        "\n",
        "mse = mean_squared_error(y_test, y_pred3)\n",
        "r2 = r2_score(y_test, y_pred3)\n",
        "\n",
        "print(f'Mean Squared Error: {mse}')\n",
        "print(f'R^2 Score: {r2}')"
      ],
      "metadata": {
        "colab": {
          "base_uri": "https://localhost:8080/"
        },
        "id": "DYzQIevoihb6",
        "outputId": "d08d56a6-3525-4798-d7a2-e132e537ec3c"
      },
      "execution_count": null,
      "outputs": [
        {
          "output_type": "stream",
          "name": "stdout",
          "text": [
            "Mean Squared Error: 7.257672531020466\n",
            "R^2 Score: 0.8820106479543097\n"
          ]
        }
      ]
    },
    {
      "cell_type": "markdown",
      "source": [
        "6.**RANDOM** **FOREST**"
      ],
      "metadata": {
        "id": "NAX4u2lLrkMy"
      }
    },
    {
      "cell_type": "code",
      "source": [
        "from sklearn.ensemble import RandomForestRegressor\n",
        "rf = RandomForestRegressor(n_estimators=20,criterion='squared_error',max_depth=5,max_features=5)\n",
        "rf.fit(x_train,y_train)"
      ],
      "metadata": {
        "colab": {
          "base_uri": "https://localhost:8080/",
          "height": 75
        },
        "id": "W_1CRasPrQp9",
        "outputId": "ce61efe8-6e5c-4eff-e477-8ef4c252c92e"
      },
      "execution_count": null,
      "outputs": [
        {
          "output_type": "execute_result",
          "data": {
            "text/plain": [
              "RandomForestRegressor(max_depth=5, max_features=5, n_estimators=20)"
            ],
            "text/html": [
              "<style>#sk-container-id-5 {color: black;}#sk-container-id-5 pre{padding: 0;}#sk-container-id-5 div.sk-toggleable {background-color: white;}#sk-container-id-5 label.sk-toggleable__label {cursor: pointer;display: block;width: 100%;margin-bottom: 0;padding: 0.3em;box-sizing: border-box;text-align: center;}#sk-container-id-5 label.sk-toggleable__label-arrow:before {content: \"▸\";float: left;margin-right: 0.25em;color: #696969;}#sk-container-id-5 label.sk-toggleable__label-arrow:hover:before {color: black;}#sk-container-id-5 div.sk-estimator:hover label.sk-toggleable__label-arrow:before {color: black;}#sk-container-id-5 div.sk-toggleable__content {max-height: 0;max-width: 0;overflow: hidden;text-align: left;background-color: #f0f8ff;}#sk-container-id-5 div.sk-toggleable__content pre {margin: 0.2em;color: black;border-radius: 0.25em;background-color: #f0f8ff;}#sk-container-id-5 input.sk-toggleable__control:checked~div.sk-toggleable__content {max-height: 200px;max-width: 100%;overflow: auto;}#sk-container-id-5 input.sk-toggleable__control:checked~label.sk-toggleable__label-arrow:before {content: \"▾\";}#sk-container-id-5 div.sk-estimator input.sk-toggleable__control:checked~label.sk-toggleable__label {background-color: #d4ebff;}#sk-container-id-5 div.sk-label input.sk-toggleable__control:checked~label.sk-toggleable__label {background-color: #d4ebff;}#sk-container-id-5 input.sk-hidden--visually {border: 0;clip: rect(1px 1px 1px 1px);clip: rect(1px, 1px, 1px, 1px);height: 1px;margin: -1px;overflow: hidden;padding: 0;position: absolute;width: 1px;}#sk-container-id-5 div.sk-estimator {font-family: monospace;background-color: #f0f8ff;border: 1px dotted black;border-radius: 0.25em;box-sizing: border-box;margin-bottom: 0.5em;}#sk-container-id-5 div.sk-estimator:hover {background-color: #d4ebff;}#sk-container-id-5 div.sk-parallel-item::after {content: \"\";width: 100%;border-bottom: 1px solid gray;flex-grow: 1;}#sk-container-id-5 div.sk-label:hover label.sk-toggleable__label {background-color: #d4ebff;}#sk-container-id-5 div.sk-serial::before {content: \"\";position: absolute;border-left: 1px solid gray;box-sizing: border-box;top: 0;bottom: 0;left: 50%;z-index: 0;}#sk-container-id-5 div.sk-serial {display: flex;flex-direction: column;align-items: center;background-color: white;padding-right: 0.2em;padding-left: 0.2em;position: relative;}#sk-container-id-5 div.sk-item {position: relative;z-index: 1;}#sk-container-id-5 div.sk-parallel {display: flex;align-items: stretch;justify-content: center;background-color: white;position: relative;}#sk-container-id-5 div.sk-item::before, #sk-container-id-5 div.sk-parallel-item::before {content: \"\";position: absolute;border-left: 1px solid gray;box-sizing: border-box;top: 0;bottom: 0;left: 50%;z-index: -1;}#sk-container-id-5 div.sk-parallel-item {display: flex;flex-direction: column;z-index: 1;position: relative;background-color: white;}#sk-container-id-5 div.sk-parallel-item:first-child::after {align-self: flex-end;width: 50%;}#sk-container-id-5 div.sk-parallel-item:last-child::after {align-self: flex-start;width: 50%;}#sk-container-id-5 div.sk-parallel-item:only-child::after {width: 0;}#sk-container-id-5 div.sk-dashed-wrapped {border: 1px dashed gray;margin: 0 0.4em 0.5em 0.4em;box-sizing: border-box;padding-bottom: 0.4em;background-color: white;}#sk-container-id-5 div.sk-label label {font-family: monospace;font-weight: bold;display: inline-block;line-height: 1.2em;}#sk-container-id-5 div.sk-label-container {text-align: center;}#sk-container-id-5 div.sk-container {/* jupyter's `normalize.less` sets `[hidden] { display: none; }` but bootstrap.min.css set `[hidden] { display: none !important; }` so we also need the `!important` here to be able to override the default hidden behavior on the sphinx rendered scikit-learn.org. See: https://github.com/scikit-learn/scikit-learn/issues/21755 */display: inline-block !important;position: relative;}#sk-container-id-5 div.sk-text-repr-fallback {display: none;}</style><div id=\"sk-container-id-5\" class=\"sk-top-container\"><div class=\"sk-text-repr-fallback\"><pre>RandomForestRegressor(max_depth=5, max_features=5, n_estimators=20)</pre><b>In a Jupyter environment, please rerun this cell to show the HTML representation or trust the notebook. <br />On GitHub, the HTML representation is unable to render, please try loading this page with nbviewer.org.</b></div><div class=\"sk-container\" hidden><div class=\"sk-item\"><div class=\"sk-estimator sk-toggleable\"><input class=\"sk-toggleable__control sk-hidden--visually\" id=\"sk-estimator-id-5\" type=\"checkbox\" checked><label for=\"sk-estimator-id-5\" class=\"sk-toggleable__label sk-toggleable__label-arrow\">RandomForestRegressor</label><div class=\"sk-toggleable__content\"><pre>RandomForestRegressor(max_depth=5, max_features=5, n_estimators=20)</pre></div></div></div></div></div>"
            ]
          },
          "metadata": {},
          "execution_count": 46
        }
      ]
    },
    {
      "cell_type": "code",
      "source": [
        "y_pred5 = rf.predict(x_test)\n",
        "\n",
        "print(y_pred5)"
      ],
      "metadata": {
        "colab": {
          "base_uri": "https://localhost:8080/"
        },
        "id": "bI9HxZL5tGOF",
        "outputId": "2b7406e8-bcb2-4f0c-b9cd-7019e746f472"
      },
      "execution_count": null,
      "outputs": [
        {
          "output_type": "stream",
          "name": "stdout",
          "text": [
            "[12.70812759 27.43780132 33.42335385 22.35834934 31.53725403 12.75572226\n",
            " 12.97609771 14.44229441 14.27838718 18.26568959 24.85387031 22.95169592\n",
            " 30.69732543 19.04400525 30.244117   24.25986064 18.59711242 29.46086639\n",
            " 36.92578165 14.73865326 33.16575199 17.44267026 27.7279918  28.91974245\n",
            " 13.25929    17.65592207 23.33057781 20.72208193 33.24078307 17.43312066\n",
            " 29.0914921  33.16575199 20.51733999 28.60075755 13.89237198 31.93770151\n",
            " 20.15289848 30.88708152 12.62844344 37.23647522 18.11058051 19.3121791\n",
            " 21.94327295 24.68815851 25.31992561 37.27336731 14.49281246 14.27791271\n",
            " 34.45322    23.9842167  28.69944806 18.78906201 23.80005967 27.26222816\n",
            " 23.34360441 13.45722577 28.98568989 16.88357601 14.36319154 24.15699312\n",
            " 30.64133922 29.230309   34.79385439 17.62038819 18.36901483 33.15601974\n",
            " 21.17124634 25.45969767 13.46096999 37.40128292 16.35319337 28.66924063\n",
            " 14.17326472 27.97093026 24.84173484 16.91002331 17.4412172  14.04004\n",
            " 18.66029971 30.74952144]\n"
          ]
        }
      ]
    },
    {
      "cell_type": "code",
      "source": [
        "trainingscore = rf.score(x_train,y_train)\n",
        "testscore = rf.score(x_test,y_test)\n",
        "print('Training Score = ',trainingscore)\n",
        "print('Testing Score = ',testscore)\n"
      ],
      "metadata": {
        "colab": {
          "base_uri": "https://localhost:8080/"
        },
        "id": "q2OvDg7VtNVA",
        "outputId": "f9e52a47-d35e-469c-be79-f2c133a4597e"
      },
      "execution_count": null,
      "outputs": [
        {
          "output_type": "stream",
          "name": "stdout",
          "text": [
            "Training Score =  0.9400351160978737\n",
            "Testing Score =  0.859830283475469\n"
          ]
        }
      ]
    },
    {
      "cell_type": "code",
      "source": [
        "mse = mean_squared_error(y_test, y_pred5)\n",
        "r2 = r2_score(y_test, y_pred5)\n",
        "\n",
        "print(f'Mean Squared Error: {mse}')\n",
        "print(f'R^2 Score: {r2}')"
      ],
      "metadata": {
        "colab": {
          "base_uri": "https://localhost:8080/"
        },
        "id": "CwYiVbohl21j",
        "outputId": "9f268f43-6f3c-43bd-894b-f3ce2bcf12fe"
      },
      "execution_count": null,
      "outputs": [
        {
          "output_type": "stream",
          "name": "stdout",
          "text": [
            "Mean Squared Error: 8.622014475569557\n",
            "R^2 Score: 0.859830283475469\n"
          ]
        }
      ]
    },
    {
      "cell_type": "markdown",
      "source": [
        "7.**RANDOM** **SEARCH** **CV**"
      ],
      "metadata": {
        "id": "05x7xI9uuZ5q"
      }
    },
    {
      "cell_type": "code",
      "source": [
        "from sklearn.model_selection import RandomizedSearchCV\n",
        "from scipy.stats import randint as sp_randint\n"
      ],
      "metadata": {
        "id": "9o-qlm9pulGd"
      },
      "execution_count": null,
      "outputs": []
    },
    {
      "cell_type": "code",
      "source": [
        "rfc = RandomForestRegressor(n_estimators=20)\n",
        "rfc.fit(x_train,y_train)"
      ],
      "metadata": {
        "id": "-ulD5jpuuh0x",
        "colab": {
          "base_uri": "https://localhost:8080/",
          "height": 75
        },
        "outputId": "2870e197-bb26-4c8f-f7a0-b305b4856171"
      },
      "execution_count": null,
      "outputs": [
        {
          "output_type": "execute_result",
          "data": {
            "text/plain": [
              "RandomForestRegressor(n_estimators=20)"
            ],
            "text/html": [
              "<style>#sk-container-id-6 {color: black;}#sk-container-id-6 pre{padding: 0;}#sk-container-id-6 div.sk-toggleable {background-color: white;}#sk-container-id-6 label.sk-toggleable__label {cursor: pointer;display: block;width: 100%;margin-bottom: 0;padding: 0.3em;box-sizing: border-box;text-align: center;}#sk-container-id-6 label.sk-toggleable__label-arrow:before {content: \"▸\";float: left;margin-right: 0.25em;color: #696969;}#sk-container-id-6 label.sk-toggleable__label-arrow:hover:before {color: black;}#sk-container-id-6 div.sk-estimator:hover label.sk-toggleable__label-arrow:before {color: black;}#sk-container-id-6 div.sk-toggleable__content {max-height: 0;max-width: 0;overflow: hidden;text-align: left;background-color: #f0f8ff;}#sk-container-id-6 div.sk-toggleable__content pre {margin: 0.2em;color: black;border-radius: 0.25em;background-color: #f0f8ff;}#sk-container-id-6 input.sk-toggleable__control:checked~div.sk-toggleable__content {max-height: 200px;max-width: 100%;overflow: auto;}#sk-container-id-6 input.sk-toggleable__control:checked~label.sk-toggleable__label-arrow:before {content: \"▾\";}#sk-container-id-6 div.sk-estimator input.sk-toggleable__control:checked~label.sk-toggleable__label {background-color: #d4ebff;}#sk-container-id-6 div.sk-label input.sk-toggleable__control:checked~label.sk-toggleable__label {background-color: #d4ebff;}#sk-container-id-6 input.sk-hidden--visually {border: 0;clip: rect(1px 1px 1px 1px);clip: rect(1px, 1px, 1px, 1px);height: 1px;margin: -1px;overflow: hidden;padding: 0;position: absolute;width: 1px;}#sk-container-id-6 div.sk-estimator {font-family: monospace;background-color: #f0f8ff;border: 1px dotted black;border-radius: 0.25em;box-sizing: border-box;margin-bottom: 0.5em;}#sk-container-id-6 div.sk-estimator:hover {background-color: #d4ebff;}#sk-container-id-6 div.sk-parallel-item::after {content: \"\";width: 100%;border-bottom: 1px solid gray;flex-grow: 1;}#sk-container-id-6 div.sk-label:hover label.sk-toggleable__label {background-color: #d4ebff;}#sk-container-id-6 div.sk-serial::before {content: \"\";position: absolute;border-left: 1px solid gray;box-sizing: border-box;top: 0;bottom: 0;left: 50%;z-index: 0;}#sk-container-id-6 div.sk-serial {display: flex;flex-direction: column;align-items: center;background-color: white;padding-right: 0.2em;padding-left: 0.2em;position: relative;}#sk-container-id-6 div.sk-item {position: relative;z-index: 1;}#sk-container-id-6 div.sk-parallel {display: flex;align-items: stretch;justify-content: center;background-color: white;position: relative;}#sk-container-id-6 div.sk-item::before, #sk-container-id-6 div.sk-parallel-item::before {content: \"\";position: absolute;border-left: 1px solid gray;box-sizing: border-box;top: 0;bottom: 0;left: 50%;z-index: -1;}#sk-container-id-6 div.sk-parallel-item {display: flex;flex-direction: column;z-index: 1;position: relative;background-color: white;}#sk-container-id-6 div.sk-parallel-item:first-child::after {align-self: flex-end;width: 50%;}#sk-container-id-6 div.sk-parallel-item:last-child::after {align-self: flex-start;width: 50%;}#sk-container-id-6 div.sk-parallel-item:only-child::after {width: 0;}#sk-container-id-6 div.sk-dashed-wrapped {border: 1px dashed gray;margin: 0 0.4em 0.5em 0.4em;box-sizing: border-box;padding-bottom: 0.4em;background-color: white;}#sk-container-id-6 div.sk-label label {font-family: monospace;font-weight: bold;display: inline-block;line-height: 1.2em;}#sk-container-id-6 div.sk-label-container {text-align: center;}#sk-container-id-6 div.sk-container {/* jupyter's `normalize.less` sets `[hidden] { display: none; }` but bootstrap.min.css set `[hidden] { display: none !important; }` so we also need the `!important` here to be able to override the default hidden behavior on the sphinx rendered scikit-learn.org. See: https://github.com/scikit-learn/scikit-learn/issues/21755 */display: inline-block !important;position: relative;}#sk-container-id-6 div.sk-text-repr-fallback {display: none;}</style><div id=\"sk-container-id-6\" class=\"sk-top-container\"><div class=\"sk-text-repr-fallback\"><pre>RandomForestRegressor(n_estimators=20)</pre><b>In a Jupyter environment, please rerun this cell to show the HTML representation or trust the notebook. <br />On GitHub, the HTML representation is unable to render, please try loading this page with nbviewer.org.</b></div><div class=\"sk-container\" hidden><div class=\"sk-item\"><div class=\"sk-estimator sk-toggleable\"><input class=\"sk-toggleable__control sk-hidden--visually\" id=\"sk-estimator-id-6\" type=\"checkbox\" checked><label for=\"sk-estimator-id-6\" class=\"sk-toggleable__label sk-toggleable__label-arrow\">RandomForestRegressor</label><div class=\"sk-toggleable__content\"><pre>RandomForestRegressor(n_estimators=20)</pre></div></div></div></div></div>"
            ]
          },
          "metadata": {},
          "execution_count": 50
        }
      ]
    },
    {
      "cell_type": "code",
      "source": [
        "y_pred =rfc.predict(x_test)"
      ],
      "metadata": {
        "id": "l-xSSL3Bu433"
      },
      "execution_count": null,
      "outputs": []
    },
    {
      "cell_type": "code",
      "source": [
        "param_dist ={\"max_depth\":[3,4,5,6,78,None],\n",
        "             \"max_features\":sp_randint(1,11),\n",
        "             \"min_samples_split\":sp_randint(2,11),\n",
        "             \"criterion\":['squared_error','absolute_error']}"
      ],
      "metadata": {
        "id": "8LUUxTcgv4pe"
      },
      "execution_count": null,
      "outputs": []
    },
    {
      "cell_type": "code",
      "source": [
        "rfc1 = RandomForestRegressor(n_estimators=20)\n"
      ],
      "metadata": {
        "id": "NK690cs9EuDG"
      },
      "execution_count": null,
      "outputs": []
    },
    {
      "cell_type": "code",
      "source": [
        "randomCV = RandomizedSearchCV(rfc1,param_distributions=param_dist,cv=10)"
      ],
      "metadata": {
        "id": "aLkTSlYQEwtL"
      },
      "execution_count": null,
      "outputs": []
    },
    {
      "cell_type": "code",
      "source": [
        "randomCV.fit(x_train,y_train)\n",
        "print(randomCV.best_params_)"
      ],
      "metadata": {
        "colab": {
          "base_uri": "https://localhost:8080/"
        },
        "id": "QeE2V9jxFHpJ",
        "outputId": "8c291ea1-0f15-4f04-c800-8267cdf5dcc2"
      },
      "execution_count": null,
      "outputs": [
        {
          "output_type": "stream",
          "name": "stdout",
          "text": [
            "{'criterion': 'absolute_error', 'max_depth': 78, 'max_features': 3, 'min_samples_split': 6}\n"
          ]
        }
      ]
    },
    {
      "cell_type": "code",
      "source": [
        "print(randomCV.score(x_test,y_test))"
      ],
      "metadata": {
        "colab": {
          "base_uri": "https://localhost:8080/"
        },
        "id": "65WOMWJlFP1a",
        "outputId": "dec45162-0e4e-4be9-f9a8-f915eba2f36a"
      },
      "execution_count": null,
      "outputs": [
        {
          "output_type": "stream",
          "name": "stdout",
          "text": [
            "0.8662568915239083\n"
          ]
        }
      ]
    },
    {
      "cell_type": "code",
      "source": [
        "rfc2 = RandomForestRegressor(n_estimators=50,criterion='absolute_error',max_depth=78,max_features=3,min_samples_split=6)"
      ],
      "metadata": {
        "id": "Dt5JSrxeFU3t"
      },
      "execution_count": null,
      "outputs": []
    },
    {
      "cell_type": "code",
      "source": [
        "rfc2.fit(x_train,y_train)\n",
        "y_pred = rfc2.predict(x_test)\n"
      ],
      "metadata": {
        "id": "4kq5ZawOFXG0"
      },
      "execution_count": null,
      "outputs": []
    },
    {
      "cell_type": "code",
      "source": [
        "training_score = rfc2.score(x_train,y_train)\n",
        "training_score"
      ],
      "metadata": {
        "colab": {
          "base_uri": "https://localhost:8080/"
        },
        "id": "SS7G0C-cFbwY",
        "outputId": "73a6b6a5-22f9-48f4-90d3-7053b330e541"
      },
      "execution_count": null,
      "outputs": [
        {
          "output_type": "execute_result",
          "data": {
            "text/plain": [
              "0.9587951951882022"
            ]
          },
          "metadata": {},
          "execution_count": 73
        }
      ]
    },
    {
      "cell_type": "code",
      "source": [
        "trainingscore = rfc2.score(x_train,y_train)\n",
        "testscore = rfc2.score(x_test,y_test)\n",
        "print('Training Score = ',trainingscore)\n",
        "print('Testing Score = ',testscore)\n"
      ],
      "metadata": {
        "colab": {
          "base_uri": "https://localhost:8080/"
        },
        "id": "mvFSg27jjdvK",
        "outputId": "895dd1e1-058d-48f8-c78e-fafd84d213e8"
      },
      "execution_count": null,
      "outputs": [
        {
          "output_type": "stream",
          "name": "stdout",
          "text": [
            "Training Score =  0.9587951951882022\n",
            "Testing Score =  0.8509646670324535\n"
          ]
        }
      ]
    },
    {
      "cell_type": "code",
      "source": [
        "mse = mean_squared_error(y_test, y_pred5)\n",
        "r2 = r2_score(y_test, y_pred5)\n",
        "\n",
        "print(f'Mean Squared Error: {mse}')\n",
        "print(f'R^2 Score: {r2}')"
      ],
      "metadata": {
        "colab": {
          "base_uri": "https://localhost:8080/"
        },
        "id": "zLWYrccwmRBk",
        "outputId": "3ae2269e-7bb2-4d58-a763-95c4e2ecd279"
      },
      "execution_count": null,
      "outputs": [
        {
          "output_type": "stream",
          "name": "stdout",
          "text": [
            "Mean Squared Error: 8.622014475569557\n",
            "R^2 Score: 0.859830283475469\n"
          ]
        }
      ]
    },
    {
      "cell_type": "markdown",
      "source": [
        "Acoording to these models, Ensemble model provides the best training and testing score rather than than other model."
      ],
      "metadata": {
        "id": "hZeKWnyStBDp"
      }
    },
    {
      "cell_type": "markdown",
      "source": [],
      "metadata": {
        "id": "Ch_6jfjotHdo"
      }
    },
    {
      "cell_type": "code",
      "source": [],
      "metadata": {
        "id": "-ToflonJtLeI"
      },
      "execution_count": null,
      "outputs": []
    }
  ]
}